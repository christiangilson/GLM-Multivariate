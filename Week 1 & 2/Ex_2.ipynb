{
 "cells": [
  {
   "cell_type": "code",
   "execution_count": 1,
   "metadata": {},
   "outputs": [
    {
     "data": {
      "text/html": [
       "<table>\n",
       "<caption>A data.frame: 12 × 4</caption>\n",
       "<thead>\n",
       "\t<tr><th scope=col>dead</th><th scope=col>number</th><th scope=col>prop</th><th scope=col>sex</th></tr>\n",
       "\t<tr><th scope=col>&lt;dbl&gt;</th><th scope=col>&lt;dbl&gt;</th><th scope=col>&lt;dbl&gt;</th><th scope=col>&lt;fct&gt;</th></tr>\n",
       "</thead>\n",
       "<tbody>\n",
       "\t<tr><td> 1</td><td>20</td><td>0.05</td><td>M</td></tr>\n",
       "\t<tr><td> 4</td><td>20</td><td>0.20</td><td>M</td></tr>\n",
       "\t<tr><td> 9</td><td>20</td><td>0.45</td><td>M</td></tr>\n",
       "\t<tr><td>13</td><td>20</td><td>0.65</td><td>M</td></tr>\n",
       "\t<tr><td>18</td><td>20</td><td>0.90</td><td>M</td></tr>\n",
       "\t<tr><td>20</td><td>20</td><td>1.00</td><td>M</td></tr>\n",
       "\t<tr><td> 0</td><td>20</td><td>0.00</td><td>F</td></tr>\n",
       "\t<tr><td> 2</td><td>20</td><td>0.10</td><td>F</td></tr>\n",
       "\t<tr><td> 6</td><td>20</td><td>0.30</td><td>F</td></tr>\n",
       "\t<tr><td>10</td><td>20</td><td>0.50</td><td>F</td></tr>\n",
       "\t<tr><td>12</td><td>20</td><td>0.60</td><td>F</td></tr>\n",
       "\t<tr><td>16</td><td>20</td><td>0.80</td><td>F</td></tr>\n",
       "</tbody>\n",
       "</table>\n"
      ],
      "text/latex": [
       "A data.frame: 12 × 4\n",
       "\\begin{tabular}{r|llll}\n",
       " dead & number & prop & sex\\\\\n",
       " <dbl> & <dbl> & <dbl> & <fct>\\\\\n",
       "\\hline\n",
       "\t  1 & 20 & 0.05 & M\\\\\n",
       "\t  4 & 20 & 0.20 & M\\\\\n",
       "\t  9 & 20 & 0.45 & M\\\\\n",
       "\t 13 & 20 & 0.65 & M\\\\\n",
       "\t 18 & 20 & 0.90 & M\\\\\n",
       "\t 20 & 20 & 1.00 & M\\\\\n",
       "\t  0 & 20 & 0.00 & F\\\\\n",
       "\t  2 & 20 & 0.10 & F\\\\\n",
       "\t  6 & 20 & 0.30 & F\\\\\n",
       "\t 10 & 20 & 0.50 & F\\\\\n",
       "\t 12 & 20 & 0.60 & F\\\\\n",
       "\t 16 & 20 & 0.80 & F\\\\\n",
       "\\end{tabular}\n"
      ],
      "text/markdown": [
       "\n",
       "A data.frame: 12 × 4\n",
       "\n",
       "| dead &lt;dbl&gt; | number &lt;dbl&gt; | prop &lt;dbl&gt; | sex &lt;fct&gt; |\n",
       "|---|---|---|---|\n",
       "|  1 | 20 | 0.05 | M |\n",
       "|  4 | 20 | 0.20 | M |\n",
       "|  9 | 20 | 0.45 | M |\n",
       "| 13 | 20 | 0.65 | M |\n",
       "| 18 | 20 | 0.90 | M |\n",
       "| 20 | 20 | 1.00 | M |\n",
       "|  0 | 20 | 0.00 | F |\n",
       "|  2 | 20 | 0.10 | F |\n",
       "|  6 | 20 | 0.30 | F |\n",
       "| 10 | 20 | 0.50 | F |\n",
       "| 12 | 20 | 0.60 | F |\n",
       "| 16 | 20 | 0.80 | F |\n",
       "\n"
      ],
      "text/plain": [
       "   dead number prop sex\n",
       "1   1   20     0.05 M  \n",
       "2   4   20     0.20 M  \n",
       "3   9   20     0.45 M  \n",
       "4  13   20     0.65 M  \n",
       "5  18   20     0.90 M  \n",
       "6  20   20     1.00 M  \n",
       "7   0   20     0.00 F  \n",
       "8   2   20     0.10 F  \n",
       "9   6   20     0.30 F  \n",
       "10 10   20     0.50 F  \n",
       "11 12   20     0.60 F  \n",
       "12 16   20     0.80 F  "
      ]
     },
     "metadata": {},
     "output_type": "display_data"
    }
   ],
   "source": [
    "dead <- c(1, 4, 9, 13, 18, 20, 0, 2, 6, 10, 12, 16)\n",
    "number <- rep(20, 12)\n",
    "sex <- c(rep(\"M\", 6), rep(\"F\", 6))\n",
    "prop <- dead/number\n",
    "budworm.df <- data.frame(dead, number, prop, sex)\n",
    "budworm.df"
   ]
  },
  {
   "cell_type": "code",
   "execution_count": 13,
   "metadata": {},
   "outputs": [],
   "source": [
    "dose <- rep(c(1,2,4,8,16,32),2)\n",
    "ldose <- factor(logb(dose,base=2))"
   ]
  },
  {
   "cell_type": "code",
   "execution_count": 14,
   "metadata": {},
   "outputs": [
    {
     "data": {
      "text/html": [
       "<ol class=list-inline>\n",
       "\t<li>0</li>\n",
       "\t<li>1</li>\n",
       "\t<li>2</li>\n",
       "\t<li>3</li>\n",
       "\t<li>4</li>\n",
       "\t<li>5</li>\n",
       "\t<li>0</li>\n",
       "\t<li>1</li>\n",
       "\t<li>2</li>\n",
       "\t<li>3</li>\n",
       "\t<li>4</li>\n",
       "\t<li>5</li>\n",
       "</ol>\n",
       "\n",
       "<details>\n",
       "\t<summary style=display:list-item;cursor:pointer>\n",
       "\t\t<strong>Levels</strong>:\n",
       "\t</summary>\n",
       "\t<ol class=list-inline>\n",
       "\t\t<li>'0'</li>\n",
       "\t\t<li>'1'</li>\n",
       "\t\t<li>'2'</li>\n",
       "\t\t<li>'3'</li>\n",
       "\t\t<li>'4'</li>\n",
       "\t\t<li>'5'</li>\n",
       "\t</ol>\n",
       "</details>"
      ],
      "text/latex": [
       "\\begin{enumerate*}\n",
       "\\item 0\n",
       "\\item 1\n",
       "\\item 2\n",
       "\\item 3\n",
       "\\item 4\n",
       "\\item 5\n",
       "\\item 0\n",
       "\\item 1\n",
       "\\item 2\n",
       "\\item 3\n",
       "\\item 4\n",
       "\\item 5\n",
       "\\end{enumerate*}\n",
       "\n",
       "\\emph{Levels}: \\begin{enumerate*}\n",
       "\\item '0'\n",
       "\\item '1'\n",
       "\\item '2'\n",
       "\\item '3'\n",
       "\\item '4'\n",
       "\\item '5'\n",
       "\\end{enumerate*}\n"
      ],
      "text/markdown": [
       "1. 0\n",
       "2. 1\n",
       "3. 2\n",
       "4. 3\n",
       "5. 4\n",
       "6. 5\n",
       "7. 0\n",
       "8. 1\n",
       "9. 2\n",
       "10. 3\n",
       "11. 4\n",
       "12. 5\n",
       "\n",
       "\n",
       "\n",
       "**Levels**: 1. '0'\n",
       "2. '1'\n",
       "3. '2'\n",
       "4. '3'\n",
       "5. '4'\n",
       "6. '5'\n",
       "\n",
       "\n"
      ],
      "text/plain": [
       " [1] 0 1 2 3 4 5 0 1 2 3 4 5\n",
       "Levels: 0 1 2 3 4 5"
      ]
     },
     "metadata": {},
     "output_type": "display_data"
    }
   ],
   "source": [
    "ldose"
   ]
  },
  {
   "cell_type": "code",
   "execution_count": 15,
   "metadata": {},
   "outputs": [],
   "source": [
    "budworm.glm <- glm(prop ~ sex * ldose, family = binomial(link='logit'), weights = number)"
   ]
  },
  {
   "cell_type": "code",
   "execution_count": 16,
   "metadata": {},
   "outputs": [
    {
     "data": {
      "text/plain": [
       "\n",
       "Call:\n",
       "glm(formula = prop ~ sex * ldose, family = binomial(link = \"logit\"), \n",
       "    weights = number)\n",
       "\n",
       "Deviance Residuals: \n",
       " [1]  0  0  0  0  0  0  0  0  0  0  0  0\n",
       "\n",
       "Coefficients:\n",
       "             Estimate Std. Error z value Pr(>|z|)\n",
       "(Intercept)   -25.752  52998.328   0.000        1\n",
       "sexM           22.807  52998.328   0.000        1\n",
       "ldose1         23.555  52998.328   0.000        1\n",
       "ldose2         24.904  52998.328   0.000        1\n",
       "ldose3         25.752  52998.328   0.000        1\n",
       "ldose4         26.157  52998.328   0.000        1\n",
       "ldose5         27.138  52998.328   0.001        1\n",
       "sexM:ldose1   -21.996  52998.328   0.000        1\n",
       "sexM:ldose2   -22.161  52998.328   0.000        1\n",
       "sexM:ldose3   -22.188  52998.328   0.000        1\n",
       "sexM:ldose4   -21.016  52998.328   0.000        1\n",
       "sexM:ldose5     1.558  74950.922   0.000        1\n",
       "\n",
       "(Dispersion parameter for binomial family taken to be 1)\n",
       "\n",
       "    Null deviance: 1.2488e+02  on 11  degrees of freedom\n",
       "Residual deviance: 5.2392e-10  on  0  degrees of freedom\n",
       "AIC: 54.11\n",
       "\n",
       "Number of Fisher Scoring iterations: 22\n"
      ]
     },
     "metadata": {},
     "output_type": "display_data"
    }
   ],
   "source": [
    "summary(budworm.glm)"
   ]
  },
  {
   "cell_type": "code",
   "execution_count": 17,
   "metadata": {},
   "outputs": [
    {
     "data": {
      "text/html": [
       "<table>\n",
       "<caption>A anova: 4 × 4</caption>\n",
       "<thead>\n",
       "\t<tr><th></th><th scope=col>Df</th><th scope=col>Deviance</th><th scope=col>Resid. Df</th><th scope=col>Resid. Dev</th></tr>\n",
       "\t<tr><th></th><th scope=col>&lt;int&gt;</th><th scope=col>&lt;dbl&gt;</th><th scope=col>&lt;int&gt;</th><th scope=col>&lt;dbl&gt;</th></tr>\n",
       "</thead>\n",
       "<tbody>\n",
       "\t<tr><th scope=row>NULL</th><td>NA</td><td>        NA</td><td>11</td><td>1.248756e+02</td></tr>\n",
       "\t<tr><th scope=row>sex</th><td> 1</td><td>  6.076979</td><td>10</td><td>1.187986e+02</td></tr>\n",
       "\t<tr><th scope=row>ldose</th><td> 5</td><td>113.785793</td><td> 5</td><td>5.012820e+00</td></tr>\n",
       "\t<tr><th scope=row>sex:ldose</th><td> 5</td><td>  5.012820</td><td> 0</td><td>5.239191e-10</td></tr>\n",
       "</tbody>\n",
       "</table>\n"
      ],
      "text/latex": [
       "A anova: 4 × 4\n",
       "\\begin{tabular}{r|llll}\n",
       "  & Df & Deviance & Resid. Df & Resid. Dev\\\\\n",
       "  & <int> & <dbl> & <int> & <dbl>\\\\\n",
       "\\hline\n",
       "\tNULL & NA &         NA & 11 & 1.248756e+02\\\\\n",
       "\tsex &  1 &   6.076979 & 10 & 1.187986e+02\\\\\n",
       "\tldose &  5 & 113.785793 &  5 & 5.012820e+00\\\\\n",
       "\tsex:ldose &  5 &   5.012820 &  0 & 5.239191e-10\\\\\n",
       "\\end{tabular}\n"
      ],
      "text/markdown": [
       "\n",
       "A anova: 4 × 4\n",
       "\n",
       "| <!--/--> | Df &lt;int&gt; | Deviance &lt;dbl&gt; | Resid. Df &lt;int&gt; | Resid. Dev &lt;dbl&gt; |\n",
       "|---|---|---|---|---|\n",
       "| NULL | NA |         NA | 11 | 1.248756e+02 |\n",
       "| sex |  1 |   6.076979 | 10 | 1.187986e+02 |\n",
       "| ldose |  5 | 113.785793 |  5 | 5.012820e+00 |\n",
       "| sex:ldose |  5 |   5.012820 |  0 | 5.239191e-10 |\n",
       "\n"
      ],
      "text/plain": [
       "          Df Deviance   Resid. Df Resid. Dev  \n",
       "NULL      NA         NA 11        1.248756e+02\n",
       "sex        1   6.076979 10        1.187986e+02\n",
       "ldose      5 113.785793  5        5.012820e+00\n",
       "sex:ldose  5   5.012820  0        5.239191e-10"
      ]
     },
     "metadata": {},
     "output_type": "display_data"
    }
   ],
   "source": [
    "anova(budworm.glm)"
   ]
  },
  {
   "cell_type": "code",
   "execution_count": null,
   "metadata": {},
   "outputs": [],
   "source": []
  }
 ],
 "metadata": {
  "kernelspec": {
   "display_name": "R",
   "language": "R",
   "name": "ir"
  },
  "language_info": {
   "codemirror_mode": "r",
   "file_extension": ".r",
   "mimetype": "text/x-r-source",
   "name": "R",
   "pygments_lexer": "r",
   "version": "3.6.1"
  }
 },
 "nbformat": 4,
 "nbformat_minor": 4
}
