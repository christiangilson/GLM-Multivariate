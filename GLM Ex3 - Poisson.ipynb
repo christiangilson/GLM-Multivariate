{
 "cells": [
  {
   "cell_type": "code",
   "execution_count": 105,
   "metadata": {},
   "outputs": [],
   "source": [
    "library(MASS)"
   ]
  },
  {
   "cell_type": "markdown",
   "metadata": {},
   "source": [
    "## Log-linear Model Excercises\n",
    "\n",
    "### 3 Questions: First two are two-factor, the third is a three-factor model.\n",
    "\n",
    "## Q1) Skin cancer survey\n",
    "\n",
    "* Two factors: **tumour type** (four levels)  and **site** (three levels)\n",
    "    * Both factors are **response** factors (this means that the margins aren't fixed for either of the factor totals - just the overall sample size)\n",
    "    * Therefore this is a **CASE B**.\n",
    "\n",
    "* Fixed number of total patients: $n = 400$.\n",
    "\n",
    "* Therefore each cell count will be Poission, but it's constrained by $n$ and thus:\n",
    "\n",
    "> $f(\\mathbf{y} | n) = \\dfrac{f(\\mathbf{y},n)}{f(n)} = \\dfrac{f(\\mathbf{y})}{f(n)}$,\n",
    "\n",
    "where $f(\\mathbf{y})$ and ${f(n)}$ are both Poission, but the overall conditional joint-probability distribtion $f(\\mathbf{y} | n)$ is multinomial.\n",
    "\n",
    "**The hypothesis tested by an analysis of deviance is one of independence.**\n",
    "\n",
    "Since it's a two-factor contingency table, we denote each cell via $Y_{jk}$, where $Y_{jk} \\sim \\text{Multinomial}(n, \\theta_{jk})$, where the $\\theta_{jk}$ parameter represents the cell probability - the probability that a random observation will fall in the $i-j$th cell, and $n$ is the fixed sample size.\n",
    "\n",
    "For a multinomial random variable $Y_{jk}$, the expectation is:\n",
    "\n",
    "> $E[Y_{jk}] = n\\theta_{jk}$,\n",
    "\n",
    "for where $j$ represents the levels of factor A, $j = 1,2,...,J$, and $k$ represents the levels of factor B, $k = 1,2,...,K$.\n",
    "\n",
    "In this question, **tumour type** is factor A, where $J=4$, and **site** is factor B, where $K=3$.\n",
    "\n",
    "Under the hypothesis of independence, that Factor A is independent of Factor B, we have:\n",
    "\n",
    "> $\\theta_{jk} = \\theta_{j.} \\times \\theta_{.k}$,\n",
    "\n",
    "which is to say, the probability of landing in the $i-j$th cell is equal to the probability of landing in the $j$th row, multiplied by the probability of landing in the $k$th column.\n",
    "\n",
    "Under the independence null, by taking logs of the expectation of our random variable, $Y_{jk}$:\n",
    "\n",
    "> $\\ln(E[Y_{jk}]) = \\ln(\\mu_jk) = \\eta_{jk} = \\ln(n \\times \\theta_{j.} \\times \\theta_{.k}) = \\mu + \\alpha_{j} + \\beta_{k}$.\n",
    "\n",
    "We compare this hypothesis to the alternative, where the two factors are dependent, and this were we'd need an interaction term (which would cause the model to become saturated):\n",
    "\n",
    "> $\\eta_{jk} = \\ln(n \\times \\theta_{jk}) = \\mu + \\alpha_{j} + \\beta_{k} + \\left ( \\alpha \\beta \\right )_{jk}$.\n",
    "\n",
    "Will impose the corner constraint on the model so as to not overparameterise. This will inforce that:\n",
    "\n",
    "> $\\alpha_{1} = 0$\n",
    "\n",
    "> $\\beta_{1} = 0$"
   ]
  },
  {
   "cell_type": "markdown",
   "metadata": {},
   "source": [
    "## Constructing data frame:"
   ]
  },
  {
   "cell_type": "code",
   "execution_count": 1,
   "metadata": {},
   "outputs": [],
   "source": [
    "freq <- c(22,16,19,11,\n",
    "          2,54,33,17,\n",
    "          10,115,73,28)"
   ]
  },
  {
   "cell_type": "code",
   "execution_count": 3,
   "metadata": {},
   "outputs": [],
   "source": [
    "A.site <- factor(c(rep('Head and Neck',4), rep('Trunk',4), rep('Extremeties',4)))"
   ]
  },
  {
   "cell_type": "code",
   "execution_count": 7,
   "metadata": {},
   "outputs": [],
   "source": [
    "B.type <- factor(rep(c('Hutchinsons','Superficial','Nodular','Intermediate'),3))"
   ]
  },
  {
   "cell_type": "code",
   "execution_count": 9,
   "metadata": {},
   "outputs": [],
   "source": [
    "sc <- data.frame(freq,A.site,B.type)"
   ]
  },
  {
   "cell_type": "markdown",
   "metadata": {},
   "source": [
    "## Fitting GLM\n",
    "\n",
    "**Can fit a multinomial via a Poisson so long as the factors which contribute towards the fixed total, $n$, are included in the model**"
   ]
  },
  {
   "cell_type": "code",
   "execution_count": 12,
   "metadata": {},
   "outputs": [
    {
     "data": {
      "text/plain": [
       "\n",
       "Call:\n",
       "glm(formula = freq ~ A.site + B.type, family = poisson(link = \"log\"), \n",
       "    data = sc)\n",
       "\n",
       "Deviance Residuals: \n",
       "    Min       1Q   Median       3Q      Max  \n",
       "-3.0453  -1.0741   0.1297   0.5857   5.1354  \n",
       "\n",
       "Coefficients:\n",
       "                    Estimate Std. Error z value Pr(>|z|)    \n",
       "(Intercept)           2.9554     0.1770  16.696  < 2e-16 ***\n",
       "A.siteHead and Neck  -1.2010     0.1383  -8.683  < 2e-16 ***\n",
       "A.siteTrunk          -0.7571     0.1177  -6.431 1.27e-10 ***\n",
       "B.typeIntermediate    0.4990     0.2174   2.295   0.0217 *  \n",
       "B.typeNodular         1.3020     0.1934   6.731 1.68e-11 ***\n",
       "B.typeSuperficial     1.6940     0.1866   9.079  < 2e-16 ***\n",
       "---\n",
       "Signif. codes:  0 ‘***’ 0.001 ‘**’ 0.01 ‘*’ 0.05 ‘.’ 0.1 ‘ ’ 1\n",
       "\n",
       "(Dispersion parameter for poisson family taken to be 1)\n",
       "\n",
       "    Null deviance: 295.203  on 11  degrees of freedom\n",
       "Residual deviance:  51.795  on  6  degrees of freedom\n",
       "AIC: 122.91\n",
       "\n",
       "Number of Fisher Scoring iterations: 5\n"
      ]
     },
     "metadata": {},
     "output_type": "display_data"
    }
   ],
   "source": [
    "sc.glm <- glm(freq ~ A.site + B.type, family=poisson(link='log'), data=sc)\n",
    "\n",
    "summary(sc.glm)"
   ]
  },
  {
   "cell_type": "code",
   "execution_count": 14,
   "metadata": {},
   "outputs": [
    {
     "data": {
      "text/html": [
       "2.05046502682108e-09"
      ],
      "text/latex": [
       "2.05046502682108e-09"
      ],
      "text/markdown": [
       "2.05046502682108e-09"
      ],
      "text/plain": [
       "[1] 2.050465e-09"
      ]
     },
     "metadata": {},
     "output_type": "display_data"
    }
   ],
   "source": [
    "pchisq(51.795, 6, lower.tail = F)"
   ]
  },
  {
   "cell_type": "markdown",
   "metadata": {},
   "source": [
    "## Analysis of Deviance\n",
    "\n",
    "The (scaled) deviance statistic of 51.795 on 6 degrees of freedom, under the null hypothesis, is drawn from a $\\chi^{2}_{n-p} = \\chi^{2}_{12-5} = \\chi^{2}_{6}$,\n",
    "\n",
    "And therefore we can reject the null hypothesis (that the two factors are independent) at the $100\\alpha\\%$ level if:\n",
    "\n",
    "> $S = D > \\chi^{2}_{6}(\\alpha)$\n",
    "\n",
    "The $p$-value associated with our (scaled) deviance is 2.05046502682108e-09, and thus we can reject the null hypothesis at the 0.1% level, and accept the alternative that our model requires more parameters that are in the saturated model but not the current model.\n",
    "\n",
    "As these additional parameters correspond to interaction terms, we can therefore endorse that **tumour type** and **site** are not independent."
   ]
  },
  {
   "cell_type": "code",
   "execution_count": 15,
   "metadata": {},
   "outputs": [
    {
     "data": {
      "text/html": [
       "<table>\n",
       "<thead><tr><th></th><th scope=col>Df</th><th scope=col>Deviance</th><th scope=col>Resid. Df</th><th scope=col>Resid. Dev</th></tr></thead>\n",
       "<tbody>\n",
       "\t<tr><th scope=row>NULL</th><td>NA       </td><td>       NA</td><td>11       </td><td>295.20301</td></tr>\n",
       "\t<tr><th scope=row>A.site</th><td> 2       </td><td> 98.30215</td><td> 9       </td><td>196.90086</td></tr>\n",
       "\t<tr><th scope=row>B.type</th><td> 3       </td><td>145.10585</td><td> 6       </td><td> 51.79501</td></tr>\n",
       "</tbody>\n",
       "</table>\n"
      ],
      "text/latex": [
       "\\begin{tabular}{r|llll}\n",
       "  & Df & Deviance & Resid. Df & Resid. Dev\\\\\n",
       "\\hline\n",
       "\tNULL & NA        &        NA & 11        & 295.20301\\\\\n",
       "\tA.site &  2        &  98.30215 &  9        & 196.90086\\\\\n",
       "\tB.type &  3        & 145.10585 &  6        &  51.79501\\\\\n",
       "\\end{tabular}\n"
      ],
      "text/markdown": [
       "\n",
       "| <!--/--> | Df | Deviance | Resid. Df | Resid. Dev |\n",
       "|---|---|---|---|---|\n",
       "| NULL | NA        |        NA | 11        | 295.20301 |\n",
       "| A.site |  2        |  98.30215 |  9        | 196.90086 |\n",
       "| B.type |  3        | 145.10585 |  6        |  51.79501 |\n",
       "\n"
      ],
      "text/plain": [
       "       Df Deviance  Resid. Df Resid. Dev\n",
       "NULL   NA        NA 11        295.20301 \n",
       "A.site  2  98.30215  9        196.90086 \n",
       "B.type  3 145.10585  6         51.79501 "
      ]
     },
     "metadata": {},
     "output_type": "display_data"
    }
   ],
   "source": [
    "anova(sc.glm)"
   ]
  },
  {
   "cell_type": "code",
   "execution_count": 16,
   "metadata": {},
   "outputs": [
    {
     "data": {
      "text/html": [
       "400.000000009934"
      ],
      "text/latex": [
       "400.000000009934"
      ],
      "text/markdown": [
       "400.000000009934"
      ],
      "text/plain": [
       "[1] 400"
      ]
     },
     "metadata": {},
     "output_type": "display_data"
    }
   ],
   "source": [
    "# note the sum of the fitted model = n\n",
    "sum(fitted(sc.glm))"
   ]
  },
  {
   "cell_type": "markdown",
   "metadata": {},
   "source": [
    "## b) chi-squared test (unfamiliar with this!)\n",
    "\n",
    "**The fitted values under independence are**\n",
    "\n",
    "> $\\dfrac{\\text{row total} \\times \\text{column total}}{\\text{overall total}}$\n",
    "\n",
    "**Chi-Square Statistic**\n",
    "\n",
    "> $\\sum \\dfrac{\\left (O_{i} - E_{i} \\right )^{2}}{E_{i}}$\n",
    "\n",
    "And compare this on chi-squared distribution on $(J-1)(K-1)$ degrees of freedom"
   ]
  },
  {
   "cell_type": "code",
   "execution_count": 21,
   "metadata": {},
   "outputs": [],
   "source": [
    "sc.fitted <- fitted(sc.glm)"
   ]
  },
  {
   "cell_type": "code",
   "execution_count": 24,
   "metadata": {},
   "outputs": [],
   "source": [
    "X2 <- sum((freq-sc.fitted)**2/sc.fitted)"
   ]
  },
  {
   "cell_type": "code",
   "execution_count": 25,
   "metadata": {},
   "outputs": [
    {
     "data": {
      "text/html": [
       "65.8129269874359"
      ],
      "text/latex": [
       "65.8129269874359"
      ],
      "text/markdown": [
       "65.8129269874359"
      ],
      "text/plain": [
       "[1] 65.81293"
      ]
     },
     "metadata": {},
     "output_type": "display_data"
    }
   ],
   "source": [
    "X2"
   ]
  },
  {
   "cell_type": "code",
   "execution_count": 26,
   "metadata": {},
   "outputs": [
    {
     "data": {
      "text/html": [
       "2.94318172133025e-12"
      ],
      "text/latex": [
       "2.94318172133025e-12"
      ],
      "text/markdown": [
       "2.94318172133025e-12"
      ],
      "text/plain": [
       "[1] 2.943182e-12"
      ]
     },
     "metadata": {},
     "output_type": "display_data"
    }
   ],
   "source": [
    "pchisq(X2, 6, lower.tail = F)"
   ]
  },
  {
   "cell_type": "markdown",
   "metadata": {},
   "source": [
    "## and you reach the same conclusion.\n",
    "\n",
    "You can also carry out a chi-squared test in R, via:"
   ]
  },
  {
   "cell_type": "code",
   "execution_count": 17,
   "metadata": {},
   "outputs": [],
   "source": [
    "mat <- tapply(freq, list(A.site, B.type), mean)"
   ]
  },
  {
   "cell_type": "code",
   "execution_count": 18,
   "metadata": {},
   "outputs": [
    {
     "data": {
      "text/html": [
       "400"
      ],
      "text/latex": [
       "400"
      ],
      "text/markdown": [
       "400"
      ],
      "text/plain": [
       "[1] 400"
      ]
     },
     "metadata": {},
     "output_type": "display_data"
    }
   ],
   "source": [
    "sum(mat)"
   ]
  },
  {
   "cell_type": "code",
   "execution_count": 19,
   "metadata": {},
   "outputs": [
    {
     "data": {
      "text/html": [
       "<table>\n",
       "<thead><tr><th></th><th scope=col>Hutchinsons</th><th scope=col>Intermediate</th><th scope=col>Nodular</th><th scope=col>Superficial</th></tr></thead>\n",
       "<tbody>\n",
       "\t<tr><th scope=row>Extremeties</th><td>10 </td><td>28 </td><td>73 </td><td>115</td></tr>\n",
       "\t<tr><th scope=row>Head and Neck</th><td>22 </td><td>11 </td><td>19 </td><td> 16</td></tr>\n",
       "\t<tr><th scope=row>Trunk</th><td> 2 </td><td>17 </td><td>33 </td><td> 54</td></tr>\n",
       "</tbody>\n",
       "</table>\n"
      ],
      "text/latex": [
       "\\begin{tabular}{r|llll}\n",
       "  & Hutchinsons & Intermediate & Nodular & Superficial\\\\\n",
       "\\hline\n",
       "\tExtremeties & 10  & 28  & 73  & 115\\\\\n",
       "\tHead and Neck & 22  & 11  & 19  &  16\\\\\n",
       "\tTrunk &  2  & 17  & 33  &  54\\\\\n",
       "\\end{tabular}\n"
      ],
      "text/markdown": [
       "\n",
       "| <!--/--> | Hutchinsons | Intermediate | Nodular | Superficial |\n",
       "|---|---|---|---|---|\n",
       "| Extremeties | 10  | 28  | 73  | 115 |\n",
       "| Head and Neck | 22  | 11  | 19  |  16 |\n",
       "| Trunk |  2  | 17  | 33  |  54 |\n",
       "\n"
      ],
      "text/plain": [
       "              Hutchinsons Intermediate Nodular Superficial\n",
       "Extremeties   10          28           73      115        \n",
       "Head and Neck 22          11           19       16        \n",
       "Trunk          2          17           33       54        "
      ]
     },
     "metadata": {},
     "output_type": "display_data"
    }
   ],
   "source": [
    "mat"
   ]
  },
  {
   "cell_type": "code",
   "execution_count": 20,
   "metadata": {},
   "outputs": [
    {
     "data": {
      "text/plain": [
       "\n",
       "\tPearson's Chi-squared test\n",
       "\n",
       "data:  mat\n",
       "X-squared = 65.813, df = 6, p-value = 2.943e-12\n"
      ]
     },
     "metadata": {},
     "output_type": "display_data"
    }
   ],
   "source": [
    "chisq.test(mat)"
   ]
  },
  {
   "cell_type": "markdown",
   "metadata": {},
   "source": [
    "# Q2\n",
    "\n",
    "* Fixed margin for Factor A (A is an explanatory variable): **TREATMENT**\n",
    "* Factor B is a response variable: **RESPONSE**\n",
    "\n",
    "* **THIS IS A CASE C FROM THE LECTURE NOTES**\n",
    "* This is not a hypothesis of independence, but of **HOMOGENEITY**, because the margins for the treatment explanatory variable are fixed.\n",
    "\n",
    "The null hypothesis:\n",
    "\n",
    "> $H_{0}: \\theta_{jk} = \\theta_{k}$\n",
    "\n",
    "That is, the probability of falling in the $j$th row in the $k$th column is equal to the probability of falling in the $k$th column. In this example, you're testing to see whether there's a difference in the response between giving someone the vaccine and giving someone the placebo.\n",
    "\n",
    "**Therefore you're testing the null hypothesis that it doesn't matter what the treatment is with respect to which of the three response buckets you end  up in.**\n",
    "\n",
    "Can only test for independence between two response variables. We  test for homogeneity between an explanatory variable and a response variable."
   ]
  },
  {
   "cell_type": "code",
   "execution_count": 27,
   "metadata": {},
   "outputs": [],
   "source": [
    "freq <- c(25,8,5,\n",
    "          6,18,11)"
   ]
  },
  {
   "cell_type": "code",
   "execution_count": 30,
   "metadata": {},
   "outputs": [],
   "source": [
    "A.treatment <- factor(c(rep('Placebo',3),rep('Vaccine',3)))"
   ]
  },
  {
   "cell_type": "code",
   "execution_count": 31,
   "metadata": {},
   "outputs": [],
   "source": [
    "B.response <- factor(rep(c('S','M','L'),2))"
   ]
  },
  {
   "cell_type": "code",
   "execution_count": 38,
   "metadata": {},
   "outputs": [],
   "source": [
    "flu <- data.frame(freq, A.treatment, B.response)"
   ]
  },
  {
   "cell_type": "code",
   "execution_count": 39,
   "metadata": {},
   "outputs": [
    {
     "data": {
      "text/html": [
       "<table>\n",
       "<thead><tr><th scope=col>freq</th><th scope=col>A.treatment</th><th scope=col>B.response</th></tr></thead>\n",
       "<tbody>\n",
       "\t<tr><td>25     </td><td>Placebo</td><td>S      </td></tr>\n",
       "\t<tr><td> 8     </td><td>Placebo</td><td>M      </td></tr>\n",
       "\t<tr><td> 5     </td><td>Placebo</td><td>L      </td></tr>\n",
       "\t<tr><td> 6     </td><td>Vaccine</td><td>S      </td></tr>\n",
       "\t<tr><td>18     </td><td>Vaccine</td><td>M      </td></tr>\n",
       "\t<tr><td>11     </td><td>Vaccine</td><td>L      </td></tr>\n",
       "</tbody>\n",
       "</table>\n"
      ],
      "text/latex": [
       "\\begin{tabular}{r|lll}\n",
       " freq & A.treatment & B.response\\\\\n",
       "\\hline\n",
       "\t 25      & Placebo & S      \\\\\n",
       "\t  8      & Placebo & M      \\\\\n",
       "\t  5      & Placebo & L      \\\\\n",
       "\t  6      & Vaccine & S      \\\\\n",
       "\t 18      & Vaccine & M      \\\\\n",
       "\t 11      & Vaccine & L      \\\\\n",
       "\\end{tabular}\n"
      ],
      "text/markdown": [
       "\n",
       "| freq | A.treatment | B.response |\n",
       "|---|---|---|\n",
       "| 25      | Placebo | S       |\n",
       "|  8      | Placebo | M       |\n",
       "|  5      | Placebo | L       |\n",
       "|  6      | Vaccine | S       |\n",
       "| 18      | Vaccine | M       |\n",
       "| 11      | Vaccine | L       |\n",
       "\n"
      ],
      "text/plain": [
       "  freq A.treatment B.response\n",
       "1 25   Placebo     S         \n",
       "2  8   Placebo     M         \n",
       "3  5   Placebo     L         \n",
       "4  6   Vaccine     S         \n",
       "5 18   Vaccine     M         \n",
       "6 11   Vaccine     L         "
      ]
     },
     "metadata": {},
     "output_type": "display_data"
    }
   ],
   "source": [
    "flu"
   ]
  },
  {
   "cell_type": "markdown",
   "metadata": {},
   "source": [
    "## Fitting the GLM"
   ]
  },
  {
   "cell_type": "code",
   "execution_count": 40,
   "metadata": {},
   "outputs": [
    {
     "data": {
      "text/plain": [
       "\n",
       "Call:\n",
       "glm(formula = freq ~ A.treatment + B.response, family = poisson(link = \"log\"), \n",
       "    data = flu)\n",
       "\n",
       "Deviance Residuals: \n",
       "     1       2       3       4       5       6  \n",
       " 2.040  -1.630  -1.247  -2.615   1.469   1.128  \n",
       "\n",
       "Coefficients:\n",
       "                   Estimate Std. Error z value Pr(>|z|)    \n",
       "(Intercept)         2.11972    0.27408   7.734 1.04e-14 ***\n",
       "A.treatmentVaccine -0.08224    0.23428  -0.351   0.7256    \n",
       "B.responseM         0.48551    0.31774   1.528   0.1265    \n",
       "B.responseS         0.66140    0.30783   2.149   0.0317 *  \n",
       "---\n",
       "Signif. codes:  0 ‘***’ 0.001 ‘**’ 0.01 ‘*’ 0.05 ‘.’ 0.1 ‘ ’ 1\n",
       "\n",
       "(Dispersion parameter for poisson family taken to be 1)\n",
       "\n",
       "    Null deviance: 23.807  on 5  degrees of freedom\n",
       "Residual deviance: 18.643  on 2  degrees of freedom\n",
       "AIC: 51.771\n",
       "\n",
       "Number of Fisher Scoring iterations: 5\n"
      ]
     },
     "metadata": {},
     "output_type": "display_data"
    }
   ],
   "source": [
    "flu.glm <- glm(freq ~ A.treatment + B.response, family=poisson(link='log'), data=flu)\n",
    "\n",
    "summary(flu.glm)"
   ]
  },
  {
   "cell_type": "code",
   "execution_count": 41,
   "metadata": {},
   "outputs": [
    {
     "data": {
      "text/html": [
       "8.9479590302651e-05"
      ],
      "text/latex": [
       "8.9479590302651e-05"
      ],
      "text/markdown": [
       "8.9479590302651e-05"
      ],
      "text/plain": [
       "[1] 8.947959e-05"
      ]
     },
     "metadata": {},
     "output_type": "display_data"
    }
   ],
   "source": [
    "pchisq(18.643, 2, lower.tail = F)"
   ]
  },
  {
   "cell_type": "markdown",
   "metadata": {},
   "source": [
    "## Analysis of Deviance\n",
    "\n",
    "Strong evidence to reject the homogeneity null hypothesis at the 0.1% level of significance.\n",
    "\n",
    "We therefore accept the alternative hypothesis, that the probability of landing in a specific cell $j-k$ is not the same as the probability of landing in a specific column $k$.\n",
    "\n",
    "Therefore, with the drug treatment, you will have a different response based on your treatment, rather than there being no difference in the response effects whether you were given the placebo or the vaccine."
   ]
  },
  {
   "cell_type": "code",
   "execution_count": 43,
   "metadata": {},
   "outputs": [],
   "source": [
    "flu['fitted'] <- fitted(flu.glm)"
   ]
  },
  {
   "cell_type": "code",
   "execution_count": 44,
   "metadata": {},
   "outputs": [
    {
     "data": {
      "text/html": [
       "<table>\n",
       "<thead><tr><th scope=col>freq</th><th scope=col>A.treatment</th><th scope=col>B.response</th><th scope=col>fitted</th></tr></thead>\n",
       "<tbody>\n",
       "\t<tr><td>25       </td><td>Placebo  </td><td>S        </td><td>16.136986</td></tr>\n",
       "\t<tr><td> 8       </td><td>Placebo  </td><td>M        </td><td>13.534247</td></tr>\n",
       "\t<tr><td> 5       </td><td>Placebo  </td><td>L        </td><td> 8.328767</td></tr>\n",
       "\t<tr><td> 6       </td><td>Vaccine  </td><td>S        </td><td>14.863014</td></tr>\n",
       "\t<tr><td>18       </td><td>Vaccine  </td><td>M        </td><td>12.465753</td></tr>\n",
       "\t<tr><td>11       </td><td>Vaccine  </td><td>L        </td><td> 7.671233</td></tr>\n",
       "</tbody>\n",
       "</table>\n"
      ],
      "text/latex": [
       "\\begin{tabular}{r|llll}\n",
       " freq & A.treatment & B.response & fitted\\\\\n",
       "\\hline\n",
       "\t 25        & Placebo   & S         & 16.136986\\\\\n",
       "\t  8        & Placebo   & M         & 13.534247\\\\\n",
       "\t  5        & Placebo   & L         &  8.328767\\\\\n",
       "\t  6        & Vaccine   & S         & 14.863014\\\\\n",
       "\t 18        & Vaccine   & M         & 12.465753\\\\\n",
       "\t 11        & Vaccine   & L         &  7.671233\\\\\n",
       "\\end{tabular}\n"
      ],
      "text/markdown": [
       "\n",
       "| freq | A.treatment | B.response | fitted |\n",
       "|---|---|---|---|\n",
       "| 25        | Placebo   | S         | 16.136986 |\n",
       "|  8        | Placebo   | M         | 13.534247 |\n",
       "|  5        | Placebo   | L         |  8.328767 |\n",
       "|  6        | Vaccine   | S         | 14.863014 |\n",
       "| 18        | Vaccine   | M         | 12.465753 |\n",
       "| 11        | Vaccine   | L         |  7.671233 |\n",
       "\n"
      ],
      "text/plain": [
       "  freq A.treatment B.response fitted   \n",
       "1 25   Placebo     S          16.136986\n",
       "2  8   Placebo     M          13.534247\n",
       "3  5   Placebo     L           8.328767\n",
       "4  6   Vaccine     S          14.863014\n",
       "5 18   Vaccine     M          12.465753\n",
       "6 11   Vaccine     L           7.671233"
      ]
     },
     "metadata": {},
     "output_type": "display_data"
    }
   ],
   "source": [
    "flu"
   ]
  },
  {
   "cell_type": "markdown",
   "metadata": {},
   "source": [
    "## Can see that we recoved the fixed row totals"
   ]
  },
  {
   "cell_type": "code",
   "execution_count": 45,
   "metadata": {},
   "outputs": [
    {
     "data": {
      "text/plain": [
       "flu$A.treatment: Placebo\n",
       "[1] 38\n",
       "------------------------------------------------------------ \n",
       "flu$A.treatment: Vaccine\n",
       "[1] 35"
      ]
     },
     "metadata": {},
     "output_type": "display_data"
    }
   ],
   "source": [
    "by(flu$fitted, flu$A.treatment, sum)"
   ]
  },
  {
   "cell_type": "markdown",
   "metadata": {},
   "source": [
    "## IMPORTANT: The model parameters are not actually very useful, since the model doesn't fit.\n",
    "\n",
    "You fit the model under the null hypothesis. So you can inspect the residuals to see what direction the non-homogenuity is going. I.e. you can see if the vaccine is having an effect."
   ]
  },
  {
   "cell_type": "code",
   "execution_count": 46,
   "metadata": {},
   "outputs": [],
   "source": [
    "flu['deta'] <- flu['freq'] - flu['fitted']"
   ]
  },
  {
   "cell_type": "code",
   "execution_count": 47,
   "metadata": {},
   "outputs": [
    {
     "data": {
      "text/html": [
       "<table>\n",
       "<thead><tr><th scope=col>freq</th><th scope=col>A.treatment</th><th scope=col>B.response</th><th scope=col>fitted</th><th scope=col>deta</th></tr></thead>\n",
       "<tbody>\n",
       "\t<tr><td>25       </td><td>Placebo  </td><td>S        </td><td>16.136986</td><td> 8.863014</td></tr>\n",
       "\t<tr><td> 8       </td><td>Placebo  </td><td>M        </td><td>13.534247</td><td>-5.534247</td></tr>\n",
       "\t<tr><td> 5       </td><td>Placebo  </td><td>L        </td><td> 8.328767</td><td>-3.328767</td></tr>\n",
       "\t<tr><td> 6       </td><td>Vaccine  </td><td>S        </td><td>14.863014</td><td>-8.863014</td></tr>\n",
       "\t<tr><td>18       </td><td>Vaccine  </td><td>M        </td><td>12.465753</td><td> 5.534247</td></tr>\n",
       "\t<tr><td>11       </td><td>Vaccine  </td><td>L        </td><td> 7.671233</td><td> 3.328767</td></tr>\n",
       "</tbody>\n",
       "</table>\n"
      ],
      "text/latex": [
       "\\begin{tabular}{r|lllll}\n",
       " freq & A.treatment & B.response & fitted & deta\\\\\n",
       "\\hline\n",
       "\t 25        & Placebo   & S         & 16.136986 &  8.863014\\\\\n",
       "\t  8        & Placebo   & M         & 13.534247 & -5.534247\\\\\n",
       "\t  5        & Placebo   & L         &  8.328767 & -3.328767\\\\\n",
       "\t  6        & Vaccine   & S         & 14.863014 & -8.863014\\\\\n",
       "\t 18        & Vaccine   & M         & 12.465753 &  5.534247\\\\\n",
       "\t 11        & Vaccine   & L         &  7.671233 &  3.328767\\\\\n",
       "\\end{tabular}\n"
      ],
      "text/markdown": [
       "\n",
       "| freq | A.treatment | B.response | fitted | deta |\n",
       "|---|---|---|---|---|\n",
       "| 25        | Placebo   | S         | 16.136986 |  8.863014 |\n",
       "|  8        | Placebo   | M         | 13.534247 | -5.534247 |\n",
       "|  5        | Placebo   | L         |  8.328767 | -3.328767 |\n",
       "|  6        | Vaccine   | S         | 14.863014 | -8.863014 |\n",
       "| 18        | Vaccine   | M         | 12.465753 |  5.534247 |\n",
       "| 11        | Vaccine   | L         |  7.671233 |  3.328767 |\n",
       "\n"
      ],
      "text/plain": [
       "  freq A.treatment B.response fitted    deta     \n",
       "1 25   Placebo     S          16.136986  8.863014\n",
       "2  8   Placebo     M          13.534247 -5.534247\n",
       "3  5   Placebo     L           8.328767 -3.328767\n",
       "4  6   Vaccine     S          14.863014 -8.863014\n",
       "5 18   Vaccine     M          12.465753  5.534247\n",
       "6 11   Vaccine     L           7.671233  3.328767"
      ]
     },
     "metadata": {},
     "output_type": "display_data"
    }
   ],
   "source": [
    "flu"
   ]
  },
  {
   "cell_type": "markdown",
   "metadata": {},
   "source": [
    "If the placebo / drug didn't matter, then the model predicts that there'd be far few people with a small response, and far more people with a large response.\n",
    "\n",
    "Conversely, the model, under the null where the drug has no difference in effect w.r.t. the placebo, the model suggests that 8 people would have a large response to the treatment, when in fact 11 do. I.e. the drug has a larger effect on producing an antibody response."
   ]
  },
  {
   "cell_type": "markdown",
   "metadata": {},
   "source": [
    "---\n",
    "\n",
    "&nbsp;\n",
    "\n",
    "&nbsp;\n",
    "\n",
    "---\n",
    "\n",
    "# Q3) Three-factor contingency table\n",
    "\n",
    "Assume that only the total sample size has been fixed, therefore we're in Case \\#2 Scenario from the lecture, where we have $2^{3} = 8$ different hypotheses we can test for.\n",
    "\n",
    "### Constructing the dataframe"
   ]
  },
  {
   "cell_type": "code",
   "execution_count": 111,
   "metadata": {},
   "outputs": [
    {
     "data": {
      "text/html": [
       "<table>\n",
       "<thead><tr><th scope=col>freq</th><th scope=col>clinic</th><th scope=col>an.care</th><th scope=col>survival</th></tr></thead>\n",
       "<tbody>\n",
       "\t<tr><td>176     </td><td>A       </td><td>Low     </td><td>Survived</td></tr>\n",
       "\t<tr><td>  3     </td><td>A       </td><td>Low     </td><td>Died    </td></tr>\n",
       "\t<tr><td>293     </td><td>A       </td><td>High    </td><td>Survived</td></tr>\n",
       "\t<tr><td>  4     </td><td>A       </td><td>High    </td><td>Died    </td></tr>\n",
       "\t<tr><td>197     </td><td>B       </td><td>Low     </td><td>Survived</td></tr>\n",
       "\t<tr><td> 17     </td><td>B       </td><td>Low     </td><td>Died    </td></tr>\n",
       "\t<tr><td> 23     </td><td>B       </td><td>High    </td><td>Survived</td></tr>\n",
       "\t<tr><td>  2     </td><td>B       </td><td>High    </td><td>Died    </td></tr>\n",
       "</tbody>\n",
       "</table>\n"
      ],
      "text/latex": [
       "\\begin{tabular}{r|llll}\n",
       " freq & clinic & an.care & survival\\\\\n",
       "\\hline\n",
       "\t 176      & A        & Low      & Survived\\\\\n",
       "\t   3      & A        & Low      & Died    \\\\\n",
       "\t 293      & A        & High     & Survived\\\\\n",
       "\t   4      & A        & High     & Died    \\\\\n",
       "\t 197      & B        & Low      & Survived\\\\\n",
       "\t  17      & B        & Low      & Died    \\\\\n",
       "\t  23      & B        & High     & Survived\\\\\n",
       "\t   2      & B        & High     & Died    \\\\\n",
       "\\end{tabular}\n"
      ],
      "text/markdown": [
       "\n",
       "| freq | clinic | an.care | survival |\n",
       "|---|---|---|---|\n",
       "| 176      | A        | Low      | Survived |\n",
       "|   3      | A        | Low      | Died     |\n",
       "| 293      | A        | High     | Survived |\n",
       "|   4      | A        | High     | Died     |\n",
       "| 197      | B        | Low      | Survived |\n",
       "|  17      | B        | Low      | Died     |\n",
       "|  23      | B        | High     | Survived |\n",
       "|   2      | B        | High     | Died     |\n",
       "\n"
      ],
      "text/plain": [
       "  freq clinic an.care survival\n",
       "1 176  A      Low     Survived\n",
       "2   3  A      Low     Died    \n",
       "3 293  A      High    Survived\n",
       "4   4  A      High    Died    \n",
       "5 197  B      Low     Survived\n",
       "6  17  B      Low     Died    \n",
       "7  23  B      High    Survived\n",
       "8   2  B      High    Died    "
      ]
     },
     "metadata": {},
     "output_type": "display_data"
    }
   ],
   "source": [
    "freq <- c(176,3,\n",
    "          293,4,\n",
    "          197,17,\n",
    "          23,2)\n",
    "\n",
    "clinic <- factor(c(rep('A',4),rep('B',4)))\n",
    "\n",
    "an.care <- factor(rep(c(rep('Low',2),rep('High',2)),2))\n",
    "\n",
    "survival <- factor(rep(c('Survived','Died'),4))\n",
    "\n",
    "baby <- data.frame(freq, clinic, an.care, survival)\n",
    "\n",
    "baby"
   ]
  },
  {
   "cell_type": "markdown",
   "metadata": {},
   "source": [
    "## GLM\n",
    "\n",
    "TODO: insert full model here\n",
    "\n",
    "### Starting with no interaction terms whatsoever.\n",
    "\n",
    "Testing the null hypothesis of full independence."
   ]
  },
  {
   "cell_type": "code",
   "execution_count": 69,
   "metadata": {},
   "outputs": [
    {
     "data": {
      "text/plain": [
       "\n",
       "Call:\n",
       "glm(formula = freq ~ clinic + an.care + survival, family = poisson(link = \"log\"), \n",
       "    data = baby)\n",
       "\n",
       "Deviance Residuals: \n",
       "     1       2       3       4       5       6       7       8  \n",
       "-5.072  -2.470   5.654  -1.501   5.782   4.326  -9.600  -1.069  \n",
       "\n",
       "Coefficients:\n",
       "                 Estimate Std. Error z value Pr(>|z|)    \n",
       "(Intercept)       2.05350    0.20216  10.158  < 2e-16 ***\n",
       "clinicB          -0.68895    0.07928  -8.690  < 2e-16 ***\n",
       "an.careLow        0.19926    0.07517   2.651  0.00803 ** \n",
       "survivalSurvived  3.27714    0.19978  16.404  < 2e-16 ***\n",
       "---\n",
       "Signif. codes:  0 ‘***’ 0.001 ‘**’ 0.01 ‘*’ 0.05 ‘.’ 0.1 ‘ ’ 1\n",
       "\n",
       "(Dispersion parameter for poisson family taken to be 1)\n",
       "\n",
       "    Null deviance: 1066.43  on 7  degrees of freedom\n",
       "Residual deviance:  211.48  on 4  degrees of freedom\n",
       "AIC: 259.66\n",
       "\n",
       "Number of Fisher Scoring iterations: 5\n"
      ]
     },
     "metadata": {},
     "output_type": "display_data"
    }
   ],
   "source": [
    "baby.glm.1 <- glm(freq ~ clinic + an.care + survival, family=poisson(link='log'), data = baby)\n",
    "\n",
    "summary(baby.glm.1)"
   ]
  },
  {
   "cell_type": "code",
   "execution_count": 70,
   "metadata": {},
   "outputs": [
    {
     "data": {
      "text/html": [
       "1.27652311117075e-44"
      ],
      "text/latex": [
       "1.27652311117075e-44"
      ],
      "text/markdown": [
       "1.27652311117075e-44"
      ],
      "text/plain": [
       "[1] 1.276523e-44"
      ]
     },
     "metadata": {},
     "output_type": "display_data"
    }
   ],
   "source": [
    "pchisq(211.48, 4, lower.tail = F)"
   ]
  },
  {
   "cell_type": "markdown",
   "metadata": {},
   "source": [
    "**Can reject this null hypothesis, at least one additional parameter that's in the saturated model that's not in the current model is non-zero.**"
   ]
  },
  {
   "cell_type": "markdown",
   "metadata": {},
   "source": [
    "## Adding pairs of interaction terms:\n",
    "\n",
    "> $\\eta_{jkl} = \\mu + \\alpha_{j} + \\beta_{k} + \\gamma_{l} + (\\alpha \\beta)_{jk} + (\\alpha \\gamma)_{jl} + (\\beta \\gamma)_{kl}$\n",
    "\n",
    "\n",
    "### Constraints\n",
    "With the corner constaint:\n",
    "* $\\alpha_{1} = 0$\n",
    "* $\\beta_{1} = 0$\n",
    "* $\\gamma_{1} = 0$\n",
    "* $(\\alpha \\beta)_{11} = 0$\n",
    "* $(\\alpha \\gamma)_{11} = 0$\n",
    "* $(\\beta \\gamma)_{11} = 0$\n",
    "\n",
    "### Levels\n",
    "* Factor A (**clinic**: $J = 2$\n",
    "* Factor B (**antenatal care**): $K = 2$\n",
    "* Factor C (**survival**): $L = 2$\n",
    "\n",
    "\n",
    "Have $p = 1 + 1 + 1 + 1 + 1 + 1 + 1 = 7$\n",
    "\n",
    "Have $n = 2$\n",
    "\n",
    "Therefore have 1 degree of freedom remaining (which would be taken up by the $(\\alpha \\beta \\gamma)_{jkl}$ term if it was added to the model, to produce the saturated model."
   ]
  },
  {
   "cell_type": "code",
   "execution_count": 73,
   "metadata": {},
   "outputs": [
    {
     "data": {
      "text/plain": [
       "\n",
       "Call:\n",
       "glm(formula = freq ~ clinic + an.care + survival + clinic:an.care + \n",
       "    clinic:survival + an.care:survival, family = poisson(link = \"log\"), \n",
       "    data = baby)\n",
       "\n",
       "Deviance Residuals: \n",
       "       1         2         3         4         5         6         7         8  \n",
       "-0.01408   0.11017   0.01091  -0.09198   0.01331  -0.04514  -0.03884   0.13644  \n",
       "\n",
       "Coefficients:\n",
       "                            Estimate Std. Error z value Pr(>|z|)    \n",
       "(Intercept)                   1.4319     0.4400   3.254  0.00114 ** \n",
       "clinicB                      -0.8368     0.5432  -1.540  0.12344    \n",
       "an.careLow                   -0.3976     0.5606  -0.709  0.47816    \n",
       "survivalSurvived              4.2476     0.4424   9.601  < 2e-16 ***\n",
       "clinicB:an.careLow            2.6467     0.2339  11.317  < 2e-16 ***\n",
       "clinicB:survivalSurvived     -1.6991     0.5307  -3.202  0.00137 ** \n",
       "an.careLow:survivalSurvived  -0.1104     0.5610  -0.197  0.84403    \n",
       "---\n",
       "Signif. codes:  0 ‘***’ 0.001 ‘**’ 0.01 ‘*’ 0.05 ‘.’ 0.1 ‘ ’ 1\n",
       "\n",
       "(Dispersion parameter for poisson family taken to be 1)\n",
       "\n",
       "    Null deviance: 1.0664e+03  on 7  degrees of freedom\n",
       "Residual deviance: 4.3256e-02  on 1  degrees of freedom\n",
       "AIC: 54.226\n",
       "\n",
       "Number of Fisher Scoring iterations: 3\n"
      ]
     },
     "metadata": {},
     "output_type": "display_data"
    }
   ],
   "source": [
    "baby.glm.full.pairs <- glm(freq ~ clinic + an.care + survival + clinic:an.care + clinic:survival + an.care:survival, family=poisson(link='log'), data = baby)\n",
    "\n",
    "summary(baby.glm.full.pairs)"
   ]
  },
  {
   "cell_type": "code",
   "execution_count": 74,
   "metadata": {},
   "outputs": [
    {
     "data": {
      "text/html": [
       "0.835243983655916"
      ],
      "text/latex": [
       "0.835243983655916"
      ],
      "text/markdown": [
       "0.835243983655916"
      ],
      "text/plain": [
       "[1] 0.835244"
      ]
     },
     "metadata": {},
     "output_type": "display_data"
    }
   ],
   "source": [
    "pchisq(4.3256e-02, 1, lower.tail=F)"
   ]
  },
  {
   "cell_type": "code",
   "execution_count": 75,
   "metadata": {},
   "outputs": [
    {
     "data": {
      "text/html": [
       "<table>\n",
       "<thead><tr><th></th><th scope=col>Df</th><th scope=col>Deviance</th><th scope=col>Resid. Df</th><th scope=col>Resid. Dev</th></tr></thead>\n",
       "<tbody>\n",
       "\t<tr><th scope=row>NULL</th><td>NA          </td><td>          NA</td><td>7           </td><td>1.066428e+03</td></tr>\n",
       "\t<tr><th scope=row>clinic</th><td> 1          </td><td> 80.06380720</td><td>6           </td><td>9.863640e+02</td></tr>\n",
       "\t<tr><th scope=row>an.care</th><td> 1          </td><td>  7.06198241</td><td>5           </td><td>9.793020e+02</td></tr>\n",
       "\t<tr><th scope=row>survival</th><td> 1          </td><td>767.81992358</td><td>4           </td><td>2.114820e+02</td></tr>\n",
       "\t<tr><th scope=row>clinic:an.care</th><td> 1          </td><td>193.65364535</td><td>3           </td><td>1.782840e+01</td></tr>\n",
       "\t<tr><th scope=row>clinic:survival</th><td> 1          </td><td> 17.74611006</td><td>2           </td><td>8.228918e-02</td></tr>\n",
       "\t<tr><th scope=row>an.care:survival</th><td> 1          </td><td>  0.03903333</td><td>1           </td><td>4.325585e-02</td></tr>\n",
       "</tbody>\n",
       "</table>\n"
      ],
      "text/latex": [
       "\\begin{tabular}{r|llll}\n",
       "  & Df & Deviance & Resid. Df & Resid. Dev\\\\\n",
       "\\hline\n",
       "\tNULL & NA           &           NA & 7            & 1.066428e+03\\\\\n",
       "\tclinic &  1           &  80.06380720 & 6            & 9.863640e+02\\\\\n",
       "\tan.care &  1           &   7.06198241 & 5            & 9.793020e+02\\\\\n",
       "\tsurvival &  1           & 767.81992358 & 4            & 2.114820e+02\\\\\n",
       "\tclinic:an.care &  1           & 193.65364535 & 3            & 1.782840e+01\\\\\n",
       "\tclinic:survival &  1           &  17.74611006 & 2            & 8.228918e-02\\\\\n",
       "\tan.care:survival &  1           &   0.03903333 & 1            & 4.325585e-02\\\\\n",
       "\\end{tabular}\n"
      ],
      "text/markdown": [
       "\n",
       "| <!--/--> | Df | Deviance | Resid. Df | Resid. Dev |\n",
       "|---|---|---|---|---|\n",
       "| NULL | NA           |           NA | 7            | 1.066428e+03 |\n",
       "| clinic |  1           |  80.06380720 | 6            | 9.863640e+02 |\n",
       "| an.care |  1           |   7.06198241 | 5            | 9.793020e+02 |\n",
       "| survival |  1           | 767.81992358 | 4            | 2.114820e+02 |\n",
       "| clinic:an.care |  1           | 193.65364535 | 3            | 1.782840e+01 |\n",
       "| clinic:survival |  1           |  17.74611006 | 2            | 8.228918e-02 |\n",
       "| an.care:survival |  1           |   0.03903333 | 1            | 4.325585e-02 |\n",
       "\n"
      ],
      "text/plain": [
       "                 Df Deviance     Resid. Df Resid. Dev  \n",
       "NULL             NA           NA 7         1.066428e+03\n",
       "clinic            1  80.06380720 6         9.863640e+02\n",
       "an.care           1   7.06198241 5         9.793020e+02\n",
       "survival          1 767.81992358 4         2.114820e+02\n",
       "clinic:an.care    1 193.65364535 3         1.782840e+01\n",
       "clinic:survival   1  17.74611006 2         8.228918e-02\n",
       "an.care:survival  1   0.03903333 1         4.325585e-02"
      ]
     },
     "metadata": {},
     "output_type": "display_data"
    }
   ],
   "source": [
    "anova(baby.glm.full.pairs)"
   ]
  },
  {
   "cell_type": "markdown",
   "metadata": {},
   "source": [
    "**We've fit an adequete model**, so there's definitely some kind of interaction in there, whether it be conditional or joint.\n",
    "\n",
    "> Time to try out different combinations of models\n",
    "\n",
    "---\n",
    "\n",
    "&nbsp;\n",
    "\n",
    "&nbsp;\n",
    "\n",
    "# Model combos\n",
    "\n",
    "**MUST HAVE THE RESPONSE THAT CONTAINS THE TOTALS IN IT - SO MUST HAVE SURVIVAL**\n",
    "\n",
    "## Taking out (clinic-survival) - $(\\alpha \\gamma)_{jl}$ - pairs"
   ]
  },
  {
   "cell_type": "code",
   "execution_count": 90,
   "metadata": {},
   "outputs": [
    {
     "data": {
      "text/plain": [
       "\n",
       "Call:\n",
       "glm(formula = freq ~ clinic + an.care + survival + clinic:an.care + \n",
       "    an.care:survival, family = poisson(link = \"log\"), data = baby)\n",
       "\n",
       "Deviance Residuals: \n",
       "       1         2         3         4         5         6         7         8  \n",
       " 0.46595  -2.35683   0.08978  -0.68641  -0.43086   1.70935  -0.31305   1.66130  \n",
       "\n",
       "Coefficients:\n",
       "                            Estimate Std. Error z value Pr(>|z|)    \n",
       "(Intercept)                   1.7109     0.4086   4.188 2.82e-05 ***\n",
       "clinicB                      -2.4749     0.2082 -11.884  < 2e-16 ***\n",
       "an.careLow                    0.4984     0.4690   1.063   0.2880    \n",
       "survivalSurvived              3.9640     0.4121   9.619  < 2e-16 ***\n",
       "clinicB:an.careLow            2.6534     0.2316  11.458  < 2e-16 ***\n",
       "an.careLow:survivalSurvived  -1.0381     0.4717  -2.201   0.0278 *  \n",
       "---\n",
       "Signif. codes:  0 ‘***’ 0.001 ‘**’ 0.01 ‘*’ 0.05 ‘.’ 0.1 ‘ ’ 1\n",
       "\n",
       "(Dispersion parameter for poisson family taken to be 1)\n",
       "\n",
       "    Null deviance: 1066.428  on 7  degrees of freedom\n",
       "Residual deviance:   12.216  on 2  degrees of freedom\n",
       "AIC: 64.399\n",
       "\n",
       "Number of Fisher Scoring iterations: 5\n"
      ]
     },
     "metadata": {},
     "output_type": "display_data"
    }
   ],
   "source": [
    "baby.glm.ex.clinic.survival <- glm(freq ~ clinic + an.care + survival + clinic:an.care + an.care:survival, family=poisson(link='log'), data = baby)\n",
    "\n",
    "summary(baby.glm.ex.clinic.survival)\n",
    "\n"
   ]
  },
  {
   "cell_type": "code",
   "execution_count": 89,
   "metadata": {},
   "outputs": [
    {
     "data": {
      "text/html": [
       "0.00222499635848773"
      ],
      "text/latex": [
       "0.00222499635848773"
      ],
      "text/markdown": [
       "0.00222499635848773"
      ],
      "text/plain": [
       "[1] 0.002224996"
      ]
     },
     "metadata": {},
     "output_type": "display_data"
    }
   ],
   "source": [
    "pchisq(12.216, 2, lower.tail = F)"
   ]
  },
  {
   "cell_type": "markdown",
   "metadata": {},
   "source": [
    "Reject the null, other paramaters needed."
   ]
  },
  {
   "cell_type": "markdown",
   "metadata": {},
   "source": [
    "### Taking out $(\\beta \\gamma)_{kl}$ pair"
   ]
  },
  {
   "cell_type": "code",
   "execution_count": 102,
   "metadata": {},
   "outputs": [
    {
     "data": {
      "text/plain": [
       "\n",
       "Call:\n",
       "glm(formula = freq ~ clinic + an.care + survival + clinic:an.care + \n",
       "    clinic:survival, family = poisson(link = \"log\"), data = baby)\n",
       "\n",
       "Deviance Residuals: \n",
       "        1          2          3          4          5          6          7  \n",
       "-0.027693   0.221610   0.021487  -0.178476   0.000894  -0.003044  -0.002617  \n",
       "        8  \n",
       " 0.008894  \n",
       "\n",
       "Coefficients:\n",
       "                         Estimate Std. Error z value Pr(>|z|)    \n",
       "(Intercept)               1.47422    0.37964   3.883 0.000103 ***\n",
       "clinicB                  -0.78737    0.48226  -1.633 0.102535    \n",
       "an.careLow               -0.50635    0.09462  -5.351 8.74e-08 ***\n",
       "survivalSurvived          4.20469    0.38077  11.042  < 2e-16 ***\n",
       "clinicB:an.careLow        2.65345    0.23157  11.458  < 2e-16 ***\n",
       "clinicB:survivalSurvived -1.75550    0.44963  -3.904 9.45e-05 ***\n",
       "---\n",
       "Signif. codes:  0 ‘***’ 0.001 ‘**’ 0.01 ‘*’ 0.05 ‘.’ 0.1 ‘ ’ 1\n",
       "\n",
       "(Dispersion parameter for poisson family taken to be 1)\n",
       "\n",
       "    Null deviance: 1.0664e+03  on 7  degrees of freedom\n",
       "Residual deviance: 8.2289e-02  on 2  degrees of freedom\n",
       "AIC: 52.265\n",
       "\n",
       "Number of Fisher Scoring iterations: 4\n"
      ]
     },
     "metadata": {},
     "output_type": "display_data"
    },
    {
     "data": {
      "text/html": [
       "0.959690444658775"
      ],
      "text/latex": [
       "0.959690444658775"
      ],
      "text/markdown": [
       "0.959690444658775"
      ],
      "text/plain": [
       "[1] 0.9596904"
      ]
     },
     "metadata": {},
     "output_type": "display_data"
    }
   ],
   "source": [
    "baby.glm.ex.an.care.survival <- glm(freq ~ clinic + an.care + survival + clinic:an.care + clinic:survival, family=poisson(link='log'), data = baby)\n",
    "\n",
    "summary(baby.glm.ex.an.care.survival)\n",
    "\n",
    "pchisq(8.2289e-02, 2, lower.tail = F)"
   ]
  },
  {
   "cell_type": "markdown",
   "metadata": {},
   "source": [
    "## And now taking out one of the two remaining pairs."
   ]
  },
  {
   "cell_type": "code",
   "execution_count": 100,
   "metadata": {},
   "outputs": [
    {
     "data": {
      "text/plain": [
       "\n",
       "Call:\n",
       "glm(formula = freq ~ clinic + an.care + survival + clinic:an.care, \n",
       "    family = poisson(link = \"log\"), data = baby)\n",
       "\n",
       "Deviance Residuals: \n",
       "      1        2        3        4        5        6        7        8  \n",
       " 0.2663  -1.5397   0.4004  -2.3778  -0.6468   2.8517  -0.2240   0.9859  \n",
       "\n",
       "Coefficients:\n",
       "                   Estimate Std. Error z value Pr(>|z|)    \n",
       "(Intercept)         2.37955    0.20107  11.834  < 2e-16 ***\n",
       "clinicB            -2.47486    0.20825 -11.884  < 2e-16 ***\n",
       "an.careLow         -0.50635    0.09462  -5.351 8.74e-08 ***\n",
       "survivalSurvived    3.27714    0.19978  16.404  < 2e-16 ***\n",
       "clinicB:an.careLow  2.65345    0.23157  11.458  < 2e-16 ***\n",
       "---\n",
       "Signif. codes:  0 ‘***’ 0.001 ‘**’ 0.01 ‘*’ 0.05 ‘.’ 0.1 ‘ ’ 1\n",
       "\n",
       "(Dispersion parameter for poisson family taken to be 1)\n",
       "\n",
       "    Null deviance: 1066.428  on 7  degrees of freedom\n",
       "Residual deviance:   17.828  on 3  degrees of freedom\n",
       "AIC: 68.011\n",
       "\n",
       "Number of Fisher Scoring iterations: 5\n"
      ]
     },
     "metadata": {},
     "output_type": "display_data"
    },
    {
     "data": {
      "text/html": [
       "0.000477276012996405"
      ],
      "text/latex": [
       "0.000477276012996405"
      ],
      "text/markdown": [
       "0.000477276012996405"
      ],
      "text/plain": [
       "[1] 0.000477276"
      ]
     },
     "metadata": {},
     "output_type": "display_data"
    }
   ],
   "source": [
    "baby.glm.inc <- glm(freq ~ clinic + an.care + survival + clinic:an.care, family=poisson(link='log'), data = baby)\n",
    "\n",
    "summary(baby.glm.inc)\n",
    "\n",
    "pchisq(17.828, 3, lower.tail = F)"
   ]
  },
  {
   "cell_type": "markdown",
   "metadata": {},
   "source": [
    "## But you can't without having to reject the null hypothesis.\n",
    "\n",
    "**So our best model is:**\n",
    "\n",
    "> $\\eta_{jkl} = \\mu + \\alpha_{j} + \\beta_{k} + \\gamma_{l} + (\\alpha \\beta)_{jk} + (\\alpha \\gamma)_{jl}$\n",
    "\n",
    "And therefore we endorse a model which suggests that **Antenatal Care** and **Survival** are conditionally independent on **Clinic**."
   ]
  },
  {
   "cell_type": "code",
   "execution_count": 128,
   "metadata": {},
   "outputs": [
    {
     "data": {
      "text/html": [
       "<table>\n",
       "<thead><tr><th scope=col>freq</th><th scope=col>clinic</th><th scope=col>an.care</th><th scope=col>survival</th><th scope=col>fitted</th><th scope=col>stdres</th></tr></thead>\n",
       "<tbody>\n",
       "\t<tr><td>176        </td><td>A          </td><td>Low        </td><td>Survived   </td><td>176.367647 </td><td>-1.41339995</td></tr>\n",
       "\t<tr><td>  3        </td><td>A          </td><td>Low        </td><td>Died       </td><td>  2.632353 </td><td> 1.41339995</td></tr>\n",
       "\t<tr><td>293        </td><td>A          </td><td>High       </td><td>Survived   </td><td>292.632353 </td><td> 1.41339995</td></tr>\n",
       "\t<tr><td>  4        </td><td>A          </td><td>High       </td><td>Died       </td><td>  4.367647 </td><td>-1.41339995</td></tr>\n",
       "\t<tr><td>197        </td><td>B          </td><td>Low        </td><td>Survived   </td><td>196.987448 </td><td> 0.04796439</td></tr>\n",
       "\t<tr><td> 17        </td><td>B          </td><td>Low        </td><td>Died       </td><td> 17.012552 </td><td>-0.04796439</td></tr>\n",
       "\t<tr><td> 23        </td><td>B          </td><td>High       </td><td>Survived   </td><td> 23.012552 </td><td>-0.04796439</td></tr>\n",
       "\t<tr><td>  2        </td><td>B          </td><td>High       </td><td>Died       </td><td>  1.987448 </td><td> 0.04796439</td></tr>\n",
       "</tbody>\n",
       "</table>\n"
      ],
      "text/latex": [
       "\\begin{tabular}{r|llllll}\n",
       " freq & clinic & an.care & survival & fitted & stdres\\\\\n",
       "\\hline\n",
       "\t 176         & A           & Low         & Survived    & 176.367647  & -1.41339995\\\\\n",
       "\t   3         & A           & Low         & Died        &   2.632353  &  1.41339995\\\\\n",
       "\t 293         & A           & High        & Survived    & 292.632353  &  1.41339995\\\\\n",
       "\t   4         & A           & High        & Died        &   4.367647  & -1.41339995\\\\\n",
       "\t 197         & B           & Low         & Survived    & 196.987448  &  0.04796439\\\\\n",
       "\t  17         & B           & Low         & Died        &  17.012552  & -0.04796439\\\\\n",
       "\t  23         & B           & High        & Survived    &  23.012552  & -0.04796439\\\\\n",
       "\t   2         & B           & High        & Died        &   1.987448  &  0.04796439\\\\\n",
       "\\end{tabular}\n"
      ],
      "text/markdown": [
       "\n",
       "| freq | clinic | an.care | survival | fitted | stdres |\n",
       "|---|---|---|---|---|---|\n",
       "| 176         | A           | Low         | Survived    | 176.367647  | -1.41339995 |\n",
       "|   3         | A           | Low         | Died        |   2.632353  |  1.41339995 |\n",
       "| 293         | A           | High        | Survived    | 292.632353  |  1.41339995 |\n",
       "|   4         | A           | High        | Died        |   4.367647  | -1.41339995 |\n",
       "| 197         | B           | Low         | Survived    | 196.987448  |  0.04796439 |\n",
       "|  17         | B           | Low         | Died        |  17.012552  | -0.04796439 |\n",
       "|  23         | B           | High        | Survived    |  23.012552  | -0.04796439 |\n",
       "|   2         | B           | High        | Died        |   1.987448  |  0.04796439 |\n",
       "\n"
      ],
      "text/plain": [
       "  freq clinic an.care survival fitted     stdres     \n",
       "1 176  A      Low     Survived 176.367647 -1.41339995\n",
       "2   3  A      Low     Died       2.632353  1.41339995\n",
       "3 293  A      High    Survived 292.632353  1.41339995\n",
       "4   4  A      High    Died       4.367647 -1.41339995\n",
       "5 197  B      Low     Survived 196.987448  0.04796439\n",
       "6  17  B      Low     Died      17.012552 -0.04796439\n",
       "7  23  B      High    Survived  23.012552 -0.04796439\n",
       "8   2  B      High    Died       1.987448  0.04796439"
      ]
     },
     "metadata": {},
     "output_type": "display_data"
    }
   ],
   "source": [
    "baby['fitted'] <- fitted(baby.glm.ex.an.care.survival)\n",
    "\n",
    "baby['stdres'] <- stdres(baby.glm.ex.an.care.survival)\n",
    "\n",
    "baby"
   ]
  },
  {
   "cell_type": "code",
   "execution_count": 108,
   "metadata": {},
   "outputs": [
    {
     "data": {
      "image/png": "[encoded data removed]",
      "text/plain": [
       "plot without title"
      ]
     },
     "metadata": {},
     "output_type": "display_data"
    }
   ],
   "source": [
    "plot(baby$fitted, baby$stdres)"
   ]
  },
  {
   "cell_type": "markdown",
   "metadata": {},
   "source": [
    "## Alternatively, could have fit a logistic regression.\n",
    "\n",
    "> **SURVIVAL IS A BINARY RESPONSE VARIABLE WHICH CAN BE MADE INTO A PROPORTION**"
   ]
  },
  {
   "cell_type": "code",
   "execution_count": 117,
   "metadata": {},
   "outputs": [
    {
     "data": {
      "text/html": [
       "<table>\n",
       "<thead><tr><th scope=col>prop.survived</th><th scope=col>tot</th><th scope=col>clinic</th><th scope=col>an.care</th></tr></thead>\n",
       "<tbody>\n",
       "\t<tr><td>0.9832402</td><td>179      </td><td>A        </td><td>Low      </td></tr>\n",
       "\t<tr><td>0.9865320</td><td>297      </td><td>A        </td><td>High     </td></tr>\n",
       "\t<tr><td>0.9205607</td><td>214      </td><td>B        </td><td>Low      </td></tr>\n",
       "\t<tr><td>0.9200000</td><td> 25      </td><td>B        </td><td>High     </td></tr>\n",
       "</tbody>\n",
       "</table>\n"
      ],
      "text/latex": [
       "\\begin{tabular}{r|llll}\n",
       " prop.survived & tot & clinic & an.care\\\\\n",
       "\\hline\n",
       "\t 0.9832402 & 179       & A         & Low      \\\\\n",
       "\t 0.9865320 & 297       & A         & High     \\\\\n",
       "\t 0.9205607 & 214       & B         & Low      \\\\\n",
       "\t 0.9200000 &  25       & B         & High     \\\\\n",
       "\\end{tabular}\n"
      ],
      "text/markdown": [
       "\n",
       "| prop.survived | tot | clinic | an.care |\n",
       "|---|---|---|---|\n",
       "| 0.9832402 | 179       | A         | Low       |\n",
       "| 0.9865320 | 297       | A         | High      |\n",
       "| 0.9205607 | 214       | B         | Low       |\n",
       "| 0.9200000 |  25       | B         | High      |\n",
       "\n"
      ],
      "text/plain": [
       "  prop.survived tot clinic an.care\n",
       "1 0.9832402     179 A      Low    \n",
       "2 0.9865320     297 A      High   \n",
       "3 0.9205607     214 B      Low    \n",
       "4 0.9200000      25 B      High   "
      ]
     },
     "metadata": {},
     "output_type": "display_data"
    }
   ],
   "source": [
    "survived <- c(176,293,197,23)\n",
    "\n",
    "died <- c(3,4,17,2)\n",
    "\n",
    "tot <- survived + died\n",
    "\n",
    "prop.survived <- survived / tot\n",
    "\n",
    "clinic <- factor(c(rep('A',2),rep('B',2)))\n",
    "\n",
    "an.care <- factor(rep(c('Low','High'),2))\n",
    "\n",
    "baby.lr <-  data.frame(prop.survived, tot, clinic, an.care)\n",
    "\n",
    "baby.lr"
   ]
  },
  {
   "cell_type": "code",
   "execution_count": 120,
   "metadata": {},
   "outputs": [
    {
     "data": {
      "text/plain": [
       "\n",
       "Call:\n",
       "glm(formula = prop.survived ~ clinic + an.care, family = binomial(link = \"logit\"), \n",
       "    data = baby.lr, weights = tot)\n",
       "\n",
       "Deviance Residuals: \n",
       "       1         2         3         4  \n",
       "-0.11107   0.09263   0.04706  -0.14186  \n",
       "\n",
       "Coefficients:\n",
       "            Estimate Std. Error z value Pr(>|z|)    \n",
       "(Intercept)   4.2476     0.4424   9.601  < 2e-16 ***\n",
       "clinicB      -1.6991     0.5307  -3.202  0.00137 ** \n",
       "an.careLow   -0.1104     0.5610  -0.197  0.84403    \n",
       "---\n",
       "Signif. codes:  0 ‘***’ 0.001 ‘**’ 0.01 ‘*’ 0.05 ‘.’ 0.1 ‘ ’ 1\n",
       "\n",
       "(Dispersion parameter for binomial family taken to be 1)\n",
       "\n",
       "    Null deviance: 17.828399  on 3  degrees of freedom\n",
       "Residual deviance:  0.043256  on 1  degrees of freedom\n",
       "AIC: 19.4\n",
       "\n",
       "Number of Fisher Scoring iterations: 4\n"
      ]
     },
     "metadata": {},
     "output_type": "display_data"
    }
   ],
   "source": [
    "baby.lr.glm <- glm(prop.survived ~ clinic + an.care, family=binomial(link='logit'), weights=tot, data = baby.lr)\n",
    "\n",
    "summary(baby.lr.glm)\n"
   ]
  },
  {
   "cell_type": "code",
   "execution_count": 121,
   "metadata": {},
   "outputs": [
    {
     "data": {
      "text/html": [
       "0.835243983655916"
      ],
      "text/latex": [
       "0.835243983655916"
      ],
      "text/markdown": [
       "0.835243983655916"
      ],
      "text/plain": [
       "[1] 0.835244"
      ]
     },
     "metadata": {},
     "output_type": "display_data"
    }
   ],
   "source": [
    "pchisq(0.043256, 1, lower.tail = F)"
   ]
  },
  {
   "cell_type": "code",
   "execution_count": 122,
   "metadata": {},
   "outputs": [
    {
     "data": {
      "text/html": [
       "<table>\n",
       "<thead><tr><th></th><th scope=col>Df</th><th scope=col>Deviance</th><th scope=col>Resid. Df</th><th scope=col>Resid. Dev</th></tr></thead>\n",
       "<tbody>\n",
       "\t<tr><th scope=row>NULL</th><td>NA         </td><td>         NA</td><td>3          </td><td>17.82839924</td></tr>\n",
       "\t<tr><th scope=row>clinic</th><td> 1         </td><td>17.74611006</td><td>2          </td><td> 0.08228918</td></tr>\n",
       "\t<tr><th scope=row>an.care</th><td> 1         </td><td> 0.03903333</td><td>1          </td><td> 0.04325585</td></tr>\n",
       "</tbody>\n",
       "</table>\n"
      ],
      "text/latex": [
       "\\begin{tabular}{r|llll}\n",
       "  & Df & Deviance & Resid. Df & Resid. Dev\\\\\n",
       "\\hline\n",
       "\tNULL & NA          &          NA & 3           & 17.82839924\\\\\n",
       "\tclinic &  1          & 17.74611006 & 2           &  0.08228918\\\\\n",
       "\tan.care &  1          &  0.03903333 & 1           &  0.04325585\\\\\n",
       "\\end{tabular}\n"
      ],
      "text/markdown": [
       "\n",
       "| <!--/--> | Df | Deviance | Resid. Df | Resid. Dev |\n",
       "|---|---|---|---|---|\n",
       "| NULL | NA          |          NA | 3           | 17.82839924 |\n",
       "| clinic |  1          | 17.74611006 | 2           |  0.08228918 |\n",
       "| an.care |  1          |  0.03903333 | 1           |  0.04325585 |\n",
       "\n"
      ],
      "text/plain": [
       "        Df Deviance    Resid. Df Resid. Dev \n",
       "NULL    NA          NA 3         17.82839924\n",
       "clinic   1 17.74611006 2          0.08228918\n",
       "an.care  1  0.03903333 1          0.04325585"
      ]
     },
     "metadata": {},
     "output_type": "display_data"
    }
   ],
   "source": [
    "anova(baby.lr.glm)"
   ]
  },
  {
   "cell_type": "code",
   "execution_count": 123,
   "metadata": {},
   "outputs": [
    {
     "data": {
      "text/plain": [
       "\n",
       "Call:\n",
       "glm(formula = prop.survived ~ clinic, family = binomial(link = \"logit\"), \n",
       "    data = baby.lr, weights = tot)\n",
       "\n",
       "Deviance Residuals: \n",
       "        1          2          3          4  \n",
       "-0.223334   0.179764   0.003172  -0.009271  \n",
       "\n",
       "Coefficients:\n",
       "            Estimate Std. Error z value Pr(>|z|)    \n",
       "(Intercept)   4.2047     0.3808  11.042  < 2e-16 ***\n",
       "clinicB      -1.7555     0.4496  -3.904 9.45e-05 ***\n",
       "---\n",
       "Signif. codes:  0 ‘***’ 0.001 ‘**’ 0.01 ‘*’ 0.05 ‘.’ 0.1 ‘ ’ 1\n",
       "\n",
       "(Dispersion parameter for binomial family taken to be 1)\n",
       "\n",
       "    Null deviance: 17.828399  on 3  degrees of freedom\n",
       "Residual deviance:  0.082289  on 2  degrees of freedom\n",
       "AIC: 17.439\n",
       "\n",
       "Number of Fisher Scoring iterations: 4\n"
      ]
     },
     "metadata": {},
     "output_type": "display_data"
    }
   ],
   "source": [
    "baby.lr.glm.ex.care <- glm(prop.survived ~ clinic, family=binomial(link='logit'), weights=tot, data = baby.lr)\n",
    "\n",
    "summary(baby.lr.glm.ex.care)"
   ]
  },
  {
   "cell_type": "code",
   "execution_count": 126,
   "metadata": {},
   "outputs": [
    {
     "data": {
      "text/html": [
       "0.959690444658775"
      ],
      "text/latex": [
       "0.959690444658775"
      ],
      "text/markdown": [
       "0.959690444658775"
      ],
      "text/plain": [
       "[1] 0.9596904"
      ]
     },
     "metadata": {},
     "output_type": "display_data"
    }
   ],
   "source": [
    "pchisq(0.082289, 2, lower.tail = F)"
   ]
  },
  {
   "cell_type": "code",
   "execution_count": 133,
   "metadata": {},
   "outputs": [],
   "source": [
    "baby.lr['fitted'] <- fitted(baby.lr.glm.ex.care)\n",
    "baby.lr['fitted.total'] <- fitted(baby.lr.glm.ex.care) * baby.lr$tot\n"
   ]
  },
  {
   "cell_type": "code",
   "execution_count": 134,
   "metadata": {},
   "outputs": [
    {
     "data": {
      "text/html": [
       "<table>\n",
       "<thead><tr><th scope=col>freq</th><th scope=col>clinic</th><th scope=col>an.care</th><th scope=col>survival</th><th scope=col>fitted</th><th scope=col>stdres</th></tr></thead>\n",
       "<tbody>\n",
       "\t<tr><td>176        </td><td>A          </td><td>Low        </td><td>Survived   </td><td>176.367647 </td><td>-1.41339995</td></tr>\n",
       "\t<tr><td>  3        </td><td>A          </td><td>Low        </td><td>Died       </td><td>  2.632353 </td><td> 1.41339995</td></tr>\n",
       "\t<tr><td>293        </td><td>A          </td><td>High       </td><td>Survived   </td><td>292.632353 </td><td> 1.41339995</td></tr>\n",
       "\t<tr><td>  4        </td><td>A          </td><td>High       </td><td>Died       </td><td>  4.367647 </td><td>-1.41339995</td></tr>\n",
       "\t<tr><td>197        </td><td>B          </td><td>Low        </td><td>Survived   </td><td>196.987448 </td><td> 0.04796439</td></tr>\n",
       "\t<tr><td> 17        </td><td>B          </td><td>Low        </td><td>Died       </td><td> 17.012552 </td><td>-0.04796439</td></tr>\n",
       "\t<tr><td> 23        </td><td>B          </td><td>High       </td><td>Survived   </td><td> 23.012552 </td><td>-0.04796439</td></tr>\n",
       "\t<tr><td>  2        </td><td>B          </td><td>High       </td><td>Died       </td><td>  1.987448 </td><td> 0.04796439</td></tr>\n",
       "</tbody>\n",
       "</table>\n"
      ],
      "text/latex": [
       "\\begin{tabular}{r|llllll}\n",
       " freq & clinic & an.care & survival & fitted & stdres\\\\\n",
       "\\hline\n",
       "\t 176         & A           & Low         & Survived    & 176.367647  & -1.41339995\\\\\n",
       "\t   3         & A           & Low         & Died        &   2.632353  &  1.41339995\\\\\n",
       "\t 293         & A           & High        & Survived    & 292.632353  &  1.41339995\\\\\n",
       "\t   4         & A           & High        & Died        &   4.367647  & -1.41339995\\\\\n",
       "\t 197         & B           & Low         & Survived    & 196.987448  &  0.04796439\\\\\n",
       "\t  17         & B           & Low         & Died        &  17.012552  & -0.04796439\\\\\n",
       "\t  23         & B           & High        & Survived    &  23.012552  & -0.04796439\\\\\n",
       "\t   2         & B           & High        & Died        &   1.987448  &  0.04796439\\\\\n",
       "\\end{tabular}\n"
      ],
      "text/markdown": [
       "\n",
       "| freq | clinic | an.care | survival | fitted | stdres |\n",
       "|---|---|---|---|---|---|\n",
       "| 176         | A           | Low         | Survived    | 176.367647  | -1.41339995 |\n",
       "|   3         | A           | Low         | Died        |   2.632353  |  1.41339995 |\n",
       "| 293         | A           | High        | Survived    | 292.632353  |  1.41339995 |\n",
       "|   4         | A           | High        | Died        |   4.367647  | -1.41339995 |\n",
       "| 197         | B           | Low         | Survived    | 196.987448  |  0.04796439 |\n",
       "|  17         | B           | Low         | Died        |  17.012552  | -0.04796439 |\n",
       "|  23         | B           | High        | Survived    |  23.012552  | -0.04796439 |\n",
       "|   2         | B           | High        | Died        |   1.987448  |  0.04796439 |\n",
       "\n"
      ],
      "text/plain": [
       "  freq clinic an.care survival fitted     stdres     \n",
       "1 176  A      Low     Survived 176.367647 -1.41339995\n",
       "2   3  A      Low     Died       2.632353  1.41339995\n",
       "3 293  A      High    Survived 292.632353  1.41339995\n",
       "4   4  A      High    Died       4.367647 -1.41339995\n",
       "5 197  B      Low     Survived 196.987448  0.04796439\n",
       "6  17  B      Low     Died      17.012552 -0.04796439\n",
       "7  23  B      High    Survived  23.012552 -0.04796439\n",
       "8   2  B      High    Died       1.987448  0.04796439"
      ]
     },
     "metadata": {},
     "output_type": "display_data"
    }
   ],
   "source": [
    "baby"
   ]
  },
  {
   "cell_type": "code",
   "execution_count": 135,
   "metadata": {},
   "outputs": [
    {
     "data": {
      "text/html": [
       "<table>\n",
       "<thead><tr><th scope=col>prop.survived</th><th scope=col>tot</th><th scope=col>clinic</th><th scope=col>an.care</th><th scope=col>fitted</th><th scope=col>fitted.total</th></tr></thead>\n",
       "<tbody>\n",
       "\t<tr><td>0.9832402</td><td>179      </td><td>A        </td><td>Low      </td><td>0.9852941</td><td>176.36765</td></tr>\n",
       "\t<tr><td>0.9865320</td><td>297      </td><td>A        </td><td>High     </td><td>0.9852941</td><td>292.63235</td></tr>\n",
       "\t<tr><td>0.9205607</td><td>214      </td><td>B        </td><td>Low      </td><td>0.9205021</td><td>196.98745</td></tr>\n",
       "\t<tr><td>0.9200000</td><td> 25      </td><td>B        </td><td>High     </td><td>0.9205021</td><td> 23.01255</td></tr>\n",
       "</tbody>\n",
       "</table>\n"
      ],
      "text/latex": [
       "\\begin{tabular}{r|llllll}\n",
       " prop.survived & tot & clinic & an.care & fitted & fitted.total\\\\\n",
       "\\hline\n",
       "\t 0.9832402 & 179       & A         & Low       & 0.9852941 & 176.36765\\\\\n",
       "\t 0.9865320 & 297       & A         & High      & 0.9852941 & 292.63235\\\\\n",
       "\t 0.9205607 & 214       & B         & Low       & 0.9205021 & 196.98745\\\\\n",
       "\t 0.9200000 &  25       & B         & High      & 0.9205021 &  23.01255\\\\\n",
       "\\end{tabular}\n"
      ],
      "text/markdown": [
       "\n",
       "| prop.survived | tot | clinic | an.care | fitted | fitted.total |\n",
       "|---|---|---|---|---|---|\n",
       "| 0.9832402 | 179       | A         | Low       | 0.9852941 | 176.36765 |\n",
       "| 0.9865320 | 297       | A         | High      | 0.9852941 | 292.63235 |\n",
       "| 0.9205607 | 214       | B         | Low       | 0.9205021 | 196.98745 |\n",
       "| 0.9200000 |  25       | B         | High      | 0.9205021 |  23.01255 |\n",
       "\n"
      ],
      "text/plain": [
       "  prop.survived tot clinic an.care fitted    fitted.total\n",
       "1 0.9832402     179 A      Low     0.9852941 176.36765   \n",
       "2 0.9865320     297 A      High    0.9852941 292.63235   \n",
       "3 0.9205607     214 B      Low     0.9205021 196.98745   \n",
       "4 0.9200000      25 B      High    0.9205021  23.01255   "
      ]
     },
     "metadata": {},
     "output_type": "display_data"
    }
   ],
   "source": [
    "baby.lr"
   ]
  },
  {
   "cell_type": "markdown",
   "metadata": {},
   "source": [
    "**You get precisely the same fitted values**."
   ]
  },
  {
   "cell_type": "code",
   "execution_count": null,
   "metadata": {},
   "outputs": [],
   "source": []
  }
 ],
 "metadata": {
  "kernelspec": {
   "display_name": "R",
   "language": "R",
   "name": "ir"
  },
  "language_info": {
   "codemirror_mode": "r",
   "file_extension": ".r",
   "mimetype": "text/x-r-source",
   "name": "R",
   "pygments_lexer": "r",
   "version": "3.6.1"
  }
 },
 "nbformat": 4,
 "nbformat_minor": 2
}
