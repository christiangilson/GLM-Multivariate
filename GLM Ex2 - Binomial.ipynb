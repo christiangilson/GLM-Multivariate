{
 "cells": [
  {
   "cell_type": "code",
   "execution_count": 35,
   "metadata": {},
   "outputs": [
    {
     "name": "stderr",
     "output_type": "stream",
     "text": [
      "\n",
      "Attaching package: ‘MASS’\n",
      "\n",
      "The following object is masked _by_ ‘.GlobalEnv’:\n",
      "\n",
      "    leuk\n",
      "\n"
     ]
    }
   ],
   "source": [
    "library(MASS)"
   ]
  },
  {
   "cell_type": "markdown",
   "metadata": {},
   "source": [
    "## Problem Sheet 2\n",
    "\n",
    "Two Questions: **Both Binomial**\n",
    "\n",
    "## Q1) Looking at proportional death rates\n",
    "\n",
    "### Constructing dataframe"
   ]
  },
  {
   "cell_type": "code",
   "execution_count": 24,
   "metadata": {},
   "outputs": [],
   "source": [
    "doses <- c(0,1,10,50,100,200)"
   ]
  },
  {
   "cell_type": "code",
   "execution_count": 25,
   "metadata": {},
   "outputs": [],
   "source": [
    "leuk <- c(13,5,5,3,4,18)\n",
    "other <- c(378,200,151,47,31,33)"
   ]
  },
  {
   "cell_type": "code",
   "execution_count": 26,
   "metadata": {},
   "outputs": [],
   "source": [
    "tot = leuk + other"
   ]
  },
  {
   "cell_type": "code",
   "execution_count": 27,
   "metadata": {},
   "outputs": [],
   "source": [
    "leuk.prop <- leuk / tot"
   ]
  },
  {
   "cell_type": "code",
   "execution_count": 28,
   "metadata": {},
   "outputs": [],
   "source": [
    "hiroshima <- data.frame(leuk.prop,doses,tot)"
   ]
  },
  {
   "cell_type": "code",
   "execution_count": 29,
   "metadata": {},
   "outputs": [
    {
     "data": {
      "text/html": [
       "<table>\n",
       "<thead><tr><th scope=col>leuk.prop</th><th scope=col>doses</th><th scope=col>tot</th></tr></thead>\n",
       "<tbody>\n",
       "\t<tr><td>0.03324808</td><td>  0       </td><td>391       </td></tr>\n",
       "\t<tr><td>0.02439024</td><td>  1       </td><td>205       </td></tr>\n",
       "\t<tr><td>0.03205128</td><td> 10       </td><td>156       </td></tr>\n",
       "\t<tr><td>0.06000000</td><td> 50       </td><td> 50       </td></tr>\n",
       "\t<tr><td>0.11428571</td><td>100       </td><td> 35       </td></tr>\n",
       "\t<tr><td>0.35294118</td><td>200       </td><td> 51       </td></tr>\n",
       "</tbody>\n",
       "</table>\n"
      ],
      "text/latex": [
       "\\begin{tabular}{r|lll}\n",
       " leuk.prop & doses & tot\\\\\n",
       "\\hline\n",
       "\t 0.03324808 &   0        & 391       \\\\\n",
       "\t 0.02439024 &   1        & 205       \\\\\n",
       "\t 0.03205128 &  10        & 156       \\\\\n",
       "\t 0.06000000 &  50        &  50       \\\\\n",
       "\t 0.11428571 & 100        &  35       \\\\\n",
       "\t 0.35294118 & 200        &  51       \\\\\n",
       "\\end{tabular}\n"
      ],
      "text/markdown": [
       "\n",
       "| leuk.prop | doses | tot |\n",
       "|---|---|---|\n",
       "| 0.03324808 |   0        | 391        |\n",
       "| 0.02439024 |   1        | 205        |\n",
       "| 0.03205128 |  10        | 156        |\n",
       "| 0.06000000 |  50        |  50        |\n",
       "| 0.11428571 | 100        |  35        |\n",
       "| 0.35294118 | 200        |  51        |\n",
       "\n"
      ],
      "text/plain": [
       "  leuk.prop  doses tot\n",
       "1 0.03324808   0   391\n",
       "2 0.02439024   1   205\n",
       "3 0.03205128  10   156\n",
       "4 0.06000000  50    50\n",
       "5 0.11428571 100    35\n",
       "6 0.35294118 200    51"
      ]
     },
     "metadata": {},
     "output_type": "display_data"
    }
   ],
   "source": [
    "hiroshima"
   ]
  },
  {
   "cell_type": "markdown",
   "metadata": {},
   "source": [
    "## Fitting the logistic regression GLM\n",
    "\n",
    "Fitting a GLM with:\n",
    "\n",
    "* Binomial underlying distribution for the random variable for Leukemia proportion\n",
    "* Logit link function mapping the fitted values to the linear predictor\n",
    "* Weights provided by the total numbers of cancers\n",
    "\n",
    "### Model\n",
    "\n",
    "General model:\n",
    "\n",
    "**The reason you're tearing your hair out about this having an extra parameter is because it's fundamentally over-parameterised!**\n",
    "\n",
    "**You should have p-parameters, but actually you've got p+1 here with one categorical factor in the equation.**\n",
    "\n",
    "**Apply the corner constraint when fitting the model:**\n",
    "\n",
    "> $E[Y_{i}] = \\mu_{i} = g^{-1}(\\eta_{i}) = g^{-1} \\left ( \\beta_{0} + \\beta_{1}x_{i1} + \\beta_{2}x_{i2} + ... + \\beta_{p}x_{ip} \\right )$,\n",
    "\n",
    "where $i = 1,2,...,n$ and $j = 1,2,...,p$. Have $n$ observations and $p$ parameters that you're fitting to the model.\n",
    "\n",
    "With logistic regression using the binomial distribution  and it's canonical link function - the  logit link - $g()$ looks like this:\n",
    "\n",
    "> $b(\\theta_{i}) = (1 + e^{\\theta_{i}})$\n",
    "\n",
    "> $\\mu_{i} = \\pi_{i} = b'(\\theta_{i}) = \\dfrac{e^{\\theta_{i}}}{1+e^{\\theta_{i}}}$\n",
    "\n",
    "And now you rearrange to put the canonical parameter as the subject as a function of the mean, and that function **is** the link function.\n",
    "\n",
    "> $\\pi_{i}(1+e^{\\theta_{i}}) = e^{\\theta_{i}}$\n",
    "\n",
    "> $\\pi_{i} = e^{\\theta_{i}} - \\pi_{i}e^{\\theta_{i}} = e^{\\theta_{i}}(1 -\\pi_{i})$\n",
    "\n",
    "> $e^{\\theta_{i}} = \\dfrac{\\pi_{i}}{(1 -\\pi_{i})}$\n",
    "\n",
    "> $\\theta_{i} = \\ln\\dfrac{\\pi_{i}}{(1 -\\pi_{i})}$\n",
    "\n",
    "> $g(\\mu_{i}) = g(\\pi_{i}) = \\ln\\dfrac{\\pi_{i}}{(1 -\\pi_{i})}$\n",
    "\n",
    "since $\\theta_{i} = \\eta_{i}$ for the canonical link, and therefore the above is the logit link.\n",
    "\n",
    "Since doses is a factor, we have $m=6$ factors and will therefore have $m-1=5$ dummy variables for these factors, with the first factor for the 0th deaths group set to zero.\n",
    "\n",
    "> $\\eta = \\beta_{0} + \\beta_{2}x_{i2} + ... + \\beta_{p}x_{ip}$\n",
    "\n",
    "with $\\beta_{1}$ = 0, and hence you're fitting a model with $p$ parameters, and all of your $n-p$ logic works out fine."
   ]
  },
  {
   "cell_type": "code",
   "execution_count": 30,
   "metadata": {},
   "outputs": [
    {
     "data": {
      "text/plain": [
       "\n",
       "Call:\n",
       "glm(formula = leuk.prop ~ doses, family = binomial(link = \"logit\"), \n",
       "    data = hiroshima, weights = tot)\n",
       "\n",
       "Deviance Residuals: \n",
       "       1         2         3         4         5         6  \n",
       " 0.41428  -0.48994  -0.13991   0.02835   0.00048   0.00269  \n",
       "\n",
       "Coefficients:\n",
       "             Estimate Std. Error z value Pr(>|z|)    \n",
       "(Intercept) -3.488973   0.204062 -17.098  < 2e-16 ***\n",
       "doses        0.014410   0.001817   7.932 2.15e-15 ***\n",
       "---\n",
       "Signif. codes:  0 ‘***’ 0.001 ‘**’ 0.01 ‘*’ 0.05 ‘.’ 0.1 ‘ ’ 1\n",
       "\n",
       "(Dispersion parameter for binomial family taken to be 1)\n",
       "\n",
       "    Null deviance: 54.35089  on 5  degrees of freedom\n",
       "Residual deviance:  0.43206  on 4  degrees of freedom\n",
       "AIC: 26.097\n",
       "\n",
       "Number of Fisher Scoring iterations: 4\n"
      ]
     },
     "metadata": {},
     "output_type": "display_data"
    }
   ],
   "source": [
    "leuk.glm <- glm(leuk.prop ~ doses, family=binomial(link='logit'), weights = tot, data=hiroshima)\n",
    "\n",
    "summary(leuk.glm)"
   ]
  },
  {
   "cell_type": "markdown",
   "metadata": {},
   "source": [
    "**Binomial is a one parameter model, therefore has scale parameter, $\\phi = 1$, and this the scaled deviance is equal  to the measured deviance.**\n",
    "\n",
    "### Problem!\n",
    "\n",
    "You have just fitted the saturated model, because you set doses to be a factor rather than a quantitative variable. Our scaled deviance became 0; there's no difference between this model and the saturated model with $n$ parameters.\n",
    "\n",
    "### Fixing this... Setting *doses* to be a continuous explanatory variable, and so our model becomes:\n",
    "\n",
    "> $\\eta = \\beta_{0} + \\beta_{1}x_{i1}$\n",
    "\n",
    "> $\\eta = -3.488973 + 0.014410 \\times \\text{doses}$\n"
   ]
  },
  {
   "cell_type": "markdown",
   "metadata": {},
   "source": [
    "## Analysis of Deviance\n",
    "\n",
    "Have (scaled) deviance of $0.43206$ on $n-p=6-2=4$ degrees of freedom.\n",
    "\n",
    "We can reject the null hypothesis (that our model does not need any additional parameters that exist in the saturated model  that don't  exist in the current model) at the $100\\alpha\\%$ level of significance if:\n",
    "\n",
    "> $S > \\chi^{2}_{4}(\\alpha)$"
   ]
  },
  {
   "cell_type": "code",
   "execution_count": 31,
   "metadata": {},
   "outputs": [
    {
     "data": {
      "text/html": [
       "0.979768905629138"
      ],
      "text/latex": [
       "0.979768905629138"
      ],
      "text/markdown": [
       "0.979768905629138"
      ],
      "text/plain": [
       "[1] 0.9797689"
      ]
     },
     "metadata": {},
     "output_type": "display_data"
    }
   ],
   "source": [
    "pchisq(0.43206, 4, lower.tail = F)"
   ]
  },
  {
   "cell_type": "markdown",
   "metadata": {},
   "source": [
    "We don't have sufficient  evidence to reject the null hypothesis, therefore our goodness of fit statistic suggests we are not missing parameters. Since we are only fitting one explanatory variable and thus two parameters (the other being for the intercept), we can quickly compare the scaled deviance with the null deviance (the deviance achieved by purely fitting a model to the mean of the dependent variable), and you can clearly see that the null deviance is unsatasfactory. We therefore can say that this model passes the goodness of fit check, and we won't look at reducing the number of parameters for a more parsimoniuous model.\n",
    "\n",
    "We then pass to the model adequecy stage..."
   ]
  },
  {
   "cell_type": "code",
   "execution_count": 33,
   "metadata": {},
   "outputs": [],
   "source": [
    "x <- 1:200\n",
    "pred <- predict(leuk.glm, data.frame(doses=x), type='response')"
   ]
  },
  {
   "cell_type": "code",
   "execution_count": 34,
   "metadata": {},
   "outputs": [
    {
     "data": {
      "image/png": "[encoded data removed]",
      "text/plain": [
       "plot without title"
      ]
     },
     "metadata": {},
     "output_type": "display_data"
    }
   ],
   "source": [
    "plot(doses,leuk.prop)\n",
    "lines(x,pred)"
   ]
  },
  {
   "cell_type": "markdown",
   "metadata": {},
   "source": [
    "* By initially looking at the prediction Vs the observed data, the fit looks sensible.\n",
    "\n",
    "* Need to inspect the residuals."
   ]
  },
  {
   "cell_type": "code",
   "execution_count": 37,
   "metadata": {},
   "outputs": [],
   "source": [
    "leuk.stdres <- stdres(leuk.glm)\n",
    "leuk.fitted <- fitted(leuk.glm)"
   ]
  },
  {
   "cell_type": "code",
   "execution_count": 38,
   "metadata": {},
   "outputs": [
    {
     "data": {
      "image/png": "[encoded data removed]",
      "text/plain": [
       "plot without title"
      ]
     },
     "metadata": {},
     "output_type": "display_data"
    }
   ],
   "source": [
    "plot(leuk.fitted, leuk.stdres)"
   ]
  },
  {
   "cell_type": "markdown",
   "metadata": {},
   "source": [
    "# Q2) Toxicity of tobacco budworm\n",
    "\n",
    "> Have doses of something\n",
    "\n",
    "> Batches of 20 moths of  each sex were exposes to the dose of something\n",
    "\n",
    "> Recorded the number that died as a result of the dose\n",
    "\n",
    "> Fit a logistic regresion to $\\log_{2}(\\text{dose})$"
   ]
  },
  {
   "cell_type": "code",
   "execution_count": 71,
   "metadata": {},
   "outputs": [],
   "source": [
    "# data entry\n",
    "\n",
    "deaths <- c(1,4,9,13,18,20,\n",
    "            0,2,6,10,12,16)\n",
    "\n",
    "tot <- rep(20,12)\n",
    "\n",
    "deaths.prop <- deaths / tot\n",
    "\n",
    "dose <- rep(c(1,2,4,8,16,32),2)\n",
    "\n",
    "log.2.dose <- log(dose, 2)\n",
    "\n",
    "sex <- factor(c(rep('M',6),rep('F',6)))\n",
    "\n",
    "budworm <- data.frame(deaths.prop, tot, sex, log.2.dose)"
   ]
  },
  {
   "cell_type": "code",
   "execution_count": 72,
   "metadata": {},
   "outputs": [
    {
     "data": {
      "text/html": [
       "<table>\n",
       "<thead><tr><th scope=col>deaths.prop</th><th scope=col>tot</th><th scope=col>sex</th><th scope=col>log.2.dose</th></tr></thead>\n",
       "<tbody>\n",
       "\t<tr><td>0.05</td><td>20  </td><td>M   </td><td>0   </td></tr>\n",
       "\t<tr><td>0.20</td><td>20  </td><td>M   </td><td>1   </td></tr>\n",
       "\t<tr><td>0.45</td><td>20  </td><td>M   </td><td>2   </td></tr>\n",
       "\t<tr><td>0.65</td><td>20  </td><td>M   </td><td>3   </td></tr>\n",
       "\t<tr><td>0.90</td><td>20  </td><td>M   </td><td>4   </td></tr>\n",
       "\t<tr><td>1.00</td><td>20  </td><td>M   </td><td>5   </td></tr>\n",
       "\t<tr><td>0.00</td><td>20  </td><td>F   </td><td>0   </td></tr>\n",
       "\t<tr><td>0.10</td><td>20  </td><td>F   </td><td>1   </td></tr>\n",
       "\t<tr><td>0.30</td><td>20  </td><td>F   </td><td>2   </td></tr>\n",
       "\t<tr><td>0.50</td><td>20  </td><td>F   </td><td>3   </td></tr>\n",
       "\t<tr><td>0.60</td><td>20  </td><td>F   </td><td>4   </td></tr>\n",
       "\t<tr><td>0.80</td><td>20  </td><td>F   </td><td>5   </td></tr>\n",
       "</tbody>\n",
       "</table>\n"
      ],
      "text/latex": [
       "\\begin{tabular}{r|llll}\n",
       " deaths.prop & tot & sex & log.2.dose\\\\\n",
       "\\hline\n",
       "\t 0.05 & 20   & M    & 0   \\\\\n",
       "\t 0.20 & 20   & M    & 1   \\\\\n",
       "\t 0.45 & 20   & M    & 2   \\\\\n",
       "\t 0.65 & 20   & M    & 3   \\\\\n",
       "\t 0.90 & 20   & M    & 4   \\\\\n",
       "\t 1.00 & 20   & M    & 5   \\\\\n",
       "\t 0.00 & 20   & F    & 0   \\\\\n",
       "\t 0.10 & 20   & F    & 1   \\\\\n",
       "\t 0.30 & 20   & F    & 2   \\\\\n",
       "\t 0.50 & 20   & F    & 3   \\\\\n",
       "\t 0.60 & 20   & F    & 4   \\\\\n",
       "\t 0.80 & 20   & F    & 5   \\\\\n",
       "\\end{tabular}\n"
      ],
      "text/markdown": [
       "\n",
       "| deaths.prop | tot | sex | log.2.dose |\n",
       "|---|---|---|---|\n",
       "| 0.05 | 20   | M    | 0    |\n",
       "| 0.20 | 20   | M    | 1    |\n",
       "| 0.45 | 20   | M    | 2    |\n",
       "| 0.65 | 20   | M    | 3    |\n",
       "| 0.90 | 20   | M    | 4    |\n",
       "| 1.00 | 20   | M    | 5    |\n",
       "| 0.00 | 20   | F    | 0    |\n",
       "| 0.10 | 20   | F    | 1    |\n",
       "| 0.30 | 20   | F    | 2    |\n",
       "| 0.50 | 20   | F    | 3    |\n",
       "| 0.60 | 20   | F    | 4    |\n",
       "| 0.80 | 20   | F    | 5    |\n",
       "\n"
      ],
      "text/plain": [
       "   deaths.prop tot sex log.2.dose\n",
       "1  0.05        20  M   0         \n",
       "2  0.20        20  M   1         \n",
       "3  0.45        20  M   2         \n",
       "4  0.65        20  M   3         \n",
       "5  0.90        20  M   4         \n",
       "6  1.00        20  M   5         \n",
       "7  0.00        20  F   0         \n",
       "8  0.10        20  F   1         \n",
       "9  0.30        20  F   2         \n",
       "10 0.50        20  F   3         \n",
       "11 0.60        20  F   4         \n",
       "12 0.80        20  F   5         "
      ]
     },
     "metadata": {},
     "output_type": "display_data"
    }
   ],
   "source": [
    "budworm"
   ]
  },
  {
   "cell_type": "markdown",
   "metadata": {},
   "source": [
    "## GLM\n",
    "\n",
    "### Model without interaction (i.e. different intercept but same slope):\n",
    "\n",
    "> $E[Y_{i}] = \\mu_{i} = g^{-1}(\\eta_{i}) = g^{-1} \\left ( \\beta_{0} + \\beta_{1}x_{i, \\log_{2}(\\text{dose})} + \\beta_{2}x_{i, F} + \\beta_{3}x_{i, M} \\right )$,\n",
    "\n",
    "**where $i = 1,2,...,n$. This is an over-parameterised model, therefore we apply the corner constraint where $\\beta_{2} = 0$. We therefore  fit a model  with $n = 12$ observations,  and $p=3$ parameters. Our deviance should come out with $n-p=12-3=9$ degrees of freedom.**\n",
    "\n",
    "### Model with interaction (different intercept **AND** different slope):\n",
    "\n",
    "> $E[Y_{i}] = \\mu_{i} = g^{-1}(\\eta_{i}) = g^{-1} \\left ( \\beta_{0} + \\beta_{1}x_{i, \\log_{2}(\\text{dose})} + \\beta_{2}x_{i, F} + \\beta_{3}x_{i, M} + \\beta_{4}x_{i, \\log_{2}(\\text{dose})F} + \\beta_{5}x_{i, \\log_{2}(\\text{dose})M} \\right )$.\n",
    "\n",
    "**Corner constraint for interaction model: $\\beta_{2} = \\beta_{4} = 0$**.\n",
    "\n",
    "### Log link\n",
    "\n",
    "With logistic regression using the binomial distribution  and it's canonical link function - the  logit link - $g()$ looks like this:\n",
    "\n",
    "> $b(\\theta_{i}) = (1 + e^{\\theta_{i}})$\n",
    "\n",
    "> $\\mu_{i} = \\pi_{i} = b'(\\theta_{i}) = \\dfrac{e^{\\theta_{i}}}{1+e^{\\theta_{i}}}$\n",
    "\n",
    "And now you rearrange to put the canonical parameter as the subject as a function of the mean, and that function **is** the link function.\n",
    "\n",
    "> $\\pi_{i}(1+e^{\\theta_{i}}) = e^{\\theta_{i}}$\n",
    "\n",
    "> $\\pi_{i} = e^{\\theta_{i}} - \\pi_{i}e^{\\theta_{i}} = e^{\\theta_{i}}(1 -\\pi_{i})$\n",
    "\n",
    "> $e^{\\theta_{i}} = \\dfrac{\\pi_{i}}{(1 -\\pi_{i})}$\n",
    "\n",
    "> $\\theta_{i} = \\ln\\dfrac{\\pi_{i}}{(1 -\\pi_{i})}$\n",
    "\n",
    "> $g(\\mu_{i}) = g(\\pi_{i}) = \\ln\\dfrac{\\pi_{i}}{(1 -\\pi_{i})}$\n",
    "\n",
    "since $\\theta_{i} = \\eta_{i}$ for the canonical link, and therefore the above is the logit link."
   ]
  },
  {
   "cell_type": "markdown",
   "metadata": {},
   "source": [
    "# No-interaction model"
   ]
  },
  {
   "cell_type": "code",
   "execution_count": 91,
   "metadata": {},
   "outputs": [
    {
     "data": {
      "text/plain": [
       "\n",
       "Call:\n",
       "glm(formula = deaths.prop ~ log.2.dose + sex, family = binomial(link = \"logit\"), \n",
       "    data = budworm, weights = tot)\n",
       "\n",
       "Deviance Residuals: \n",
       "     Min        1Q    Median        3Q       Max  \n",
       "-1.10540  -0.65343  -0.02225   0.48471   1.42944  \n",
       "\n",
       "Coefficients:\n",
       "            Estimate Std. Error z value Pr(>|z|)    \n",
       "(Intercept)  -3.4732     0.4685  -7.413 1.23e-13 ***\n",
       "log.2.dose    1.0642     0.1311   8.119 4.70e-16 ***\n",
       "sexM          1.1007     0.3558   3.093  0.00198 ** \n",
       "---\n",
       "Signif. codes:  0 ‘***’ 0.001 ‘**’ 0.01 ‘*’ 0.05 ‘.’ 0.1 ‘ ’ 1\n",
       "\n",
       "(Dispersion parameter for binomial family taken to be 1)\n",
       "\n",
       "    Null deviance: 124.8756  on 11  degrees of freedom\n",
       "Residual deviance:   6.7571  on  9  degrees of freedom\n",
       "AIC: 42.867\n",
       "\n",
       "Number of Fisher Scoring iterations: 4\n"
      ]
     },
     "metadata": {},
     "output_type": "display_data"
    }
   ],
   "source": [
    "budworm.glm <- glm(deaths.prop ~ log.2.dose + sex, family=binomial(link='logit'), weights=tot, data=budworm)\n",
    "\n",
    "summary(budworm.glm)"
   ]
  },
  {
   "cell_type": "code",
   "execution_count": 92,
   "metadata": {},
   "outputs": [
    {
     "data": {
      "text/html": [
       "0.662392033544975"
      ],
      "text/latex": [
       "0.662392033544975"
      ],
      "text/markdown": [
       "0.662392033544975"
      ],
      "text/plain": [
       "[1] 0.662392"
      ]
     },
     "metadata": {},
     "output_type": "display_data"
    }
   ],
   "source": [
    "pchisq(6.7571, 9, lower.tail = F)"
   ]
  },
  {
   "cell_type": "markdown",
   "metadata": {},
   "source": [
    "## Analysis of Deviance Table\n",
    "\n",
    "> Parameters added sequentially\n",
    "\n",
    "The full model, with the dose and the gender factor have a $p$-value associated with the (scaled) deviance of $0.66$ and therefore not significant. We therefore don't have sufficient evidence to reject the null hypothesis that we do not need any additional parameters that exist in the saturated model, but do not exist in the current model.\n",
    "\n",
    "Running the same test without the sex dummy variable, we see that the $p$-value is much lower, though not so significant that we would reject the null at the 5% level of significance.\n",
    "\n",
    "We can however say that there is more weight to our evidence that we don't need additional parameters in our model when we include the gender factor. Therefore I would endorse the model with the gender factor rather than without it."
   ]
  },
  {
   "cell_type": "code",
   "execution_count": 84,
   "metadata": {},
   "outputs": [
    {
     "data": {
      "text/html": [
       "0.0747180362948342"
      ],
      "text/latex": [
       "0.0747180362948342"
      ],
      "text/markdown": [
       "0.0747180362948342"
      ],
      "text/plain": [
       "[1] 0.07471804"
      ]
     },
     "metadata": {},
     "output_type": "display_data"
    }
   ],
   "source": [
    "pchisq(16.984033, 10, lower.tail=F)"
   ]
  },
  {
   "cell_type": "code",
   "execution_count": 85,
   "metadata": {},
   "outputs": [
    {
     "data": {
      "text/html": [
       "<table>\n",
       "<thead><tr><th></th><th scope=col>Df</th><th scope=col>Deviance</th><th scope=col>Resid. Df</th><th scope=col>Resid. Dev</th><th scope=col>Pr(&gt;Chi)</th></tr></thead>\n",
       "<tbody>\n",
       "\t<tr><th scope=row>NULL</th><td>NA          </td><td>       NA   </td><td>11          </td><td>124.875593  </td><td>          NA</td></tr>\n",
       "\t<tr><th scope=row>log.2.dose</th><td> 1          </td><td>107.89156   </td><td>10          </td><td> 16.984033  </td><td>2.838937e-25</td></tr>\n",
       "\t<tr><th scope=row>sex</th><td> 1          </td><td> 10.22697   </td><td> 9          </td><td>  6.757064  </td><td>1.384020e-03</td></tr>\n",
       "</tbody>\n",
       "</table>\n"
      ],
      "text/latex": [
       "\\begin{tabular}{r|lllll}\n",
       "  & Df & Deviance & Resid. Df & Resid. Dev & Pr(>Chi)\\\\\n",
       "\\hline\n",
       "\tNULL & NA           &        NA    & 11           & 124.875593   &           NA\\\\\n",
       "\tlog.2.dose &  1           & 107.89156    & 10           &  16.984033   & 2.838937e-25\\\\\n",
       "\tsex &  1           &  10.22697    &  9           &   6.757064   & 1.384020e-03\\\\\n",
       "\\end{tabular}\n"
      ],
      "text/markdown": [
       "\n",
       "| <!--/--> | Df | Deviance | Resid. Df | Resid. Dev | Pr(>Chi) |\n",
       "|---|---|---|---|---|---|\n",
       "| NULL | NA           |        NA    | 11           | 124.875593   |           NA |\n",
       "| log.2.dose |  1           | 107.89156    | 10           |  16.984033   | 2.838937e-25 |\n",
       "| sex |  1           |  10.22697    |  9           |   6.757064   | 1.384020e-03 |\n",
       "\n"
      ],
      "text/plain": [
       "           Df Deviance  Resid. Df Resid. Dev Pr(>Chi)    \n",
       "NULL       NA        NA 11        124.875593           NA\n",
       "log.2.dose  1 107.89156 10         16.984033 2.838937e-25\n",
       "sex         1  10.22697  9          6.757064 1.384020e-03"
      ]
     },
     "metadata": {},
     "output_type": "display_data"
    }
   ],
   "source": [
    "anova(budworm.glm, test='Chisq')"
   ]
  },
  {
   "cell_type": "markdown",
   "metadata": {},
   "source": [
    "**We can specifically test for the significance of the gender factor**\n",
    "\n",
    "> $W = S_{r} - S{f} = \\dfrac{D_{r} - D_{f}}{\\phi} = D_{r} - D_{f} \\sim {\\chi^{2}_{q-p}}$\n",
    "\n",
    "Therefore the difference in the number of parameters is clearly 1, and the difference in the deviance between the two models is 10.22697.\n",
    "\n",
    "This is a hypothesis test that:\n",
    "\n",
    "> $H_{0}: \\beta_{p+1} = ... = \\beta_{q} = 0$\n",
    "\n",
    "Which in our case is just the additional parameter for gender. We can reject thus null hypothesis at the 2% level of significance, and therefore accept the alternative, that the gender factor is significant."
   ]
  },
  {
   "cell_type": "code",
   "execution_count": 86,
   "metadata": {},
   "outputs": [
    {
     "data": {
      "text/html": [
       "0.00138401838021783"
      ],
      "text/latex": [
       "0.00138401838021783"
      ],
      "text/markdown": [
       "0.00138401838021783"
      ],
      "text/plain": [
       "[1] 0.001384018"
      ]
     },
     "metadata": {},
     "output_type": "display_data"
    }
   ],
   "source": [
    "pchisq(10.22697, 1, lower.tail=F)"
   ]
  },
  {
   "cell_type": "markdown",
   "metadata": {},
   "source": [
    "# Interaction Model\n",
    "\n",
    "> Passes the goodness of fit test but interaction term not significant, so will re-run without it\n",
    "\n",
    "> Intuition is that there's no need for a different slope."
   ]
  },
  {
   "cell_type": "code",
   "execution_count": 90,
   "metadata": {},
   "outputs": [
    {
     "data": {
      "text/plain": [
       "\n",
       "Call:\n",
       "glm(formula = deaths.prop ~ log.2.dose * sex, family = binomial(link = \"logit\"), \n",
       "    data = budworm, weights = tot)\n",
       "\n",
       "Deviance Residuals: \n",
       "     Min        1Q    Median        3Q       Max  \n",
       "-1.39849  -0.32094  -0.07592   0.38220   1.10375  \n",
       "\n",
       "Coefficients:\n",
       "                Estimate Std. Error z value Pr(>|z|)    \n",
       "(Intercept)      -2.9935     0.5527  -5.416 6.09e-08 ***\n",
       "log.2.dose        0.9060     0.1671   5.422 5.89e-08 ***\n",
       "sexM              0.1750     0.7783   0.225    0.822    \n",
       "log.2.dose:sexM   0.3529     0.2700   1.307    0.191    \n",
       "---\n",
       "Signif. codes:  0 ‘***’ 0.001 ‘**’ 0.01 ‘*’ 0.05 ‘.’ 0.1 ‘ ’ 1\n",
       "\n",
       "(Dispersion parameter for binomial family taken to be 1)\n",
       "\n",
       "    Null deviance: 124.8756  on 11  degrees of freedom\n",
       "Residual deviance:   4.9937  on  8  degrees of freedom\n",
       "AIC: 43.104\n",
       "\n",
       "Number of Fisher Scoring iterations: 4\n"
      ]
     },
     "metadata": {},
     "output_type": "display_data"
    }
   ],
   "source": [
    "budworm.glm.int <- glm(deaths.prop ~ log.2.dose*sex, family=binomial(link='logit'), weights=tot, data=budworm)\n",
    "\n",
    "summary(budworm.glm.int)"
   ]
  },
  {
   "cell_type": "code",
   "execution_count": 88,
   "metadata": {},
   "outputs": [
    {
     "data": {
      "text/html": [
       "0.758249274040992"
      ],
      "text/latex": [
       "0.758249274040992"
      ],
      "text/markdown": [
       "0.758249274040992"
      ],
      "text/plain": [
       "[1] 0.7582493"
      ]
     },
     "metadata": {},
     "output_type": "display_data"
    }
   ],
   "source": [
    "pchisq(4.9937,8,lower.tail=F)"
   ]
  },
  {
   "cell_type": "markdown",
   "metadata": {},
   "source": [
    "# Taking the results of the non-interaction model and plotting two different slopes."
   ]
  },
  {
   "cell_type": "code",
   "execution_count": 94,
   "metadata": {},
   "outputs": [
    {
     "data": {
      "text/plain": [
       "\n",
       "Call:\n",
       "glm(formula = deaths.prop ~ log.2.dose + sex, family = binomial(link = \"logit\"), \n",
       "    data = budworm, weights = tot)\n",
       "\n",
       "Deviance Residuals: \n",
       "     Min        1Q    Median        3Q       Max  \n",
       "-1.10540  -0.65343  -0.02225   0.48471   1.42944  \n",
       "\n",
       "Coefficients:\n",
       "            Estimate Std. Error z value Pr(>|z|)    \n",
       "(Intercept)  -3.4732     0.4685  -7.413 1.23e-13 ***\n",
       "log.2.dose    1.0642     0.1311   8.119 4.70e-16 ***\n",
       "sexM          1.1007     0.3558   3.093  0.00198 ** \n",
       "---\n",
       "Signif. codes:  0 ‘***’ 0.001 ‘**’ 0.01 ‘*’ 0.05 ‘.’ 0.1 ‘ ’ 1\n",
       "\n",
       "(Dispersion parameter for binomial family taken to be 1)\n",
       "\n",
       "    Null deviance: 124.8756  on 11  degrees of freedom\n",
       "Residual deviance:   6.7571  on  9  degrees of freedom\n",
       "AIC: 42.867\n",
       "\n",
       "Number of Fisher Scoring iterations: 4\n"
      ]
     },
     "metadata": {},
     "output_type": "display_data"
    }
   ],
   "source": [
    "summary(budworm.glm)"
   ]
  },
  {
   "cell_type": "markdown",
   "metadata": {},
   "source": [
    "**Two different intercepts:**\n",
    "\n",
    "Female:\n",
    "\n",
    "> $\\hat{\\eta}_{i} = -3.4732 + 1.0642 \\times \\log_{2}(\\text{dose})$\n",
    "\n",
    "Male:\n",
    "\n",
    "> $\\hat{\\eta}_{i} = -2.3725 + 1.0642 \\times \\log_{2}(\\text{dose})$\n",
    "\n",
    "### Fitted models\n",
    "\n",
    "> $\\hat{\\mu} = g^{-1}(\\hat{\\eta_{i}}) = \\dfrac{e^{\\hat{\\eta_{i}}}}{1 + e^{\\hat{\\eta_{i}}}}$"
   ]
  },
  {
   "cell_type": "code",
   "execution_count": 96,
   "metadata": {},
   "outputs": [
    {
     "data": {
      "text/html": [
       "<dl class=dl-horizontal>\n",
       "\t<dt>(Intercept)</dt>\n",
       "\t\t<dd>-3.4731553070867</dd>\n",
       "\t<dt>log.2.dose</dt>\n",
       "\t\t<dd>1.06421396991924</dd>\n",
       "\t<dt>sexM</dt>\n",
       "\t\t<dd>1.10074336299515</dd>\n",
       "</dl>\n"
      ],
      "text/latex": [
       "\\begin{description*}\n",
       "\\item[(Intercept)] -3.4731553070867\n",
       "\\item[log.2.dose] 1.06421396991924\n",
       "\\item[sexM] 1.10074336299515\n",
       "\\end{description*}\n"
      ],
      "text/markdown": [
       "(Intercept)\n",
       ":   -3.4731553070867log.2.dose\n",
       ":   1.06421396991924sexM\n",
       ":   1.10074336299515\n",
       "\n"
      ],
      "text/plain": [
       "(Intercept)  log.2.dose        sexM \n",
       "  -3.473155    1.064214    1.100743 "
      ]
     },
     "metadata": {},
     "output_type": "display_data"
    }
   ],
   "source": [
    "coef(budworm.glm)"
   ]
  }
 ],
 "metadata": {
  "kernelspec": {
   "display_name": "R",
   "language": "R",
   "name": "ir"
  },
  "language_info": {
   "codemirror_mode": "r",
   "file_extension": ".r",
   "mimetype": "text/x-r-source",
   "name": "R",
   "pygments_lexer": "r",
   "version": "3.6.1"
  }
 },
 "nbformat": 4,
 "nbformat_minor": 2
}
