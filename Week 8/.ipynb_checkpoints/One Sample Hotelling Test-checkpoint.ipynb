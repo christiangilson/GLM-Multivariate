{
 "cells": [
  {
   "cell_type": "markdown",
   "metadata": {},
   "source": [
    "# $T^{2}$ Hotelling Test\n",
    "\n",
    "Tests hypothesis:\n",
    "\n",
    "> $H_{0}: \\mathbf{\\mu} = \\mathbf{\\mu_{0}}$\n",
    "\n",
    "Vs\n",
    "\n",
    "> $H_{1}: \\mathbf{\\mu} \\neq \\mathbf{\\mu_{0}}$\n",
    "\n",
    "(Where $\\mathbf{\\mu}$ here is a $p \\times 1$ vector).\n",
    "\n",
    "**A lot of garbage to sift through in this material**\n",
    "\n",
    "If $\\mathbf{X_{1}},\\mathbf{X_{2}},...,\\mathbf{X_{n}}$ are a random sample of random vectors from $N_{p}(\\mu, \\Sigma)$, where $\\mu$ is a $p \\times 1$ vector and $\\Sigma$ is  a  $p \\times p$ covariance matrix for $\\mathbf{X} \\sim N_{p}(\\mu, \\Sigma)$, then:\n",
    "\n",
    "1. Our test statistic is the multivariate analogue of the t-statistic, squared, (i.e. it's really a kind of F statistic).\n",
    "2. This statistic is the $T^{2}$ Hotelling statistic\n",
    "3. $T^{2} = (n-1)(\\bar{\\mathbf{x}} - \\mu_{0})^{T}S^{-1}(\\bar{\\mathbf{x}} - \\mu_{0})$\n",
    "4. Where $S$ is the biased MLE of $\\Sigma$\n",
    "5. Under $H_{0}$, $T^{2}$ is drawn from $T^{2}_{p}(n-1)$ distribution, where $n-1$ is the number of degrees of freedom when you have this random sample set up\n",
    "6. When $n>p$, i.e. the sample size is greater than the number of parameters, then $T^{2}_{p}(n-1) = \\dfrac{(n-1)p}{n-p}F_{p, n-p}$\n",
    "7. **You can therefore run the hypothesis test, and reject $H_{0}$ at the $100\\alpha\\%$ level of significance if:**\n",
    "\n",
    "> $T^{2} > \\dfrac{(n-1)p}{n-p}F_{p, n-p, \\alpha}$\n",
    "\n",
    "**BY REARRANGING TO PRODUCE AN F-STATISTIC**"
   ]
  },
  {
   "cell_type": "markdown",
   "metadata": {},
   "source": [
    "## Example\n",
    "\n",
    "Dimensions of 2 year old boys  from high altitude regions of Asia:\n",
    "\n",
    "1. Height\n",
    "2. Chest Circumference\n",
    "3. MUAC: Middle Upper Arm Circumference\n",
    "\n",
    "(all measured in cm)\n",
    "\n",
    "For low altitude boys of the same age, we have means of 87.8, 58.4, and 15.9cm, respectively.\n",
    "\n",
    "Want to test the hypothesis that the high altitude group have the same means.\n",
    "\n",
    "Want to test the hypothesis that:\n",
    "\n",
    "> $H_{0}: \\mu = \\mu_{0} = [87.8, 58.4, 15.9]^{T}$\n",
    "\n",
    "---\n",
    "\n",
    "### Let's load the high altitude data"
   ]
  },
  {
   "cell_type": "code",
   "execution_count": 2,
   "metadata": {},
   "outputs": [],
   "source": [
    "b.height <- c(78, 76, 92, 81, 81, 84)\n",
    "b.chest <- c(60.6, 58.1, 63.2, 59, 60.8, 59.5)\n",
    "b.muac <- c(16.5, 12.5, 14.5, 14, 15.5, 14)\n",
    "boys <- data.frame(b.height, b.chest, b.muac)"
   ]
  },
  {
   "cell_type": "code",
   "execution_count": 9,
   "metadata": {},
   "outputs": [],
   "source": [
    "n <- 6\n",
    "p <- 3"
   ]
  },
  {
   "cell_type": "markdown",
   "metadata": {},
   "source": [
    "### We have 3 parameters and 6 measurements\n",
    "\n",
    "> $p = 3$\n",
    "\n",
    "> $n = 6$"
   ]
  },
  {
   "cell_type": "code",
   "execution_count": 4,
   "metadata": {},
   "outputs": [
    {
     "data": {
      "text/html": [
       "<table>\n",
       "<thead><tr><th scope=col>b.height</th><th scope=col>b.chest</th><th scope=col>b.muac</th></tr></thead>\n",
       "<tbody>\n",
       "\t<tr><td>78  </td><td>60.6</td><td>16.5</td></tr>\n",
       "\t<tr><td>76  </td><td>58.1</td><td>12.5</td></tr>\n",
       "\t<tr><td>92  </td><td>63.2</td><td>14.5</td></tr>\n",
       "\t<tr><td>81  </td><td>59.0</td><td>14.0</td></tr>\n",
       "\t<tr><td>81  </td><td>60.8</td><td>15.5</td></tr>\n",
       "\t<tr><td>84  </td><td>59.5</td><td>14.0</td></tr>\n",
       "</tbody>\n",
       "</table>\n"
      ],
      "text/latex": [
       "\\begin{tabular}{r|lll}\n",
       " b.height & b.chest & b.muac\\\\\n",
       "\\hline\n",
       "\t 78   & 60.6 & 16.5\\\\\n",
       "\t 76   & 58.1 & 12.5\\\\\n",
       "\t 92   & 63.2 & 14.5\\\\\n",
       "\t 81   & 59.0 & 14.0\\\\\n",
       "\t 81   & 60.8 & 15.5\\\\\n",
       "\t 84   & 59.5 & 14.0\\\\\n",
       "\\end{tabular}\n"
      ],
      "text/markdown": [
       "\n",
       "| b.height | b.chest | b.muac |\n",
       "|---|---|---|\n",
       "| 78   | 60.6 | 16.5 |\n",
       "| 76   | 58.1 | 12.5 |\n",
       "| 92   | 63.2 | 14.5 |\n",
       "| 81   | 59.0 | 14.0 |\n",
       "| 81   | 60.8 | 15.5 |\n",
       "| 84   | 59.5 | 14.0 |\n",
       "\n"
      ],
      "text/plain": [
       "  b.height b.chest b.muac\n",
       "1 78       60.6    16.5  \n",
       "2 76       58.1    12.5  \n",
       "3 92       63.2    14.5  \n",
       "4 81       59.0    14.0  \n",
       "5 81       60.8    15.5  \n",
       "6 84       59.5    14.0  "
      ]
     },
     "metadata": {},
     "output_type": "display_data"
    }
   ],
   "source": [
    "boys"
   ]
  },
  {
   "cell_type": "markdown",
   "metadata": {},
   "source": [
    "### And now let's calculate our $T^{2}$ test statistic\n",
    "\n",
    "> $T^{2} = (n-1)(\\bar{\\mathbf{x}} - \\mu_{0})^{T}S^{-1}(\\bar{\\mathbf{x}} - \\mu_{0})$\n",
    "\n",
    "**NOTE R WILL CALCULATE THE UNBIASED ESTIMATOR**\n",
    "\n",
    "**THEREFORE DON'T CHANGE A THING WHEN IT COMES TO YOUR F-STAT, BUT DO CHANGE HOW YOU CALCULATE $T^{2}$ TO REFLECT $S_{U}$**:\n",
    "\n",
    "> $T^{2} = n(\\bar{\\mathbf{x}} - \\mu_{0})^{T}S_{U}^{-1}(\\bar{\\mathbf{x}} - \\mu_{0})$"
   ]
  },
  {
   "cell_type": "code",
   "execution_count": 5,
   "metadata": {},
   "outputs": [],
   "source": [
    "mu.0 <- c(87.8, 58.4, 15.9)"
   ]
  },
  {
   "cell_type": "code",
   "execution_count": 6,
   "metadata": {},
   "outputs": [
    {
     "data": {
      "text/html": [
       "<dl class=dl-horizontal>\n",
       "\t<dt>b.height</dt>\n",
       "\t\t<dd>82</dd>\n",
       "\t<dt>b.chest</dt>\n",
       "\t\t<dd>60.2</dd>\n",
       "\t<dt>b.muac</dt>\n",
       "\t\t<dd>14.5</dd>\n",
       "</dl>\n"
      ],
      "text/latex": [
       "\\begin{description*}\n",
       "\\item[b.height] 82\n",
       "\\item[b.chest] 60.2\n",
       "\\item[b.muac] 14.5\n",
       "\\end{description*}\n"
      ],
      "text/markdown": [
       "b.height\n",
       ":   82b.chest\n",
       ":   60.2b.muac\n",
       ":   14.5\n",
       "\n"
      ],
      "text/plain": [
       "b.height  b.chest   b.muac \n",
       "    82.0     60.2     14.5 "
      ]
     },
     "metadata": {},
     "output_type": "display_data"
    }
   ],
   "source": [
    "x.bar <- apply(boys, 2, mean)\n",
    "\n",
    "x.bar"
   ]
  },
  {
   "cell_type": "code",
   "execution_count": 7,
   "metadata": {},
   "outputs": [],
   "source": [
    "S <- var(boys)\n",
    "\n",
    "# get inverse of a matrix if you use general solve with no other args\n",
    "S.inv <- solve(S)"
   ]
  },
  {
   "cell_type": "code",
   "execution_count": 11,
   "metadata": {},
   "outputs": [
    {
     "data": {
      "text/html": [
       "<table>\n",
       "<tbody>\n",
       "\t<tr><td>271.6115</td></tr>\n",
       "</tbody>\n",
       "</table>\n"
      ],
      "text/latex": [
       "\\begin{tabular}{l}\n",
       "\t 271.6115\\\\\n",
       "\\end{tabular}\n"
      ],
      "text/markdown": [
       "\n",
       "| 271.6115 |\n",
       "\n"
      ],
      "text/plain": [
       "     [,1]    \n",
       "[1,] 271.6115"
      ]
     },
     "metadata": {},
     "output_type": "display_data"
    }
   ],
   "source": [
    "T.2 <- n * t(x.bar - mu.0) %*% S.inv %*% (x.bar - mu.0)\n",
    "T.2"
   ]
  },
  {
   "cell_type": "markdown",
   "metadata": {},
   "source": [
    "## Run hypothesis test:"
   ]
  },
  {
   "cell_type": "markdown",
   "metadata": {},
   "source": [
    "> $T^{2} > \\dfrac{(n-1)p}{n-p}F_{p, n-p, \\alpha}$\n",
    "\n",
    "> $F > T^{2} \\times \\dfrac{n-p}{(n-1)p} > F_{p, n-p, \\alpha}$"
   ]
  },
  {
   "cell_type": "code",
   "execution_count": 13,
   "metadata": {},
   "outputs": [],
   "source": [
    "F <- T.2 * (n-p)/( (n-1) * p )"
   ]
  },
  {
   "cell_type": "code",
   "execution_count": 14,
   "metadata": {},
   "outputs": [
    {
     "data": {
      "text/html": [
       "<table>\n",
       "<tbody>\n",
       "\t<tr><td>54.32229</td></tr>\n",
       "</tbody>\n",
       "</table>\n"
      ],
      "text/latex": [
       "\\begin{tabular}{l}\n",
       "\t 54.32229\\\\\n",
       "\\end{tabular}\n"
      ],
      "text/markdown": [
       "\n",
       "| 54.32229 |\n",
       "\n"
      ],
      "text/plain": [
       "     [,1]    \n",
       "[1,] 54.32229"
      ]
     },
     "metadata": {},
     "output_type": "display_data"
    }
   ],
   "source": [
    "F"
   ]
  },
  {
   "cell_type": "code",
   "execution_count": 15,
   "metadata": {},
   "outputs": [
    {
     "data": {
      "text/html": [
       "<table>\n",
       "<tbody>\n",
       "\t<tr><td>0.004103264</td></tr>\n",
       "</tbody>\n",
       "</table>\n"
      ],
      "text/latex": [
       "\\begin{tabular}{l}\n",
       "\t 0.004103264\\\\\n",
       "\\end{tabular}\n"
      ],
      "text/markdown": [
       "\n",
       "| 0.004103264 |\n",
       "\n"
      ],
      "text/plain": [
       "     [,1]       \n",
       "[1,] 0.004103264"
      ]
     },
     "metadata": {},
     "output_type": "display_data"
    }
   ],
   "source": [
    "pf(F, p, n-p, lower.tail = FALSE)"
   ]
  },
  {
   "cell_type": "markdown",
   "metadata": {},
   "source": [
    "**We can therefore reject the null hypothesis at the 1% level of significance.**\n",
    "\n",
    "* If you did three separate univariate t-tests, you'd potentially not be able to reject any of the hypotheses at even the 5% level.\n",
    "\n",
    "Multivariate results seem to contract the single variate results.\n",
    "\n",
    "Look at the sample correlations and mean differences.\n",
    "\n"
   ]
  },
  {
   "cell_type": "code",
   "execution_count": 16,
   "metadata": {},
   "outputs": [
    {
     "data": {
      "text/html": [
       "<table>\n",
       "<thead><tr><th></th><th scope=col>b.height</th><th scope=col>b.chest</th><th scope=col>b.muac</th></tr></thead>\n",
       "<tbody>\n",
       "\t<tr><th scope=row>b.height</th><td>1.00000000</td><td>0.8030562 </td><td>0.06452822</td></tr>\n",
       "\t<tr><th scope=row>b.chest</th><td>0.80305616</td><td>1.0000000 </td><td>0.53361485</td></tr>\n",
       "\t<tr><th scope=row>b.muac</th><td>0.06452822</td><td>0.5336148 </td><td>1.00000000</td></tr>\n",
       "</tbody>\n",
       "</table>\n"
      ],
      "text/latex": [
       "\\begin{tabular}{r|lll}\n",
       "  & b.height & b.chest & b.muac\\\\\n",
       "\\hline\n",
       "\tb.height & 1.00000000 & 0.8030562  & 0.06452822\\\\\n",
       "\tb.chest & 0.80305616 & 1.0000000  & 0.53361485\\\\\n",
       "\tb.muac & 0.06452822 & 0.5336148  & 1.00000000\\\\\n",
       "\\end{tabular}\n"
      ],
      "text/markdown": [
       "\n",
       "| <!--/--> | b.height | b.chest | b.muac |\n",
       "|---|---|---|---|\n",
       "| b.height | 1.00000000 | 0.8030562  | 0.06452822 |\n",
       "| b.chest | 0.80305616 | 1.0000000  | 0.53361485 |\n",
       "| b.muac | 0.06452822 | 0.5336148  | 1.00000000 |\n",
       "\n"
      ],
      "text/plain": [
       "         b.height   b.chest   b.muac    \n",
       "b.height 1.00000000 0.8030562 0.06452822\n",
       "b.chest  0.80305616 1.0000000 0.53361485\n",
       "b.muac   0.06452822 0.5336148 1.00000000"
      ]
     },
     "metadata": {},
     "output_type": "display_data"
    }
   ],
   "source": [
    "cor(boys)"
   ]
  },
  {
   "cell_type": "markdown",
   "metadata": {},
   "source": [
    "**Can get the combination of variables that deviates the most from the expected value looking for the eigenvector associated with the highest variance:**\n",
    "\n",
    "> $\\mathbf{a}^{*} = \\mathbf{S}^{-1} (\\bar{\\mathbf{x}} - \\mu_{0})$"
   ]
  },
  {
   "cell_type": "code",
   "execution_count": 18,
   "metadata": {},
   "outputs": [
    {
     "data": {
      "text/html": [
       "<table>\n",
       "<tbody>\n",
       "\t<tr><th scope=row>b.height</th><td>-2.759249</td></tr>\n",
       "\t<tr><th scope=row>b.chest</th><td>10.577627</td></tr>\n",
       "\t<tr><th scope=row>b.muac</th><td>-7.303719</td></tr>\n",
       "</tbody>\n",
       "</table>\n"
      ],
      "text/latex": [
       "\\begin{tabular}{r|l}\n",
       "\tb.height & -2.759249\\\\\n",
       "\tb.chest & 10.577627\\\\\n",
       "\tb.muac & -7.303719\\\\\n",
       "\\end{tabular}\n"
      ],
      "text/markdown": [
       "\n",
       "| b.height | -2.759249 |\n",
       "| b.chest | 10.577627 |\n",
       "| b.muac | -7.303719 |\n",
       "\n"
      ],
      "text/plain": [
       "         [,1]     \n",
       "b.height -2.759249\n",
       "b.chest  10.577627\n",
       "b.muac   -7.303719"
      ]
     },
     "metadata": {},
     "output_type": "display_data"
    }
   ],
   "source": [
    "S.inv %*% (x.bar - mu.0)"
   ]
  },
  {
   "cell_type": "code",
   "execution_count": null,
   "metadata": {},
   "outputs": [],
   "source": []
  }
 ],
 "metadata": {
  "kernelspec": {
   "display_name": "R",
   "language": "R",
   "name": "ir"
  },
  "language_info": {
   "codemirror_mode": "r",
   "file_extension": ".r",
   "mimetype": "text/x-r-source",
   "name": "R",
   "pygments_lexer": "r",
   "version": "3.6.1"
  }
 },
 "nbformat": 4,
 "nbformat_minor": 2
}
