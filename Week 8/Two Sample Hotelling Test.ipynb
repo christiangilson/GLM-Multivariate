{
 "cells": [
  {
   "cell_type": "markdown",
   "metadata": {},
   "source": [
    "# Two Sample Hypothesis Test\n",
    "\n",
    "## Want to know if two sample of size $n_{1}$ and $n_{2}$ from populations 1 and 2 have different means\n",
    "\n",
    "> $H_{0}: \\mu_{1} = \\mu_{2}$\n",
    "\n",
    "**We assume that both populations share the same covariance matrix.**\n",
    "\n",
    "### Whales!"
   ]
  },
  {
   "cell_type": "code",
   "execution_count": 1,
   "metadata": {},
   "outputs": [],
   "source": [
    "# blue whales\n",
    "blue.l <- c(24.3, 24.96, 25.36, 25.74)\n",
    "blue.w <- c(109.74, 108.95, 109.12, 109.44)\n",
    "blue.f <- c(2.46, 1.95, 1.75, 2.35)\n",
    "\n",
    "# bow whales\n",
    "bow.l <- c(22.39, 22.45, 22.75, 20.92, 21.64)\n",
    "bow.w <- c(83.07, 81.84, 82.81, 81.9, 82.65)\n",
    "bow.f <- c(2.53, 2.62, 3.39, 2.94, 2.19)"
   ]
  },
  {
   "cell_type": "code",
   "execution_count": 4,
   "metadata": {},
   "outputs": [],
   "source": [
    "blue <- data.frame(blue.l, blue.w, blue.f)\n",
    "bow <- data.frame(bow.l, bow.w, bow.f)"
   ]
  },
  {
   "cell_type": "code",
   "execution_count": 7,
   "metadata": {},
   "outputs": [],
   "source": [
    "n.blue <- 4\n",
    "n.bow <- 5\n",
    "\n",
    "# three parameters - body length, weight, flipper length\n",
    "p <- 3"
   ]
  },
  {
   "cell_type": "code",
   "execution_count": 31,
   "metadata": {},
   "outputs": [
    {
     "data": {
      "text/html": [
       "<table>\n",
       "<thead><tr><th scope=col>blue.l</th><th scope=col>blue.w</th><th scope=col>blue.f</th></tr></thead>\n",
       "<tbody>\n",
       "\t<tr><td>24.30 </td><td>109.74</td><td>2.46  </td></tr>\n",
       "\t<tr><td>24.96 </td><td>108.95</td><td>1.95  </td></tr>\n",
       "\t<tr><td>25.36 </td><td>109.12</td><td>1.75  </td></tr>\n",
       "\t<tr><td>25.74 </td><td>109.44</td><td>2.35  </td></tr>\n",
       "</tbody>\n",
       "</table>\n"
      ],
      "text/latex": [
       "\\begin{tabular}{r|lll}\n",
       " blue.l & blue.w & blue.f\\\\\n",
       "\\hline\n",
       "\t 24.30  & 109.74 & 2.46  \\\\\n",
       "\t 24.96  & 108.95 & 1.95  \\\\\n",
       "\t 25.36  & 109.12 & 1.75  \\\\\n",
       "\t 25.74  & 109.44 & 2.35  \\\\\n",
       "\\end{tabular}\n"
      ],
      "text/markdown": [
       "\n",
       "| blue.l | blue.w | blue.f |\n",
       "|---|---|---|\n",
       "| 24.30  | 109.74 | 2.46   |\n",
       "| 24.96  | 108.95 | 1.95   |\n",
       "| 25.36  | 109.12 | 1.75   |\n",
       "| 25.74  | 109.44 | 2.35   |\n",
       "\n"
      ],
      "text/plain": [
       "  blue.l blue.w blue.f\n",
       "1 24.30  109.74 2.46  \n",
       "2 24.96  108.95 1.95  \n",
       "3 25.36  109.12 1.75  \n",
       "4 25.74  109.44 2.35  "
      ]
     },
     "metadata": {},
     "output_type": "display_data"
    }
   ],
   "source": [
    "blue"
   ]
  },
  {
   "cell_type": "code",
   "execution_count": 32,
   "metadata": {},
   "outputs": [
    {
     "data": {
      "text/html": [
       "<table>\n",
       "<thead><tr><th scope=col>bow.l</th><th scope=col>bow.w</th><th scope=col>bow.f</th></tr></thead>\n",
       "<tbody>\n",
       "\t<tr><td>22.39</td><td>83.07</td><td>2.53 </td></tr>\n",
       "\t<tr><td>22.45</td><td>81.84</td><td>2.62 </td></tr>\n",
       "\t<tr><td>22.75</td><td>82.81</td><td>3.39 </td></tr>\n",
       "\t<tr><td>20.92</td><td>81.90</td><td>2.94 </td></tr>\n",
       "\t<tr><td>21.64</td><td>82.65</td><td>2.19 </td></tr>\n",
       "</tbody>\n",
       "</table>\n"
      ],
      "text/latex": [
       "\\begin{tabular}{r|lll}\n",
       " bow.l & bow.w & bow.f\\\\\n",
       "\\hline\n",
       "\t 22.39 & 83.07 & 2.53 \\\\\n",
       "\t 22.45 & 81.84 & 2.62 \\\\\n",
       "\t 22.75 & 82.81 & 3.39 \\\\\n",
       "\t 20.92 & 81.90 & 2.94 \\\\\n",
       "\t 21.64 & 82.65 & 2.19 \\\\\n",
       "\\end{tabular}\n"
      ],
      "text/markdown": [
       "\n",
       "| bow.l | bow.w | bow.f |\n",
       "|---|---|---|\n",
       "| 22.39 | 83.07 | 2.53  |\n",
       "| 22.45 | 81.84 | 2.62  |\n",
       "| 22.75 | 82.81 | 3.39  |\n",
       "| 20.92 | 81.90 | 2.94  |\n",
       "| 21.64 | 82.65 | 2.19  |\n",
       "\n"
      ],
      "text/plain": [
       "  bow.l bow.w bow.f\n",
       "1 22.39 83.07 2.53 \n",
       "2 22.45 81.84 2.62 \n",
       "3 22.75 82.81 3.39 \n",
       "4 20.92 81.90 2.94 \n",
       "5 21.64 82.65 2.19 "
      ]
     },
     "metadata": {},
     "output_type": "display_data"
    }
   ],
   "source": [
    "bow"
   ]
  },
  {
   "cell_type": "markdown",
   "metadata": {},
   "source": [
    "## Steps\n",
    "\n",
    "1) Calculate Pooled Unbiased Estimate for the Covariance Matrix\n",
    "\n",
    "> $S_{U} = \\dfrac{(n_{1}-1)S_{1U} + (n_{2}-1)S_{2U}}{n_{1} + n_{2} - 2}$\n",
    "\n",
    "2) Calculate Mahalanobis distance between the two sample means\n",
    "\n",
    "> $D^{2}(\\bar{\\mathbf{x}_{1}}, \\bar{\\mathbf{x}_{2}}) = \\left ( \\bar{\\mathbf{x}_{1}} - \\bar{\\mathbf{x}_{2}} \\right )^{T} S_{U}^{-1} \\left ( \\bar{\\mathbf{x}_{1}} - \\bar{\\mathbf{x}_{2}} \\right )$\n",
    "\n",
    "3) Calculate $T^{2}$\n",
    "\n",
    "> $T^{2} = \\dfrac{n_{1}n_{2}}{n_{1} + n_{2}} D^{2}(\\bar{\\mathbf{x}_{1}}, \\bar{\\mathbf{x}_{2}})$\n",
    "\n",
    "4) Run the F-test: Reject $H_{0}$ at the $100\\alpha\\%$ level of significance if:\n",
    "\n",
    "> $T^{2} > \\dfrac{(n_{1} + n_{2} - 2)p}{n_{1} + n_{2} - p - 1} F_{p, n_{1} + n_{2} - p - 1, \\alpha}$\n",
    "\n",
    "*or alternately*\n",
    "\n",
    "> $ \\dfrac{n_{1} + n_{2} - p - 1}{(n_{1} + n_{2} - 2)p} T^{2} > F_{p, n_{1} + n_{2} - p - 1, \\alpha}$\n",
    "\n"
   ]
  },
  {
   "cell_type": "code",
   "execution_count": 19,
   "metadata": {},
   "outputs": [],
   "source": [
    "S.1U <- cov(blue)\n",
    "\n",
    "S.2U <- cov(bow)\n",
    "\n",
    "S.U <- ((n.blue-1)*S.1U + (n.bow-1)*S.2U) / (n.blue + n.bow - 2)\n",
    "\n",
    "S.U.inv <- solve(S.U)"
   ]
  },
  {
   "cell_type": "code",
   "execution_count": 24,
   "metadata": {},
   "outputs": [],
   "source": [
    "x.bar.1 <- apply(blue, 2, mean)\n",
    "\n",
    "x.bar.2 <- apply(bow, 2, mean)"
   ]
  },
  {
   "cell_type": "code",
   "execution_count": 34,
   "metadata": {},
   "outputs": [
    {
     "data": {
      "text/html": [
       "<table>\n",
       "<tbody>\n",
       "\t<tr><td>3381.794</td></tr>\n",
       "</tbody>\n",
       "</table>\n"
      ],
      "text/latex": [
       "\\begin{tabular}{l}\n",
       "\t 3381.794\\\\\n",
       "\\end{tabular}\n"
      ],
      "text/markdown": [
       "\n",
       "| 3381.794 |\n",
       "\n"
      ],
      "text/plain": [
       "     [,1]    \n",
       "[1,] 3381.794"
      ]
     },
     "metadata": {},
     "output_type": "display_data"
    }
   ],
   "source": [
    "D.2 <-  t(x.bar.1 - x.bar.2) %*% S.U.inv %*% (x.bar.1 - x.bar.2)\n",
    "D.2"
   ]
  },
  {
   "cell_type": "code",
   "execution_count": 35,
   "metadata": {},
   "outputs": [
    {
     "data": {
      "text/html": [
       "<table>\n",
       "<tbody>\n",
       "\t<tr><td>7515.099</td></tr>\n",
       "</tbody>\n",
       "</table>\n"
      ],
      "text/latex": [
       "\\begin{tabular}{l}\n",
       "\t 7515.099\\\\\n",
       "\\end{tabular}\n"
      ],
      "text/markdown": [
       "\n",
       "| 7515.099 |\n",
       "\n"
      ],
      "text/plain": [
       "     [,1]    \n",
       "[1,] 7515.099"
      ]
     },
     "metadata": {},
     "output_type": "display_data"
    }
   ],
   "source": [
    "T.2 <- ((n.blue*n.bow) / (n.blue + n.bow)) * D.2\n",
    "T.2"
   ]
  },
  {
   "cell_type": "code",
   "execution_count": 36,
   "metadata": {},
   "outputs": [],
   "source": [
    "F <- ((n.blue + n.bow - p - 1) / ((n.blue + n.bow - 2)*p)) * T.2"
   ]
  },
  {
   "cell_type": "code",
   "execution_count": 37,
   "metadata": {},
   "outputs": [
    {
     "data": {
      "text/html": [
       "<table>\n",
       "<tbody>\n",
       "\t<tr><td>1789.309</td></tr>\n",
       "</tbody>\n",
       "</table>\n"
      ],
      "text/latex": [
       "\\begin{tabular}{l}\n",
       "\t 1789.309\\\\\n",
       "\\end{tabular}\n"
      ],
      "text/markdown": [
       "\n",
       "| 1789.309 |\n",
       "\n"
      ],
      "text/plain": [
       "     [,1]    \n",
       "[1,] 1789.309"
      ]
     },
     "metadata": {},
     "output_type": "display_data"
    }
   ],
   "source": [
    "F"
   ]
  },
  {
   "cell_type": "code",
   "execution_count": 39,
   "metadata": {},
   "outputs": [
    {
     "data": {
      "text/html": [
       "<table>\n",
       "<tbody>\n",
       "\t<tr><td>5.380012e-08</td></tr>\n",
       "</tbody>\n",
       "</table>\n"
      ],
      "text/latex": [
       "\\begin{tabular}{l}\n",
       "\t 5.380012e-08\\\\\n",
       "\\end{tabular}\n"
      ],
      "text/markdown": [
       "\n",
       "| 5.380012e-08 |\n",
       "\n"
      ],
      "text/plain": [
       "     [,1]        \n",
       "[1,] 5.380012e-08"
      ]
     },
     "metadata": {},
     "output_type": "display_data"
    }
   ],
   "source": [
    "pf(F, p, n.blue+n.bow-p-1, lower.tail = FALSE)"
   ]
  },
  {
   "cell_type": "markdown",
   "metadata": {},
   "source": [
    "**We can therefore reject the null hypothesis (that the two sample means are the same) at the 0.1% level of significance.**"
   ]
  },
  {
   "cell_type": "markdown",
   "metadata": {},
   "source": [
    "---\n",
    "\n",
    "&nbsp;\n",
    "\n",
    "&nbsp;\n",
    "\n",
    "## Problem Sheet 2 Questions\n",
    "\n",
    "### Q1) One-Sample Hotelling $T^{2}$ Test\n",
    "\n",
    "**Hypothesis test**:\n",
    "\n",
    "> $H_{0}: \\mu = [180, 113, 750]^{T}$\n",
    "\n",
    "### Steps\n",
    "\n",
    "1) Calculate Mahalanobis distance between the two sample means\n",
    "\n",
    "> $D^{2}(\\bar{\\mathbf{x}}, \\mu_{0}) = \\left ( \\bar{\\mathbf{x}} - \\mu_{0} \\right )^{T} S_{U}^{-1} \\left ( \\bar{\\mathbf{x}} - \\mu_{0} \\right )$\n",
    "\n",
    "2) Calculate $T^{2}$\n",
    "\n",
    "> $T^{2} = n D^{2}(\\bar{\\mathbf{x}}, \\mu_{0})$\n",
    "\n",
    "3) Run the F-test: Reject $H_{0}$ at the $100\\alpha\\%$ level of significance if:\n",
    "\n",
    "> $T^{2} > \\dfrac{(n-1)p}{n-p} F_{p, n-p, \\alpha}$\n",
    "\n",
    "*or alternately*\n",
    "\n",
    "> $ \\dfrac{n-p}{(n-1)p} T^{2} > F_{p, n-p, \\alpha}$"
   ]
  },
  {
   "cell_type": "code",
   "execution_count": 45,
   "metadata": {},
   "outputs": [],
   "source": [
    "groceries <- c(227.01, 241.42, 188.08, 238.23, 235.86)\n",
    "leisure <- c(96.98, 140.44, 85.13, 158.22, 103.06)\n",
    "income <- c(741.29, 854.07, 812.07, 813.69, 731.42)\n",
    "\n",
    "spend <- data.frame(groceries, leisure, income)"
   ]
  },
  {
   "cell_type": "code",
   "execution_count": 46,
   "metadata": {},
   "outputs": [],
   "source": [
    "mu.0 <- c(180, 113, 750)"
   ]
  },
  {
   "cell_type": "code",
   "execution_count": 47,
   "metadata": {},
   "outputs": [
    {
     "data": {
      "text/html": [
       "<table>\n",
       "<thead><tr><th scope=col>groceries</th><th scope=col>leisure</th><th scope=col>income</th></tr></thead>\n",
       "<tbody>\n",
       "\t<tr><td>227.01</td><td> 96.98</td><td>741.29</td></tr>\n",
       "\t<tr><td>241.42</td><td>140.44</td><td>854.07</td></tr>\n",
       "\t<tr><td>188.08</td><td> 85.13</td><td>812.07</td></tr>\n",
       "\t<tr><td>238.23</td><td>158.22</td><td>813.69</td></tr>\n",
       "\t<tr><td>235.86</td><td>103.06</td><td>731.42</td></tr>\n",
       "</tbody>\n",
       "</table>\n"
      ],
      "text/latex": [
       "\\begin{tabular}{r|lll}\n",
       " groceries & leisure & income\\\\\n",
       "\\hline\n",
       "\t 227.01 &  96.98 & 741.29\\\\\n",
       "\t 241.42 & 140.44 & 854.07\\\\\n",
       "\t 188.08 &  85.13 & 812.07\\\\\n",
       "\t 238.23 & 158.22 & 813.69\\\\\n",
       "\t 235.86 & 103.06 & 731.42\\\\\n",
       "\\end{tabular}\n"
      ],
      "text/markdown": [
       "\n",
       "| groceries | leisure | income |\n",
       "|---|---|---|\n",
       "| 227.01 |  96.98 | 741.29 |\n",
       "| 241.42 | 140.44 | 854.07 |\n",
       "| 188.08 |  85.13 | 812.07 |\n",
       "| 238.23 | 158.22 | 813.69 |\n",
       "| 235.86 | 103.06 | 731.42 |\n",
       "\n"
      ],
      "text/plain": [
       "  groceries leisure income\n",
       "1 227.01     96.98  741.29\n",
       "2 241.42    140.44  854.07\n",
       "3 188.08     85.13  812.07\n",
       "4 238.23    158.22  813.69\n",
       "5 235.86    103.06  731.42"
      ]
     },
     "metadata": {},
     "output_type": "display_data"
    }
   ],
   "source": [
    "spend"
   ]
  },
  {
   "cell_type": "code",
   "execution_count": 57,
   "metadata": {},
   "outputs": [
    {
     "data": {
      "text/html": [
       "<table>\n",
       "<tbody>\n",
       "\t<tr><td>25.23166</td></tr>\n",
       "</tbody>\n",
       "</table>\n"
      ],
      "text/latex": [
       "\\begin{tabular}{l}\n",
       "\t 25.23166\\\\\n",
       "\\end{tabular}\n"
      ],
      "text/markdown": [
       "\n",
       "| 25.23166 |\n",
       "\n"
      ],
      "text/plain": [
       "     [,1]    \n",
       "[1,] 25.23166"
      ]
     },
     "metadata": {},
     "output_type": "display_data"
    }
   ],
   "source": [
    "n <- 5\n",
    "p <- 3\n",
    "\n",
    "S.U <- var(spend)\n",
    "\n",
    "S.U.inv <- solve(S.U)\n",
    "\n",
    "x.bar <- apply(spend, 2, mean)\n",
    "\n",
    "D.2 <- t(x.bar - mu.0) %*% S.U.inv %*% (x.bar - mu.0)\n",
    "D.2"
   ]
  },
  {
   "cell_type": "code",
   "execution_count": 58,
   "metadata": {},
   "outputs": [
    {
     "data": {
      "text/html": [
       "<table>\n",
       "<tbody>\n",
       "\t<tr><td>126.1583</td></tr>\n",
       "</tbody>\n",
       "</table>\n"
      ],
      "text/latex": [
       "\\begin{tabular}{l}\n",
       "\t 126.1583\\\\\n",
       "\\end{tabular}\n"
      ],
      "text/markdown": [
       "\n",
       "| 126.1583 |\n",
       "\n"
      ],
      "text/plain": [
       "     [,1]    \n",
       "[1,] 126.1583"
      ]
     },
     "metadata": {},
     "output_type": "display_data"
    }
   ],
   "source": [
    "T.2 <- n * D.2\n",
    "T.2"
   ]
  },
  {
   "cell_type": "code",
   "execution_count": 60,
   "metadata": {},
   "outputs": [
    {
     "data": {
      "text/html": [
       "<table>\n",
       "<tbody>\n",
       "\t<tr><td>21.02638</td></tr>\n",
       "</tbody>\n",
       "</table>\n"
      ],
      "text/latex": [
       "\\begin{tabular}{l}\n",
       "\t 21.02638\\\\\n",
       "\\end{tabular}\n"
      ],
      "text/markdown": [
       "\n",
       "| 21.02638 |\n",
       "\n"
      ],
      "text/plain": [
       "     [,1]    \n",
       "[1,] 21.02638"
      ]
     },
     "metadata": {},
     "output_type": "display_data"
    }
   ],
   "source": [
    "F <- ((n-p) / ((n-1)*p))*T.2\n",
    "F"
   ]
  },
  {
   "cell_type": "code",
   "execution_count": 61,
   "metadata": {},
   "outputs": [
    {
     "data": {
      "text/html": [
       "<table>\n",
       "<tbody>\n",
       "\t<tr><td>0.04574171</td></tr>\n",
       "</tbody>\n",
       "</table>\n"
      ],
      "text/latex": [
       "\\begin{tabular}{l}\n",
       "\t 0.04574171\\\\\n",
       "\\end{tabular}\n"
      ],
      "text/markdown": [
       "\n",
       "| 0.04574171 |\n",
       "\n"
      ],
      "text/plain": [
       "     [,1]      \n",
       "[1,] 0.04574171"
      ]
     },
     "metadata": {},
     "output_type": "display_data"
    }
   ],
   "source": [
    "pf(F, p, n-p, lower.tail = FALSE)"
   ]
  },
  {
   "cell_type": "markdown",
   "metadata": {},
   "source": [
    "We can reject the null hypothesis at the 5% level of significance, and therefore accept the alternative that the vector mean value is not $[180, 113, 750]^{T}$"
   ]
  },
  {
   "cell_type": "markdown",
   "metadata": {},
   "source": [
    "## Question 2 looks disgusting, let's crack Q3 next, and finish on Q4.\n",
    "\n",
    "### Q3) Allows you to test the ratios of the mean vector\n",
    "\n",
    "> $H_{0}: \\dfrac{1}{6} \\mu_{1} = \\dfrac{1}{4} \\mu_{2} = \\mu_{3}$\n",
    "\n",
    "Have matrix C that will essentially allow us to run the  hypothesis test:\n",
    "\n",
    "> $H_{0}: C\\mu = \\mathbf{0}$\n",
    "\n",
    "by modifying our $T^{2}$ statistic:\n",
    "\n",
    "> $T^{2} = n (C \\bar{X} - \\phi)^{T} (CS_{U}C^{T})^{-1} (C \\bar{X} - \\phi)$\n",
    "\n",
    "where under $H_{0}$, $T^{2} \\sim T^{2}_{m}(n-1)$.\n",
    "\n",
    "**IMPORTANT**\n",
    "\n",
    "Converting from $T^{2} \\sim T^{2}_{m}(n-1)$ to **F-stat**:\n",
    "\n",
    "> $T^{2}_{m}(n-1) = \\dfrac{(n-1)m}{n-m}F_{m, n-m}$\n",
    "\n",
    "Therefore reject $H_{0}$ at $100\\alpha\\%$ level of significance when:\n",
    "\n",
    "> $\\dfrac{n-m}{(n-1)m}T^{2} > F_{m, n-m, \\alpha}$"
   ]
  },
  {
   "cell_type": "code",
   "execution_count": 64,
   "metadata": {},
   "outputs": [],
   "source": [
    "b.height <- c(78, 76, 92, 81, 81, 84)\n",
    "b.chest <- c(60.6, 58.1, 63.2, 59, 60.8, 59.5)\n",
    "b.muac <- c(16.5, 12.5, 14.5, 14, 15.5, 14)\n",
    "boys <- data.frame(b.height, b.chest, b.muac)"
   ]
  },
  {
   "cell_type": "code",
   "execution_count": 87,
   "metadata": {},
   "outputs": [],
   "source": [
    "n <- 6\n",
    "p <- 3\n",
    "m <- 2"
   ]
  },
  {
   "cell_type": "code",
   "execution_count": 65,
   "metadata": {},
   "outputs": [
    {
     "data": {
      "text/html": [
       "<table>\n",
       "<thead><tr><th scope=col>b.height</th><th scope=col>b.chest</th><th scope=col>b.muac</th></tr></thead>\n",
       "<tbody>\n",
       "\t<tr><td>78  </td><td>60.6</td><td>16.5</td></tr>\n",
       "\t<tr><td>76  </td><td>58.1</td><td>12.5</td></tr>\n",
       "\t<tr><td>92  </td><td>63.2</td><td>14.5</td></tr>\n",
       "\t<tr><td>81  </td><td>59.0</td><td>14.0</td></tr>\n",
       "\t<tr><td>81  </td><td>60.8</td><td>15.5</td></tr>\n",
       "\t<tr><td>84  </td><td>59.5</td><td>14.0</td></tr>\n",
       "</tbody>\n",
       "</table>\n"
      ],
      "text/latex": [
       "\\begin{tabular}{r|lll}\n",
       " b.height & b.chest & b.muac\\\\\n",
       "\\hline\n",
       "\t 78   & 60.6 & 16.5\\\\\n",
       "\t 76   & 58.1 & 12.5\\\\\n",
       "\t 92   & 63.2 & 14.5\\\\\n",
       "\t 81   & 59.0 & 14.0\\\\\n",
       "\t 81   & 60.8 & 15.5\\\\\n",
       "\t 84   & 59.5 & 14.0\\\\\n",
       "\\end{tabular}\n"
      ],
      "text/markdown": [
       "\n",
       "| b.height | b.chest | b.muac |\n",
       "|---|---|---|\n",
       "| 78   | 60.6 | 16.5 |\n",
       "| 76   | 58.1 | 12.5 |\n",
       "| 92   | 63.2 | 14.5 |\n",
       "| 81   | 59.0 | 14.0 |\n",
       "| 81   | 60.8 | 15.5 |\n",
       "| 84   | 59.5 | 14.0 |\n",
       "\n"
      ],
      "text/plain": [
       "  b.height b.chest b.muac\n",
       "1 78       60.6    16.5  \n",
       "2 76       58.1    12.5  \n",
       "3 92       63.2    14.5  \n",
       "4 81       59.0    14.0  \n",
       "5 81       60.8    15.5  \n",
       "6 84       59.5    14.0  "
      ]
     },
     "metadata": {},
     "output_type": "display_data"
    }
   ],
   "source": [
    "boys"
   ]
  },
  {
   "cell_type": "code",
   "execution_count": 94,
   "metadata": {},
   "outputs": [],
   "source": [
    "C <- matrix(c(2,1,-3,0,0,-6), nrow=2, ncol=3)"
   ]
  },
  {
   "cell_type": "code",
   "execution_count": 95,
   "metadata": {},
   "outputs": [
    {
     "data": {
      "text/html": [
       "<table>\n",
       "<tbody>\n",
       "\t<tr><td>2 </td><td>-3</td><td> 0</td></tr>\n",
       "\t<tr><td>1 </td><td> 0</td><td>-6</td></tr>\n",
       "</tbody>\n",
       "</table>\n"
      ],
      "text/latex": [
       "\\begin{tabular}{lll}\n",
       "\t 2  & -3 &  0\\\\\n",
       "\t 1  &  0 & -6\\\\\n",
       "\\end{tabular}\n"
      ],
      "text/markdown": [
       "\n",
       "| 2  | -3 |  0 |\n",
       "| 1  |  0 | -6 |\n",
       "\n"
      ],
      "text/plain": [
       "     [,1] [,2] [,3]\n",
       "[1,] 2    -3    0  \n",
       "[2,] 1     0   -6  "
      ]
     },
     "metadata": {},
     "output_type": "display_data"
    }
   ],
   "source": [
    "C"
   ]
  },
  {
   "cell_type": "code",
   "execution_count": 96,
   "metadata": {},
   "outputs": [],
   "source": [
    "x.bar <- apply(boys, 2, mean)"
   ]
  },
  {
   "cell_type": "code",
   "execution_count": 97,
   "metadata": {},
   "outputs": [],
   "source": [
    "S.U <- var(boys)\n",
    "\n",
    "CSC <- C %*% S.U %*% t(C)\n",
    "\n",
    "CSC.inv <- solve(CSC)"
   ]
  },
  {
   "cell_type": "code",
   "execution_count": 98,
   "metadata": {},
   "outputs": [
    {
     "data": {
      "text/html": [
       "<table>\n",
       "<tbody>\n",
       "\t<tr><td>58.468</td><td>56.66 </td></tr>\n",
       "\t<tr><td>56.660</td><td>94.00 </td></tr>\n",
       "</tbody>\n",
       "</table>\n"
      ],
      "text/latex": [
       "\\begin{tabular}{ll}\n",
       "\t 58.468 & 56.66 \\\\\n",
       "\t 56.660 & 94.00 \\\\\n",
       "\\end{tabular}\n"
      ],
      "text/markdown": [
       "\n",
       "| 58.468 | 56.66  |\n",
       "| 56.660 | 94.00  |\n",
       "\n"
      ],
      "text/plain": [
       "     [,1]   [,2] \n",
       "[1,] 58.468 56.66\n",
       "[2,] 56.660 94.00"
      ]
     },
     "metadata": {},
     "output_type": "display_data"
    }
   ],
   "source": [
    "CSC"
   ]
  },
  {
   "cell_type": "code",
   "execution_count": 99,
   "metadata": {},
   "outputs": [],
   "source": [
    "T.2 <- n * t(C%*%x.bar) %*% CSC.inv %*% (C%*%x.bar)"
   ]
  },
  {
   "cell_type": "code",
   "execution_count": 100,
   "metadata": {},
   "outputs": [
    {
     "data": {
      "text/html": [
       "<table>\n",
       "<tbody>\n",
       "\t<tr><td>47.1434</td></tr>\n",
       "</tbody>\n",
       "</table>\n"
      ],
      "text/latex": [
       "\\begin{tabular}{l}\n",
       "\t 47.1434\\\\\n",
       "\\end{tabular}\n"
      ],
      "text/markdown": [
       "\n",
       "| 47.1434 |\n",
       "\n"
      ],
      "text/plain": [
       "     [,1]   \n",
       "[1,] 47.1434"
      ]
     },
     "metadata": {},
     "output_type": "display_data"
    }
   ],
   "source": [
    "T.2"
   ]
  },
  {
   "cell_type": "code",
   "execution_count": 101,
   "metadata": {},
   "outputs": [],
   "source": [
    "F <- ((n-m)/ ((n-1)*m)) * T.2"
   ]
  },
  {
   "cell_type": "code",
   "execution_count": 102,
   "metadata": {},
   "outputs": [
    {
     "data": {
      "text/html": [
       "<table>\n",
       "<tbody>\n",
       "\t<tr><td>0.009194778</td></tr>\n",
       "</tbody>\n",
       "</table>\n"
      ],
      "text/latex": [
       "\\begin{tabular}{l}\n",
       "\t 0.009194778\\\\\n",
       "\\end{tabular}\n"
      ],
      "text/markdown": [
       "\n",
       "| 0.009194778 |\n",
       "\n"
      ],
      "text/plain": [
       "     [,1]       \n",
       "[1,] 0.009194778"
      ]
     },
     "metadata": {},
     "output_type": "display_data"
    }
   ],
   "source": [
    "pf(F, m, n-m, lower.tail = FALSE)"
   ]
  },
  {
   "cell_type": "markdown",
   "metadata": {},
   "source": [
    "**Can reject the null hypothesis at the 0.1% level of significance.**"
   ]
  },
  {
   "cell_type": "markdown",
   "metadata": {},
   "source": [
    "## Q3: 2-Sample Hotelling $T^{2}$ Test\n",
    "\n",
    "**Comparing Boys with Girls**"
   ]
  },
  {
   "cell_type": "markdown",
   "metadata": {},
   "source": [
    "## Steps\n",
    "\n",
    "1) Calculate Pooled Unbiased Estimate for the Covariance Matrix\n",
    "\n",
    "> $S_{U} = \\dfrac{(n_{1}-1)S_{1U} + (n_{2}-1)S_{2U}}{n_{1} + n_{2} - 2}$\n",
    "\n",
    "2) Calculate Mahalanobis distance between the two sample means\n",
    "\n",
    "> $D^{2}(\\bar{\\mathbf{x}_{1}}, \\bar{\\mathbf{x}_{2}}) = \\left ( \\bar{\\mathbf{x}_{1}} - \\bar{\\mathbf{x}_{2}} \\right )^{T} S_{U}^{-1} \\left ( \\bar{\\mathbf{x}_{1}} - \\bar{\\mathbf{x}_{2}} \\right )$\n",
    "\n",
    "3) Calculate $T^{2}$\n",
    "\n",
    "> $T^{2} = \\dfrac{n_{1}n_{2}}{n_{1} + n_{2}} D^{2}(\\bar{\\mathbf{x}_{1}}, \\bar{\\mathbf{x}_{2}})$\n",
    "\n",
    "4) Run the F-test: Reject $H_{0}$ at the $100\\alpha\\%$ level of significance if:\n",
    "\n",
    "> $T^{2} > \\dfrac{(n_{1} + n_{2} - 2)p}{n_{1} + n_{2} - p - 1} F_{p, n_{1} + n_{2} - p - 1, \\alpha}$\n",
    "\n",
    "*or alternately*\n",
    "\n",
    "> $ \\dfrac{n_{1} + n_{2} - p - 1}{(n_{1} + n_{2} - 2)p} T^{2} > F_{p, n_{1} + n_{2} - p - 1, \\alpha}$"
   ]
  },
  {
   "cell_type": "code",
   "execution_count": 103,
   "metadata": {},
   "outputs": [],
   "source": [
    "g.height <- c(80, 75, 78, 75, 79, 78, 75, 64, 80)\n",
    "g.chest <- c(58.4, 59.2, 60.3, 57.4, 59.5, 58.1, 58, 55.5, 59.2)\n",
    "g.muac <- c(14, 15, 15, 13, 14, 14.5, 12.5, 11, 12.5)\n",
    "girls <- data.frame(g.height, g.chest, g.muac)"
   ]
  },
  {
   "cell_type": "code",
   "execution_count": 105,
   "metadata": {},
   "outputs": [
    {
     "data": {
      "text/html": [
       "<table>\n",
       "<thead><tr><th></th><th scope=col>b.height</th><th scope=col>b.chest</th><th scope=col>b.muac</th></tr></thead>\n",
       "<tbody>\n",
       "\t<tr><th scope=row>b.height</th><td>27.230769</td><td>6.561538 </td><td>2.846154 </td></tr>\n",
       "\t<tr><th scope=row>b.chest</th><td> 6.561538</td><td>2.432308 </td><td>1.400000 </td></tr>\n",
       "\t<tr><th scope=row>b.muac</th><td> 2.846154</td><td>1.400000 </td><td>1.846154 </td></tr>\n",
       "</tbody>\n",
       "</table>\n"
      ],
      "text/latex": [
       "\\begin{tabular}{r|lll}\n",
       "  & b.height & b.chest & b.muac\\\\\n",
       "\\hline\n",
       "\tb.height & 27.230769 & 6.561538  & 2.846154 \\\\\n",
       "\tb.chest &  6.561538 & 2.432308  & 1.400000 \\\\\n",
       "\tb.muac &  2.846154 & 1.400000  & 1.846154 \\\\\n",
       "\\end{tabular}\n"
      ],
      "text/markdown": [
       "\n",
       "| <!--/--> | b.height | b.chest | b.muac |\n",
       "|---|---|---|---|\n",
       "| b.height | 27.230769 | 6.561538  | 2.846154  |\n",
       "| b.chest |  6.561538 | 2.432308  | 1.400000  |\n",
       "| b.muac |  2.846154 | 1.400000  | 1.846154  |\n",
       "\n"
      ],
      "text/plain": [
       "         b.height  b.chest  b.muac  \n",
       "b.height 27.230769 6.561538 2.846154\n",
       "b.chest   6.561538 2.432308 1.400000\n",
       "b.muac    2.846154 1.400000 1.846154"
      ]
     },
     "metadata": {},
     "output_type": "display_data"
    }
   ],
   "source": [
    "# 1 = boys, 2 = girls\n",
    "\n",
    "S.1.U <- var(boys)\n",
    "S.2.U <- var(girls)\n",
    "\n",
    "n.1 <- 6\n",
    "n.2 <- 9\n",
    "p <- 3\n",
    "\n",
    "S.U <- ((n.1-1)*S.1.U + (n.2-1)*S.2.U) / (n.1 + n.2 - 2)\n",
    "\n",
    "# sample pooled estimate for the covariance matrix for the two groups\n",
    "S.U"
   ]
  },
  {
   "cell_type": "code",
   "execution_count": 106,
   "metadata": {},
   "outputs": [
    {
     "data": {
      "text/html": [
       "<table>\n",
       "<tbody>\n",
       "\t<tr><td>1.475479</td></tr>\n",
       "</tbody>\n",
       "</table>\n"
      ],
      "text/latex": [
       "\\begin{tabular}{l}\n",
       "\t 1.475479\\\\\n",
       "\\end{tabular}\n"
      ],
      "text/markdown": [
       "\n",
       "| 1.475479 |\n",
       "\n"
      ],
      "text/plain": [
       "     [,1]    \n",
       "[1,] 1.475479"
      ]
     },
     "metadata": {},
     "output_type": "display_data"
    }
   ],
   "source": [
    "x.1.bar <- apply(boys, 2, mean)\n",
    "x.2.bar <- apply(girls, 2, mean)\n",
    "\n",
    "D.2 <- t(x.1.bar - x.2.bar) %*% solve(S.U) %*% (x.1.bar - x.2.bar)\n",
    "D.2"
   ]
  },
  {
   "cell_type": "code",
   "execution_count": 109,
   "metadata": {},
   "outputs": [
    {
     "data": {
      "text/html": [
       "<table>\n",
       "<tbody>\n",
       "\t<tr><td>5.311726</td></tr>\n",
       "</tbody>\n",
       "</table>\n"
      ],
      "text/latex": [
       "\\begin{tabular}{l}\n",
       "\t 5.311726\\\\\n",
       "\\end{tabular}\n"
      ],
      "text/markdown": [
       "\n",
       "| 5.311726 |\n",
       "\n"
      ],
      "text/plain": [
       "     [,1]    \n",
       "[1,] 5.311726"
      ]
     },
     "metadata": {},
     "output_type": "display_data"
    }
   ],
   "source": [
    "T.2 <- (n.1 * n.2) / (n.1 + n.2) * D.2\n",
    "T.2"
   ]
  },
  {
   "cell_type": "code",
   "execution_count": 110,
   "metadata": {},
   "outputs": [
    {
     "data": {
      "text/html": [
       "<table>\n",
       "<tbody>\n",
       "\t<tr><td>1.498179</td></tr>\n",
       "</tbody>\n",
       "</table>\n"
      ],
      "text/latex": [
       "\\begin{tabular}{l}\n",
       "\t 1.498179\\\\\n",
       "\\end{tabular}\n"
      ],
      "text/markdown": [
       "\n",
       "| 1.498179 |\n",
       "\n"
      ],
      "text/plain": [
       "     [,1]    \n",
       "[1,] 1.498179"
      ]
     },
     "metadata": {},
     "output_type": "display_data"
    }
   ],
   "source": [
    "F <- ((n.1 + n.2 - p - 1) / ((n.1 + n.2 - 2)*p))*T.2\n",
    "F"
   ]
  },
  {
   "cell_type": "code",
   "execution_count": 111,
   "metadata": {},
   "outputs": [
    {
     "data": {
      "text/html": [
       "<table>\n",
       "<tbody>\n",
       "\t<tr><td>0.2692616</td></tr>\n",
       "</tbody>\n",
       "</table>\n"
      ],
      "text/latex": [
       "\\begin{tabular}{l}\n",
       "\t 0.2692616\\\\\n",
       "\\end{tabular}\n"
      ],
      "text/markdown": [
       "\n",
       "| 0.2692616 |\n",
       "\n"
      ],
      "text/plain": [
       "     [,1]     \n",
       "[1,] 0.2692616"
      ]
     },
     "metadata": {},
     "output_type": "display_data"
    }
   ],
   "source": [
    "pf(F, p, n.1 + n.2 - p - 1, lower.tail = FALSE)"
   ]
  },
  {
   "cell_type": "markdown",
   "metadata": {},
   "source": [
    "**Cannot reject the null hypothesis that the two mean vectors are the same**."
   ]
  },
  {
   "cell_type": "code",
   "execution_count": null,
   "metadata": {},
   "outputs": [],
   "source": []
  }
 ],
 "metadata": {
  "kernelspec": {
   "display_name": "R",
   "language": "R",
   "name": "ir"
  },
  "language_info": {
   "codemirror_mode": "r",
   "file_extension": ".r",
   "mimetype": "text/x-r-source",
   "name": "R",
   "pygments_lexer": "r",
   "version": "3.6.1"
  }
 },
 "nbformat": 4,
 "nbformat_minor": 2
}
