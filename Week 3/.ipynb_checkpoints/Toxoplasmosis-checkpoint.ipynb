{
 "cells": [
  {
   "cell_type": "markdown",
   "metadata": {},
   "source": [
    "# Lecture 3 Deviance Analysis + Lecture 5 Residual Analysis\n",
    "\n",
    "## First Proper GLM Example with Analysis of Deviance"
   ]
  },
  {
   "cell_type": "code",
   "execution_count": 61,
   "metadata": {},
   "outputs": [],
   "source": [
    "library(MASS)"
   ]
  },
  {
   "cell_type": "code",
   "execution_count": 45,
   "metadata": {},
   "outputs": [],
   "source": [
    "city <- c(1, 2, 3, 4, 5, 6, 7, 8, 9, 10, 11, 12, 13, 14, 15, 16, 17, 18, 19, 20, 21, 22, 23, 24, 25, 26, 27, 28, 29, 30, 31, 32, 33, 34)\n",
    "\n",
    "no.tested <- c(4, 10, 5, 10, 2, 5, 8, 19, 6, 10, 24, 1, 30, 22, 1, 11, 1, 54, 9, 18, 12, 1, 11, 77, 51, 16, 82, 13, 43, 75, 13, 10, 6, 37)\n",
    "\n",
    "no.pos <- c(2, 3, 1, 3, 2, 3, 2, 7, 3, 8, 7, 0, 15, 4, 0, 6, 0, 33, 4, 5, 2, 0, 8, 41, 24, 7, 46, 9, 23, 53, 8, 3, 1, 23)\n",
    "\n",
    "rain <- c(1735, 1936, 2000, 1973, 1750, 1800, 1750, 2077, 1920, 1800, 2050, 1830, 1650, 2200, 2000, 1770, 1920, 1770, 2240, 1620, 1756, 1650, 2250, 1796, 1890, 1871, 2063, 2100, 1918, 1834, 1780, 1900, 1976, 2292)"
   ]
  },
  {
   "cell_type": "markdown",
   "metadata": {},
   "source": [
    "## Testing people for *toxoplasmosis* in different cities.\n",
    "\n",
    "* Have $n=34$ observations\n",
    "\n",
    "* Interest in whether there's a relationship between **rainfall** and the **proportion testing positive** in each city\n",
    "\n",
    "* When you hear this kind of setup: think **binomial**, **logistic regression**, and think **change the variables to include a proportion**\n",
    "\n",
    "###  Parameters\n",
    "\n",
    "* $y_{i}$ is the number that test positive in city $i$\n",
    "\n",
    "* $n_{i}$ is the number of people in city $i$\n",
    "\n",
    "* $p_{i}$ is the proportion that test positive in city $i$\n",
    "\n",
    "* $\\pi_{i}$ is the chance that a random person in city $i$ has the illness.\n",
    "\n",
    "* **Clearly,** $p_{i} = \\dfrac{y_{i}}{n_{i}}$\n",
    "\n",
    "* $y_{i} \\sim \\text{Binomial}(n_{i}, \\pi_{i})$.\n",
    "\n",
    "### Exploratory Variables\n",
    "\n",
    "* $x_{i}$ is the amount of rainfall in city $i$.\n",
    "\n",
    "### Model\n",
    "\n",
    "If using Binomial distribution, the canonical link function is the logit link function:\n",
    "\n",
    "> $g(\\mu_{i}) = g(\\pi_{i}) = \\eta_{i}$\n",
    "\n",
    "> $\\theta_{i} = \\ln \\left ( \\dfrac{\\pi_{i}}{1 - \\pi_{i}} \\right )$\n",
    "\n",
    "Using the canonical link:\n",
    "\n",
    "> $g(\\pi_{i}) = \\ln \\left ( \\dfrac{\\pi_{i}}{1 - \\pi_{i}} \\right ) = \\eta_{i}$\n",
    "\n",
    "We have one explanatory variable, but we're going to correct  for the mean, and then add a few extra powers of that corrected $x$... Our linear predictor will be:\n",
    "\n",
    "> $\\eta_{i} = \\beta_{0} + \\beta_{1}(x_{i} - \\bar{x}) + \\beta_{2}(x_{i} - \\bar{x})^{2} + ... + \\beta_{p}(x_{i} - \\bar{x})^{p}$,\n",
    "\n",
    "for $i = 1,2,...,n$.\n",
    "\n",
    "### Non-linear *link* between the dependant parameter mean and the linear predictor:\n",
    "\n",
    "> $g(\\pi_{i}) = \\ln \\left ( \\dfrac{\\pi_{i}}{1 - \\pi_{i}} \\right ) = \\beta_{0} + \\beta_{1}(x_{i} - \\bar{x}) + \\beta_{2}(x_{i} - \\bar{x})^{2} + ... + \\beta_{p}(x_{i} - \\bar{x})^{p}$.\n",
    "\n",
    "### We want to find the most appropriate p."
   ]
  },
  {
   "cell_type": "markdown",
   "metadata": {},
   "source": [
    "# Setting up the dataframe"
   ]
  },
  {
   "cell_type": "code",
   "execution_count": 46,
   "metadata": {},
   "outputs": [],
   "source": [
    "# scaling the rain\n",
    "rain.m <- rain / 1000"
   ]
  },
  {
   "cell_type": "code",
   "execution_count": 47,
   "metadata": {},
   "outputs": [],
   "source": [
    "# getting the mean corrected rain\n",
    "rain.cor <- rain.m - mean(rain.m)"
   ]
  },
  {
   "cell_type": "code",
   "execution_count": 48,
   "metadata": {},
   "outputs": [],
   "source": [
    "# transforming our random variable from y_i -> p_i\n",
    "prop <- no.pos / no.tested"
   ]
  },
  {
   "cell_type": "code",
   "execution_count": 49,
   "metadata": {},
   "outputs": [],
   "source": [
    "tox <- data.frame(city, prop, no.tested, rain.cor)"
   ]
  },
  {
   "cell_type": "code",
   "execution_count": 50,
   "metadata": {},
   "outputs": [
    {
     "name": "stderr",
     "output_type": "stream",
     "text": [
      "The following objects are masked from tox (pos = 3):\n",
      "\n",
      "    city, no.tested, prop, rain.cor\n",
      "\n"
     ]
    }
   ],
   "source": [
    "rm(city, no.tested, no.pos, rain, rain.m, rain.cor, prop)\n",
    "attach(tox)"
   ]
  },
  {
   "cell_type": "markdown",
   "metadata": {},
   "source": [
    "# Fitting the GLM"
   ]
  },
  {
   "cell_type": "code",
   "execution_count": 51,
   "metadata": {},
   "outputs": [],
   "source": [
    "tox.glm <- glm(prop ~ rain.cor + I(rain.cor^2) + I(rain.cor^3) + I(rain.cor^4) + I(rain.cor^5), family = binomial(link='logit'), weights = no.tested)"
   ]
  },
  {
   "cell_type": "code",
   "execution_count": 52,
   "metadata": {},
   "outputs": [
    {
     "data": {
      "text/plain": [
       "\n",
       "Call:\n",
       "glm(formula = prop ~ rain.cor + I(rain.cor^2) + I(rain.cor^3) + \n",
       "    I(rain.cor^4) + I(rain.cor^5), family = binomial(link = \"logit\"), \n",
       "    weights = no.tested)\n",
       "\n",
       "Deviance Residuals: \n",
       "    Min       1Q   Median       3Q      Max  \n",
       "-2.9829  -1.2096  -0.4572   0.4159   2.8846  \n",
       "\n",
       "Coefficients:\n",
       "                Estimate Std. Error z value Pr(>|z|)\n",
       "(Intercept)      0.00797    0.14373   0.055    0.956\n",
       "rain.cor        -1.83177    1.38143  -1.326    0.185\n",
       "I(rain.cor^2)    6.34843   11.73816   0.541    0.589\n",
       "I(rain.cor^3)  -11.34461   54.33894  -0.209    0.835\n",
       "I(rain.cor^4) -164.88357  142.70037  -1.155    0.248\n",
       "I(rain.cor^5)  539.13267  483.51560   1.115    0.265\n",
       "\n",
       "(Dispersion parameter for binomial family taken to be 1)\n",
       "\n",
       "    Null deviance: 74.212  on 33  degrees of freedom\n",
       "Residual deviance: 61.196  on 28  degrees of freedom\n",
       "AIC: 163.89\n",
       "\n",
       "Number of Fisher Scoring iterations: 3\n"
      ]
     },
     "metadata": {},
     "output_type": "display_data"
    }
   ],
   "source": [
    "summary(tox.glm)"
   ]
  },
  {
   "cell_type": "markdown",
   "metadata": {},
   "source": [
    "## Let's go through the overall summary\n",
    "\n",
    "* Min / Max stuff is useless\n",
    "\n",
    "* Null deviance is has $n-1$ degrees of freedom, so we know we have $n=34$ just by looking at the Null deviance (this is the worst possible model)\n",
    "\n",
    "* Overall deviance = $61.196$, which has $n - p$ degrees of freedom, therefore we know we have $p=6$, which is the intercept parameter, plus the five parameters associated with our five rain measures.\n",
    "\n",
    "* We know that $\\phi = 1$ because this is a single parameter distribution\n",
    "\n",
    "* So $S = D \\sim \\chi^{2}_{n-p}$\n",
    "\n",
    "### Hypothesis test\n",
    "\n",
    "> $H_{0}: \\beta_{p+1} = \\beta_{p+2} = ... = \\beta_{n} = 0$\n",
    "\n",
    "**Reject $H_{0}$ at the $100\\alpha$% level  of significance if $S = D > \\chi^{2}_{n-p}(\\alpha)$**"
   ]
  },
  {
   "cell_type": "code",
   "execution_count": 53,
   "metadata": {},
   "outputs": [
    {
     "data": {
      "text/html": [
       "0.000285856635782739"
      ],
      "text/latex": [
       "0.000285856635782739"
      ],
      "text/markdown": [
       "0.000285856635782739"
      ],
      "text/plain": [
       "[1] 0.0002858566"
      ]
     },
     "metadata": {},
     "output_type": "display_data"
    }
   ],
   "source": [
    "pchisq(61.196,28,lower.tail = F)"
   ]
  },
  {
   "cell_type": "markdown",
   "metadata": {},
   "source": [
    "**We can therefore reject the null hypothesis (that we do not need to add any more parameters to the model) at the 0.1% level of significance, and therefore accept the alternative hypothesis, that at least one of the additional parameters that's in the saturated model, but not in the current model, is significantly non-zero**\n",
    "\n",
    "I.e. we're missing parameters."
   ]
  },
  {
   "cell_type": "code",
   "execution_count": 54,
   "metadata": {},
   "outputs": [
    {
     "data": {
      "text/html": [
       "<table>\n",
       "<thead><tr><th></th><th scope=col>Df</th><th scope=col>Deviance</th><th scope=col>Resid. Df</th><th scope=col>Resid. Dev</th></tr></thead>\n",
       "<tbody>\n",
       "\t<tr><th scope=row>NULL</th><td>NA          </td><td>          NA</td><td>33          </td><td>74.21188    </td></tr>\n",
       "\t<tr><th scope=row>rain.cor</th><td> 1          </td><td>1.243923e-01</td><td>32          </td><td>74.08749    </td></tr>\n",
       "\t<tr><th scope=row>I(rain.cor^2)</th><td> 1          </td><td>1.460491e-05</td><td>31          </td><td>74.08747    </td></tr>\n",
       "\t<tr><th scope=row>I(rain.cor^3)</th><td> 1          </td><td>1.145287e+01</td><td>30          </td><td>62.63460    </td></tr>\n",
       "\t<tr><th scope=row>I(rain.cor^4)</th><td> 1          </td><td>1.881927e-01</td><td>29          </td><td>62.44641    </td></tr>\n",
       "\t<tr><th scope=row>I(rain.cor^5)</th><td> 1          </td><td>1.250249e+00</td><td>28          </td><td>61.19616    </td></tr>\n",
       "</tbody>\n",
       "</table>\n"
      ],
      "text/latex": [
       "\\begin{tabular}{r|llll}\n",
       "  & Df & Deviance & Resid. Df & Resid. Dev\\\\\n",
       "\\hline\n",
       "\tNULL & NA           &           NA & 33           & 74.21188    \\\\\n",
       "\train.cor &  1           & 1.243923e-01 & 32           & 74.08749    \\\\\n",
       "\tI(rain.cor\\textasciicircum{}2) &  1           & 1.460491e-05 & 31           & 74.08747    \\\\\n",
       "\tI(rain.cor\\textasciicircum{}3) &  1           & 1.145287e+01 & 30           & 62.63460    \\\\\n",
       "\tI(rain.cor\\textasciicircum{}4) &  1           & 1.881927e-01 & 29           & 62.44641    \\\\\n",
       "\tI(rain.cor\\textasciicircum{}5) &  1           & 1.250249e+00 & 28           & 61.19616    \\\\\n",
       "\\end{tabular}\n"
      ],
      "text/markdown": [
       "\n",
       "| <!--/--> | Df | Deviance | Resid. Df | Resid. Dev |\n",
       "|---|---|---|---|---|\n",
       "| NULL | NA           |           NA | 33           | 74.21188     |\n",
       "| rain.cor |  1           | 1.243923e-01 | 32           | 74.08749     |\n",
       "| I(rain.cor^2) |  1           | 1.460491e-05 | 31           | 74.08747     |\n",
       "| I(rain.cor^3) |  1           | 1.145287e+01 | 30           | 62.63460     |\n",
       "| I(rain.cor^4) |  1           | 1.881927e-01 | 29           | 62.44641     |\n",
       "| I(rain.cor^5) |  1           | 1.250249e+00 | 28           | 61.19616     |\n",
       "\n"
      ],
      "text/plain": [
       "              Df Deviance     Resid. Df Resid. Dev\n",
       "NULL          NA           NA 33        74.21188  \n",
       "rain.cor       1 1.243923e-01 32        74.08749  \n",
       "I(rain.cor^2)  1 1.460491e-05 31        74.08747  \n",
       "I(rain.cor^3)  1 1.145287e+01 30        62.63460  \n",
       "I(rain.cor^4)  1 1.881927e-01 29        62.44641  \n",
       "I(rain.cor^5)  1 1.250249e+00 28        61.19616  "
      ]
     },
     "metadata": {},
     "output_type": "display_data"
    }
   ],
   "source": [
    "anova(tox.glm)"
   ]
  },
  {
   "cell_type": "markdown",
   "metadata": {},
   "source": [
    "## Inspection of the ANOVA table (the analysis of deviance table)\n",
    "\n",
    "See a significant drop in the residual deviance (**THINK RESIDUAL SUM OF SQUARES... AND YOU WANT THIS TO BE LOW!**) after adding the cubic term.\n",
    "\n",
    "You can check the scaled deviance difference statistic, $W$,\n",
    "\n",
    "> $W = S_{r} - S_{f} \\sim \\chi^{2}_{q-p}$\n",
    "\n",
    "(Where $S_{r}$ is the reduced model ($p$ parameters) scaled deviance, and $S_{f}$ is the full model ($q$ parameters) scaled deviance)\n",
    "\n",
    "> $W = \\dfrac{D_{r} = D{f}}{\\phi} = D_{r} = D{f}$\n",
    "\n",
    "(since $\\phi$ = 1)\n",
    "\n",
    "Therefore, you can test the hypothesis between models:\n",
    "\n",
    "> $H_{0}: \\beta_{0} = \\beta_{1} = \\beta_{2} = 0$\n",
    "\n",
    "via:\n",
    "\n",
    "> $W = 74.21188 - 62.63460 \\sim \\chi^{2}_{q-p}$\n",
    "\n",
    "where $q = 4$ and $p = 1$"
   ]
  },
  {
   "cell_type": "code",
   "execution_count": 55,
   "metadata": {},
   "outputs": [
    {
     "data": {
      "text/html": [
       "0.00898083849319172"
      ],
      "text/latex": [
       "0.00898083849319172"
      ],
      "text/markdown": [
       "0.00898083849319172"
      ],
      "text/plain": [
       "[1] 0.008980838"
      ]
     },
     "metadata": {},
     "output_type": "display_data"
    }
   ],
   "source": [
    "pchisq(74.21188-62.63460,3,lower.tail=F)"
   ]
  },
  {
   "cell_type": "markdown",
   "metadata": {},
   "source": [
    "So we can reject this hypothesis at the 1% level of significance which means the null model is missing parameters... But this is pretty obvious, and we've already rejected the hypothesis that the  full five variable model has a sufficient number of parameters."
   ]
  },
  {
   "cell_type": "markdown",
   "metadata": {},
   "source": [
    "# Refitting GLM just upto the third order term"
   ]
  },
  {
   "cell_type": "code",
   "execution_count": 56,
   "metadata": {},
   "outputs": [],
   "source": [
    "tox.glm <- glm(prop ~ rain.cor + I(rain.cor^2) + I(rain.cor^3), family = binomial(link='logit'), weights = no.tested)"
   ]
  },
  {
   "cell_type": "code",
   "execution_count": 57,
   "metadata": {},
   "outputs": [
    {
     "data": {
      "text/plain": [
       "\n",
       "Call:\n",
       "glm(formula = prop ~ rain.cor + I(rain.cor^2) + I(rain.cor^3), \n",
       "    family = binomial(link = \"logit\"), weights = no.tested)\n",
       "\n",
       "Deviance Residuals: \n",
       "    Min       1Q   Median       3Q      Max  \n",
       "-2.7620  -1.2166  -0.5079   0.3538   2.6204  \n",
       "\n",
       "Coefficients:\n",
       "              Estimate Std. Error z value Pr(>|z|)    \n",
       "(Intercept)    0.09939    0.10197   0.975 0.329678    \n",
       "rain.cor      -2.55187    0.88276  -2.891 0.003843 ** \n",
       "I(rain.cor^2) -6.06369    2.96348  -2.046 0.040743 *  \n",
       "I(rain.cor^3) 39.32248   11.73606   3.351 0.000806 ***\n",
       "---\n",
       "Signif. codes:  0 ‘***’ 0.001 ‘**’ 0.01 ‘*’ 0.05 ‘.’ 0.1 ‘ ’ 1\n",
       "\n",
       "(Dispersion parameter for binomial family taken to be 1)\n",
       "\n",
       "    Null deviance: 74.212  on 33  degrees of freedom\n",
       "Residual deviance: 62.635  on 30  degrees of freedom\n",
       "AIC: 161.33\n",
       "\n",
       "Number of Fisher Scoring iterations: 3\n"
      ]
     },
     "metadata": {},
     "output_type": "display_data"
    }
   ],
   "source": [
    "summary(tox.glm)"
   ]
  },
  {
   "cell_type": "code",
   "execution_count": 58,
   "metadata": {},
   "outputs": [
    {
     "data": {
      "text/html": [
       "0.000436581514022869"
      ],
      "text/latex": [
       "0.000436581514022869"
      ],
      "text/markdown": [
       "0.000436581514022869"
      ],
      "text/plain": [
       "[1] 0.0004365815"
      ]
     },
     "metadata": {},
     "output_type": "display_data"
    }
   ],
   "source": [
    "pchisq(62.635,30,lower.tail = F)"
   ]
  },
  {
   "cell_type": "markdown",
   "metadata": {},
   "source": [
    "Again, we can reject the null hypothesis that the model has sufficient parameters, and accept the alternative that we're missing parameters present in the saturated model that aren't in the current model."
   ]
  },
  {
   "cell_type": "markdown",
   "metadata": {},
   "source": [
    "## Plotting the data"
   ]
  },
  {
   "cell_type": "code",
   "execution_count": 59,
   "metadata": {},
   "outputs": [
    {
     "data": {
      "image/png": "[encoded data removed]",
      "text/plain": [
       "plot without title"
      ]
     },
     "metadata": {},
     "output_type": "display_data"
    }
   ],
   "source": [
    "x <- seq(min(rain.cor),max(rain.cor),0.01)\n",
    "pred <- predict(tox.glm, data.frame(rain.cor=x),type='response')\n",
    "\n",
    "plot(rain.cor,prop)\n",
    "lines(x,pred)"
   ]
  },
  {
   "cell_type": "markdown",
   "metadata": {},
   "source": [
    "# Lecture 5: Looking at residuals"
   ]
  },
  {
   "cell_type": "code",
   "execution_count": 78,
   "metadata": {},
   "outputs": [
    {
     "data": {
      "text/html": [
       "<table>\n",
       "<thead><tr><th scope=col>city</th><th scope=col>prop</th><th scope=col>no.tested</th><th scope=col>rain.cor</th><th scope=col>stdres</th><th scope=col>pearson</th><th scope=col>response</th><th scope=col>deviance</th><th scope=col>residuals</th><th scope=col>fitted</th></tr></thead>\n",
       "<tbody>\n",
       "\t<tr><td>1          </td><td>0.5        </td><td> 4         </td><td>-0.17285294</td><td>-0.1131643 </td><td>-0.1563972 </td><td>-0.0389803 </td><td>-0.1561589 </td><td>-0.1561589 </td><td>0.5389803  </td></tr>\n",
       "\t<tr><td>2          </td><td>0.3        </td><td>10         </td><td> 0.02814706</td><td>-0.9480863 </td><td>-1.3023758 </td><td>-0.2059093 </td><td>-1.3196999 </td><td>-1.3196999 </td><td>0.5059093  </td></tr>\n",
       "\t<tr><td>3          </td><td>0.2        </td><td> 5         </td><td> 0.09214706</td><td>-0.8484693 </td><td>-1.1706265 </td><td>-0.2609610 </td><td>-1.2200810 </td><td>-1.2200810 </td><td>0.4609610  </td></tr>\n",
       "\t<tr><td>4          </td><td>0.3        </td><td>10         </td><td> 0.06514706</td><td>-0.8296327 </td><td>-1.1367258 </td><td>-0.1795822 </td><td>-1.1556299 </td><td>-1.1556299 </td><td>0.4795822  </td></tr>\n",
       "\t<tr><td>5          </td><td>1.0        </td><td> 2         </td><td>-0.15785294</td><td> 0.9234798 </td><td> 1.2819041 </td><td> 0.4510438 </td><td> 1.5488534 </td><td> 1.5488534 </td><td>0.5489562  </td></tr>\n",
       "</tbody>\n",
       "</table>\n"
      ],
      "text/latex": [
       "\\begin{tabular}{r|llllllllll}\n",
       " city & prop & no.tested & rain.cor & stdres & pearson & response & deviance & residuals & fitted\\\\\n",
       "\\hline\n",
       "\t 1           & 0.5         &  4          & -0.17285294 & -0.1131643  & -0.1563972  & -0.0389803  & -0.1561589  & -0.1561589  & 0.5389803  \\\\\n",
       "\t 2           & 0.3         & 10          &  0.02814706 & -0.9480863  & -1.3023758  & -0.2059093  & -1.3196999  & -1.3196999  & 0.5059093  \\\\\n",
       "\t 3           & 0.2         &  5          &  0.09214706 & -0.8484693  & -1.1706265  & -0.2609610  & -1.2200810  & -1.2200810  & 0.4609610  \\\\\n",
       "\t 4           & 0.3         & 10          &  0.06514706 & -0.8296327  & -1.1367258  & -0.1795822  & -1.1556299  & -1.1556299  & 0.4795822  \\\\\n",
       "\t 5           & 1.0         &  2          & -0.15785294 &  0.9234798  &  1.2819041  &  0.4510438  &  1.5488534  &  1.5488534  & 0.5489562  \\\\\n",
       "\\end{tabular}\n"
      ],
      "text/markdown": [
       "\n",
       "| city | prop | no.tested | rain.cor | stdres | pearson | response | deviance | residuals | fitted |\n",
       "|---|---|---|---|---|---|---|---|---|---|\n",
       "| 1           | 0.5         |  4          | -0.17285294 | -0.1131643  | -0.1563972  | -0.0389803  | -0.1561589  | -0.1561589  | 0.5389803   |\n",
       "| 2           | 0.3         | 10          |  0.02814706 | -0.9480863  | -1.3023758  | -0.2059093  | -1.3196999  | -1.3196999  | 0.5059093   |\n",
       "| 3           | 0.2         |  5          |  0.09214706 | -0.8484693  | -1.1706265  | -0.2609610  | -1.2200810  | -1.2200810  | 0.4609610   |\n",
       "| 4           | 0.3         | 10          |  0.06514706 | -0.8296327  | -1.1367258  | -0.1795822  | -1.1556299  | -1.1556299  | 0.4795822   |\n",
       "| 5           | 1.0         |  2          | -0.15785294 |  0.9234798  |  1.2819041  |  0.4510438  |  1.5488534  |  1.5488534  | 0.5489562   |\n",
       "\n"
      ],
      "text/plain": [
       "  city prop no.tested rain.cor    stdres     pearson    response   deviance  \n",
       "1 1    0.5   4        -0.17285294 -0.1131643 -0.1563972 -0.0389803 -0.1561589\n",
       "2 2    0.3  10         0.02814706 -0.9480863 -1.3023758 -0.2059093 -1.3196999\n",
       "3 3    0.2   5         0.09214706 -0.8484693 -1.1706265 -0.2609610 -1.2200810\n",
       "4 4    0.3  10         0.06514706 -0.8296327 -1.1367258 -0.1795822 -1.1556299\n",
       "5 5    1.0   2        -0.15785294  0.9234798  1.2819041  0.4510438  1.5488534\n",
       "  residuals  fitted   \n",
       "1 -0.1561589 0.5389803\n",
       "2 -1.3196999 0.5059093\n",
       "3 -1.2200810 0.4609610\n",
       "4 -1.1556299 0.4795822\n",
       "5  1.5488534 0.5489562"
      ]
     },
     "metadata": {},
     "output_type": "display_data"
    }
   ],
   "source": [
    "# interesting, looks like you get deviance residuals out of the box as standard\n",
    "tox['stdres'] <- stdres(tox.glm)\n",
    "tox['pearson'] <- resid(tox.glm, type='pearson')\n",
    "tox['response'] <- resid(tox.glm, type='response')\n",
    "tox['deviance'] <- resid(tox.glm, type='deviance')\n",
    "tox['residuals'] <- residuals(tox.glm)\n",
    "\n",
    "tox['fitted'] <- fitted(tox.glm)\n",
    "\n",
    "tox[1:5,]"
   ]
  },
  {
   "cell_type": "markdown",
   "metadata": {},
   "source": [
    "## Note, if you sum up the square of the deviance residuals..., you get the residual deviance!"
   ]
  },
  {
   "cell_type": "code",
   "execution_count": 81,
   "metadata": {},
   "outputs": [
    {
     "data": {
      "text/html": [
       "62.634602331782"
      ],
      "text/latex": [
       "62.634602331782"
      ],
      "text/markdown": [
       "62.634602331782"
      ],
      "text/plain": [
       "[1] 62.6346"
      ]
     },
     "metadata": {},
     "output_type": "display_data"
    }
   ],
   "source": [
    "sum(tox$deviance**2)"
   ]
  },
  {
   "cell_type": "markdown",
   "metadata": {},
   "source": [
    "## Plotting the residuals against the index of the data is a way  of checking for independence\n",
    "\n",
    "> Not what the lecturer has said to do..."
   ]
  },
  {
   "cell_type": "code",
   "execution_count": 82,
   "metadata": {},
   "outputs": [
    {
     "data": {
      "image/png": "[encoded data removed]",
      "text/plain": [
       "plot without title"
      ]
     },
     "metadata": {},
     "output_type": "display_data"
    }
   ],
   "source": [
    "plot(tox$city, tox$deviance)"
   ]
  },
  {
   "cell_type": "markdown",
   "metadata": {},
   "source": [
    "## The point the notes try to make is to look for some dodgy looking data points, take them out by setting their weights to 0 in the logistic regression weights, and then  re-analyse the deviance... But this seems pretty dodgy practice."
   ]
  },
  {
   "cell_type": "code",
   "execution_count": null,
   "metadata": {},
   "outputs": [],
   "source": []
  }
 ],
 "metadata": {
  "kernelspec": {
   "display_name": "R",
   "language": "R",
   "name": "ir"
  },
  "language_info": {
   "codemirror_mode": "r",
   "file_extension": ".r",
   "mimetype": "text/x-r-source",
   "name": "R",
   "pygments_lexer": "r",
   "version": "3.6.1"
  }
 },
 "nbformat": 4,
 "nbformat_minor": 2
}
