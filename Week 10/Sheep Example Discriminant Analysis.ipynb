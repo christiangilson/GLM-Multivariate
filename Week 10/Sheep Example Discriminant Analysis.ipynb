{
 "cells": [
  {
   "cell_type": "markdown",
   "metadata": {},
   "source": [
    "## Example 12.6\n",
    "\n",
    "Five diagnostic tests were carried out on two groups of sheep:\n",
    "\n",
    "1. those suffering with Scrapie (a mild disease);\n",
    "\n",
    "2. those suffering from ovine CJD (a more serious disease).\n",
    "\n",
    "The measurements of the two tests were:"
   ]
  },
  {
   "cell_type": "code",
   "execution_count": 7,
   "metadata": {},
   "outputs": [],
   "source": [
    "# 5 tests for Scrapie group\n",
    "\n",
    "srp.t1 <- c(11, 33, 20, 18, 22)\n",
    "srp.t2 <- c(18, 27, 28, 26, 23)\n",
    "srp.t3 <- c(15, 31, 27, 18, 22)\n",
    "srp.t4 <- c(18, 21, 23, 18, 16)\n",
    "srp.t5 <- c(15, 17, 19, 9, 10)"
   ]
  },
  {
   "cell_type": "code",
   "execution_count": 8,
   "metadata": {},
   "outputs": [],
   "source": [
    "# The same 5 diagnostic tests for the ovine CJD group\n",
    "\n",
    "cjd.t1 <- c(18, 31, 14, 25, 36)\n",
    "cjd.t2 <- c(17, 24, 16, 24, 28)\n",
    "cjd.t3 <- c(20, 31, 17, 31, 24)\n",
    "cjd.t4 <- c(18, 26, 20, 26, 26)\n",
    "cjd.t5 <- c(18, 20, 17, 18, 29)"
   ]
  },
  {
   "cell_type": "code",
   "execution_count": 11,
   "metadata": {},
   "outputs": [],
   "source": [
    "scrapie <- data.frame(srp.t1, srp.t2, srp.t3, srp.t4, srp.t5)\n",
    "cjd <- data.frame(cjd.t1, cjd.t2, cjd.t3, cjd.t4, cjd.t5)"
   ]
  },
  {
   "cell_type": "markdown",
   "metadata": {},
   "source": [
    "### Scrapie data: 5 observations"
   ]
  },
  {
   "cell_type": "code",
   "execution_count": 12,
   "metadata": {},
   "outputs": [
    {
     "data": {
      "text/html": [
       "<table>\n",
       "<caption>A data.frame: 5 × 5</caption>\n",
       "<thead>\n",
       "\t<tr><th scope=col>srp.t1</th><th scope=col>srp.t2</th><th scope=col>srp.t3</th><th scope=col>srp.t4</th><th scope=col>srp.t5</th></tr>\n",
       "\t<tr><th scope=col>&lt;dbl&gt;</th><th scope=col>&lt;dbl&gt;</th><th scope=col>&lt;dbl&gt;</th><th scope=col>&lt;dbl&gt;</th><th scope=col>&lt;dbl&gt;</th></tr>\n",
       "</thead>\n",
       "<tbody>\n",
       "\t<tr><td>11</td><td>18</td><td>15</td><td>18</td><td>15</td></tr>\n",
       "\t<tr><td>33</td><td>27</td><td>31</td><td>21</td><td>17</td></tr>\n",
       "\t<tr><td>20</td><td>28</td><td>27</td><td>23</td><td>19</td></tr>\n",
       "\t<tr><td>18</td><td>26</td><td>18</td><td>18</td><td> 9</td></tr>\n",
       "\t<tr><td>22</td><td>23</td><td>22</td><td>16</td><td>10</td></tr>\n",
       "</tbody>\n",
       "</table>\n"
      ],
      "text/latex": [
       "A data.frame: 5 × 5\n",
       "\\begin{tabular}{r|lllll}\n",
       " srp.t1 & srp.t2 & srp.t3 & srp.t4 & srp.t5\\\\\n",
       " <dbl> & <dbl> & <dbl> & <dbl> & <dbl>\\\\\n",
       "\\hline\n",
       "\t 11 & 18 & 15 & 18 & 15\\\\\n",
       "\t 33 & 27 & 31 & 21 & 17\\\\\n",
       "\t 20 & 28 & 27 & 23 & 19\\\\\n",
       "\t 18 & 26 & 18 & 18 &  9\\\\\n",
       "\t 22 & 23 & 22 & 16 & 10\\\\\n",
       "\\end{tabular}\n"
      ],
      "text/markdown": [
       "\n",
       "A data.frame: 5 × 5\n",
       "\n",
       "| srp.t1 &lt;dbl&gt; | srp.t2 &lt;dbl&gt; | srp.t3 &lt;dbl&gt; | srp.t4 &lt;dbl&gt; | srp.t5 &lt;dbl&gt; |\n",
       "|---|---|---|---|---|\n",
       "| 11 | 18 | 15 | 18 | 15 |\n",
       "| 33 | 27 | 31 | 21 | 17 |\n",
       "| 20 | 28 | 27 | 23 | 19 |\n",
       "| 18 | 26 | 18 | 18 |  9 |\n",
       "| 22 | 23 | 22 | 16 | 10 |\n",
       "\n"
      ],
      "text/plain": [
       "  srp.t1 srp.t2 srp.t3 srp.t4 srp.t5\n",
       "1 11     18     15     18     15    \n",
       "2 33     27     31     21     17    \n",
       "3 20     28     27     23     19    \n",
       "4 18     26     18     18      9    \n",
       "5 22     23     22     16     10    "
      ]
     },
     "metadata": {},
     "output_type": "display_data"
    }
   ],
   "source": [
    "scrapie"
   ]
  },
  {
   "cell_type": "markdown",
   "metadata": {},
   "source": [
    "### Ovine CJD data: 5 observations"
   ]
  },
  {
   "cell_type": "code",
   "execution_count": 13,
   "metadata": {},
   "outputs": [
    {
     "data": {
      "text/html": [
       "<table>\n",
       "<caption>A data.frame: 5 × 5</caption>\n",
       "<thead>\n",
       "\t<tr><th scope=col>cjd.t1</th><th scope=col>cjd.t2</th><th scope=col>cjd.t3</th><th scope=col>cjd.t4</th><th scope=col>cjd.t5</th></tr>\n",
       "\t<tr><th scope=col>&lt;dbl&gt;</th><th scope=col>&lt;dbl&gt;</th><th scope=col>&lt;dbl&gt;</th><th scope=col>&lt;dbl&gt;</th><th scope=col>&lt;dbl&gt;</th></tr>\n",
       "</thead>\n",
       "<tbody>\n",
       "\t<tr><td>18</td><td>17</td><td>20</td><td>18</td><td>18</td></tr>\n",
       "\t<tr><td>31</td><td>24</td><td>31</td><td>26</td><td>20</td></tr>\n",
       "\t<tr><td>14</td><td>16</td><td>17</td><td>20</td><td>17</td></tr>\n",
       "\t<tr><td>25</td><td>24</td><td>31</td><td>26</td><td>18</td></tr>\n",
       "\t<tr><td>36</td><td>28</td><td>24</td><td>26</td><td>29</td></tr>\n",
       "</tbody>\n",
       "</table>\n"
      ],
      "text/latex": [
       "A data.frame: 5 × 5\n",
       "\\begin{tabular}{r|lllll}\n",
       " cjd.t1 & cjd.t2 & cjd.t3 & cjd.t4 & cjd.t5\\\\\n",
       " <dbl> & <dbl> & <dbl> & <dbl> & <dbl>\\\\\n",
       "\\hline\n",
       "\t 18 & 17 & 20 & 18 & 18\\\\\n",
       "\t 31 & 24 & 31 & 26 & 20\\\\\n",
       "\t 14 & 16 & 17 & 20 & 17\\\\\n",
       "\t 25 & 24 & 31 & 26 & 18\\\\\n",
       "\t 36 & 28 & 24 & 26 & 29\\\\\n",
       "\\end{tabular}\n"
      ],
      "text/markdown": [
       "\n",
       "A data.frame: 5 × 5\n",
       "\n",
       "| cjd.t1 &lt;dbl&gt; | cjd.t2 &lt;dbl&gt; | cjd.t3 &lt;dbl&gt; | cjd.t4 &lt;dbl&gt; | cjd.t5 &lt;dbl&gt; |\n",
       "|---|---|---|---|---|\n",
       "| 18 | 17 | 20 | 18 | 18 |\n",
       "| 31 | 24 | 31 | 26 | 20 |\n",
       "| 14 | 16 | 17 | 20 | 17 |\n",
       "| 25 | 24 | 31 | 26 | 18 |\n",
       "| 36 | 28 | 24 | 26 | 29 |\n",
       "\n"
      ],
      "text/plain": [
       "  cjd.t1 cjd.t2 cjd.t3 cjd.t4 cjd.t5\n",
       "1 18     17     20     18     18    \n",
       "2 31     24     31     26     20    \n",
       "3 14     16     17     20     17    \n",
       "4 25     24     31     26     18    \n",
       "5 36     28     24     26     29    "
      ]
     },
     "metadata": {},
     "output_type": "display_data"
    }
   ],
   "source": [
    "cjd"
   ]
  },
  {
   "cell_type": "markdown",
   "metadata": {},
   "source": [
    "### Need the sample sizes of the two samples"
   ]
  },
  {
   "cell_type": "code",
   "execution_count": 21,
   "metadata": {},
   "outputs": [
    {
     "data": {
      "text/html": [
       "<ol class=list-inline>\n",
       "\t<li>5</li>\n",
       "\t<li>5</li>\n",
       "</ol>\n"
      ],
      "text/latex": [
       "\\begin{enumerate*}\n",
       "\\item 5\n",
       "\\item 5\n",
       "\\end{enumerate*}\n"
      ],
      "text/markdown": [
       "1. 5\n",
       "2. 5\n",
       "\n",
       "\n"
      ],
      "text/plain": [
       "[1] 5 5"
      ]
     },
     "metadata": {},
     "output_type": "display_data"
    }
   ],
   "source": [
    "no.scrapie <- dim(scrapie)[1]\n",
    "no.cjd <- dim(cjd)[1]\n",
    "\n",
    "c(no.scrapie, no.cjd)"
   ]
  },
  {
   "cell_type": "markdown",
   "metadata": {},
   "source": [
    "### Our pooled estimate of the covariance matrix: $\\hat{\\Sigma} = \\mathbf{S}_{U}$ \n",
    "> $\\mathbf{S}_{U}$ is the unbiased estimate of $\\Sigma$\n",
    "\n",
    "> $\\mathbf{S}_{U} = \\dfrac{(n_{1}-1)\\mathbf{S}_{1U} + (n_{2}-1)\\mathbf{S}_{2U}}{n_{1} + n_{2} - 2}$\n",
    "\n",
    "> Where $\\mathbf{S}_{1U}$ is the sample covariance matrix for sample 1."
   ]
  },
  {
   "cell_type": "code",
   "execution_count": 46,
   "metadata": {},
   "outputs": [
    {
     "data": {
      "text/html": [
       "<table>\n",
       "<caption>A matrix: 5 × 5 of type dbl</caption>\n",
       "<thead>\n",
       "\t<tr><th></th><th scope=col>srp.t1</th><th scope=col>srp.t2</th><th scope=col>srp.t3</th><th scope=col>srp.t4</th><th scope=col>srp.t5</th></tr>\n",
       "</thead>\n",
       "<tbody>\n",
       "\t<tr><th scope=row>srp.t1</th><td>72.700</td><td>33.025</td><td>41.65</td><td>18.675</td><td>22.300</td></tr>\n",
       "\t<tr><th scope=row>srp.t2</th><td>33.025</td><td>21.250</td><td>21.30</td><td>12.725</td><td>11.925</td></tr>\n",
       "\t<tr><th scope=row>srp.t3</th><td>41.650</td><td>21.300</td><td>41.30</td><td>16.350</td><td> 9.850</td></tr>\n",
       "\t<tr><th scope=row>srp.t4</th><td>18.675</td><td>12.725</td><td>16.35</td><td>11.450</td><td>10.200</td></tr>\n",
       "\t<tr><th scope=row>srp.t5</th><td>22.300</td><td>11.925</td><td> 9.85</td><td>10.200</td><td>21.650</td></tr>\n",
       "</tbody>\n",
       "</table>\n"
      ],
      "text/latex": [
       "A matrix: 5 × 5 of type dbl\n",
       "\\begin{tabular}{r|lllll}\n",
       "  & srp.t1 & srp.t2 & srp.t3 & srp.t4 & srp.t5\\\\\n",
       "\\hline\n",
       "\tsrp.t1 & 72.700 & 33.025 & 41.65 & 18.675 & 22.300\\\\\n",
       "\tsrp.t2 & 33.025 & 21.250 & 21.30 & 12.725 & 11.925\\\\\n",
       "\tsrp.t3 & 41.650 & 21.300 & 41.30 & 16.350 &  9.850\\\\\n",
       "\tsrp.t4 & 18.675 & 12.725 & 16.35 & 11.450 & 10.200\\\\\n",
       "\tsrp.t5 & 22.300 & 11.925 &  9.85 & 10.200 & 21.650\\\\\n",
       "\\end{tabular}\n"
      ],
      "text/markdown": [
       "\n",
       "A matrix: 5 × 5 of type dbl\n",
       "\n",
       "| <!--/--> | srp.t1 | srp.t2 | srp.t3 | srp.t4 | srp.t5 |\n",
       "|---|---|---|---|---|---|\n",
       "| srp.t1 | 72.700 | 33.025 | 41.65 | 18.675 | 22.300 |\n",
       "| srp.t2 | 33.025 | 21.250 | 21.30 | 12.725 | 11.925 |\n",
       "| srp.t3 | 41.650 | 21.300 | 41.30 | 16.350 |  9.850 |\n",
       "| srp.t4 | 18.675 | 12.725 | 16.35 | 11.450 | 10.200 |\n",
       "| srp.t5 | 22.300 | 11.925 |  9.85 | 10.200 | 21.650 |\n",
       "\n"
      ],
      "text/plain": [
       "       srp.t1 srp.t2 srp.t3 srp.t4 srp.t5\n",
       "srp.t1 72.700 33.025 41.65  18.675 22.300\n",
       "srp.t2 33.025 21.250 21.30  12.725 11.925\n",
       "srp.t3 41.650 21.300 41.30  16.350  9.850\n",
       "srp.t4 18.675 12.725 16.35  11.450 10.200\n",
       "srp.t5 22.300 11.925  9.85  10.200 21.650"
      ]
     },
     "metadata": {},
     "output_type": "display_data"
    }
   ],
   "source": [
    "s.pooled <- (no.scrapie - 1) * var(scrapie) + (no.cjd - 1) * var(cjd)\n",
    "\n",
    "s.pooled <- s.pooled / (no.scrapie + no.cjd - 2)\n",
    "\n",
    "s.pooled"
   ]
  },
  {
   "cell_type": "code",
   "execution_count": 51,
   "metadata": {},
   "outputs": [
    {
     "data": {
      "text/html": [
       "<table>\n",
       "<caption>A matrix: 5 × 5 of type dbl</caption>\n",
       "<thead>\n",
       "\t<tr><th></th><th scope=col>srp.t1</th><th scope=col>srp.t2</th><th scope=col>srp.t3</th><th scope=col>srp.t4</th><th scope=col>srp.t5</th></tr>\n",
       "</thead>\n",
       "<tbody>\n",
       "\t<tr><th scope=row>srp.t1</th><td> 0.09627223</td><td>-0.12756676</td><td>-0.07536557</td><td> 0.1508991</td><td>-0.06570241</td></tr>\n",
       "\t<tr><th scope=row>srp.t2</th><td>-0.12756676</td><td> 0.32560846</td><td> 0.06744833</td><td>-0.3102937</td><td> 0.06755138</td></tr>\n",
       "\t<tr><th scope=row>srp.t3</th><td>-0.07536557</td><td> 0.06744833</td><td> 0.12750144</td><td>-0.2041784</td><td> 0.07866334</td></tr>\n",
       "\t<tr><th scope=row>srp.t4</th><td> 0.15089911</td><td>-0.31029369</td><td>-0.20417838</td><td> 0.6566855</td><td>-0.20100846</td></tr>\n",
       "\t<tr><th scope=row>srp.t5</th><td>-0.06570241</td><td> 0.06755138</td><td> 0.07866334</td><td>-0.2010085</td><td> 0.13556886</td></tr>\n",
       "</tbody>\n",
       "</table>\n"
      ],
      "text/latex": [
       "A matrix: 5 × 5 of type dbl\n",
       "\\begin{tabular}{r|lllll}\n",
       "  & srp.t1 & srp.t2 & srp.t3 & srp.t4 & srp.t5\\\\\n",
       "\\hline\n",
       "\tsrp.t1 &  0.09627223 & -0.12756676 & -0.07536557 &  0.1508991 & -0.06570241\\\\\n",
       "\tsrp.t2 & -0.12756676 &  0.32560846 &  0.06744833 & -0.3102937 &  0.06755138\\\\\n",
       "\tsrp.t3 & -0.07536557 &  0.06744833 &  0.12750144 & -0.2041784 &  0.07866334\\\\\n",
       "\tsrp.t4 &  0.15089911 & -0.31029369 & -0.20417838 &  0.6566855 & -0.20100846\\\\\n",
       "\tsrp.t5 & -0.06570241 &  0.06755138 &  0.07866334 & -0.2010085 &  0.13556886\\\\\n",
       "\\end{tabular}\n"
      ],
      "text/markdown": [
       "\n",
       "A matrix: 5 × 5 of type dbl\n",
       "\n",
       "| <!--/--> | srp.t1 | srp.t2 | srp.t3 | srp.t4 | srp.t5 |\n",
       "|---|---|---|---|---|---|\n",
       "| srp.t1 |  0.09627223 | -0.12756676 | -0.07536557 |  0.1508991 | -0.06570241 |\n",
       "| srp.t2 | -0.12756676 |  0.32560846 |  0.06744833 | -0.3102937 |  0.06755138 |\n",
       "| srp.t3 | -0.07536557 |  0.06744833 |  0.12750144 | -0.2041784 |  0.07866334 |\n",
       "| srp.t4 |  0.15089911 | -0.31029369 | -0.20417838 |  0.6566855 | -0.20100846 |\n",
       "| srp.t5 | -0.06570241 |  0.06755138 |  0.07866334 | -0.2010085 |  0.13556886 |\n",
       "\n"
      ],
      "text/plain": [
       "       srp.t1      srp.t2      srp.t3      srp.t4     srp.t5     \n",
       "srp.t1  0.09627223 -0.12756676 -0.07536557  0.1508991 -0.06570241\n",
       "srp.t2 -0.12756676  0.32560846  0.06744833 -0.3102937  0.06755138\n",
       "srp.t3 -0.07536557  0.06744833  0.12750144 -0.2041784  0.07866334\n",
       "srp.t4  0.15089911 -0.31029369 -0.20417838  0.6566855 -0.20100846\n",
       "srp.t5 -0.06570241  0.06755138  0.07866334 -0.2010085  0.13556886"
      ]
     },
     "metadata": {},
     "output_type": "display_data"
    }
   ],
   "source": [
    "# calculate the inverse of the sample covariance matrix\n",
    "s.pooled.inv <- solve(s.pooled)\n",
    "\n",
    "s.pooled.inv"
   ]
  },
  {
   "cell_type": "markdown",
   "metadata": {},
   "source": [
    "### Now getting the sample means\n",
    "\n",
    "> Our sample means will be vectors\n",
    "\n",
    "> The length of the sample mean vectors will be 5 - due to the 5 tests"
   ]
  },
  {
   "cell_type": "code",
   "execution_count": 52,
   "metadata": {},
   "outputs": [],
   "source": [
    "# MARGIN = 2 means we're getting column-wise means\n",
    "\n",
    "sample.mean.scrapie <- apply(scrapie, MARGIN = 2, mean)\n",
    "sample.mean.cjd <- apply(cjd, MARGIN = 2, mean)"
   ]
  },
  {
   "cell_type": "code",
   "execution_count": 53,
   "metadata": {},
   "outputs": [],
   "source": [
    "# little bit of R syntax to turn these two objects into vectors\n",
    "\n",
    "names(sample.mean.scrapie) <- NULL\n",
    "names(sample.mean.cjd) <- NULL"
   ]
  },
  {
   "cell_type": "markdown",
   "metadata": {},
   "source": [
    "## We can now calculate the $\\mathbf{\\hat{L}}$ part of the Sample Linear Discriminant Function, $\\mathbf{\\hat{L}}\\mathbf{x}$\n",
    "\n",
    "> $\\mathbf{L} = \\Sigma^{-1}(\\mu_{1} - \\mu_{2})$\n",
    "\n",
    "> $\\mathbf{\\hat{L}} = \\mathbf{S}_{U}^{-1}(\\bar{\\mathbf{x}}_{1} - \\bar{\\mathbf{x}}_{2})$"
   ]
  },
  {
   "cell_type": "code",
   "execution_count": 56,
   "metadata": {},
   "outputs": [
    {
     "data": {
      "text/html": [
       "<table>\n",
       "<caption>A matrix: 5 × 1 of type dbl</caption>\n",
       "<tbody>\n",
       "\t<tr><th scope=row>srp.t1</th><td>-0.7491324</td></tr>\n",
       "\t<tr><th scope=row>srp.t2</th><td> 2.0307983</td></tr>\n",
       "\t<tr><th scope=row>srp.t3</th><td> 0.5350933</td></tr>\n",
       "\t<tr><th scope=row>srp.t4</th><td>-2.3422912</td></tr>\n",
       "\t<tr><th scope=row>srp.t5</th><td> 0.2175097</td></tr>\n",
       "</tbody>\n",
       "</table>\n"
      ],
      "text/latex": [
       "A matrix: 5 × 1 of type dbl\n",
       "\\begin{tabular}{r|l}\n",
       "\tsrp.t1 & -0.7491324\\\\\n",
       "\tsrp.t2 &  2.0307983\\\\\n",
       "\tsrp.t3 &  0.5350933\\\\\n",
       "\tsrp.t4 & -2.3422912\\\\\n",
       "\tsrp.t5 &  0.2175097\\\\\n",
       "\\end{tabular}\n"
      ],
      "text/markdown": [
       "\n",
       "A matrix: 5 × 1 of type dbl\n",
       "\n",
       "| srp.t1 | -0.7491324 |\n",
       "| srp.t2 |  2.0307983 |\n",
       "| srp.t3 |  0.5350933 |\n",
       "| srp.t4 | -2.3422912 |\n",
       "| srp.t5 |  0.2175097 |\n",
       "\n"
      ],
      "text/plain": [
       "       [,1]      \n",
       "srp.t1 -0.7491324\n",
       "srp.t2  2.0307983\n",
       "srp.t3  0.5350933\n",
       "srp.t4 -2.3422912\n",
       "srp.t5  0.2175097"
      ]
     },
     "metadata": {},
     "output_type": "display_data"
    }
   ],
   "source": [
    "# in R, %*% performs a dot product\n",
    "L.hat <- s.pooled.inv %*% (sample.mean.scrapie - sample.mean.cjd)\n",
    "L.hat"
   ]
  },
  {
   "cell_type": "markdown",
   "metadata": {},
   "source": [
    "### Our estimate for $\\alpha$, the squared Mahalanobis distance, is given by:\n",
    "\n",
    "> $\\alpha = (\\mu_{1} - \\mu_{2})^{T}\\Sigma^{-1}(\\mu_{1} - \\mu_{2})$\n",
    "\n",
    "> $\\alpha = (\\mu_{1} - \\mu_{2})^{T}\\mathbf{L} = \\mathbf{L}^{T}(\\mu_{1} - \\mu_{2})$ \n",
    "\n",
    "> $\\hat{\\alpha} = (\\bar{\\mathbf{x}}_{1} - \\bar{\\mathbf{x}}_{2})^{T}\\mathbf{S}_{U}^{-1}(\\bar{\\mathbf{x}}_{1} - \\bar{\\mathbf{x}}_{2})$\n",
    "\n",
    "> $\\hat{\\alpha} = (\\bar{\\mathbf{x}}_{1} - \\bar{\\mathbf{x}}_{2})^{T}\\mathbf{\\hat{L}} = \\mathbf{\\hat{L}}^{T}(\\bar{\\mathbf{x}}_{1} - \\bar{\\mathbf{x}}_{2})$"
   ]
  },
  {
   "cell_type": "code",
   "execution_count": 69,
   "metadata": {},
   "outputs": [
    {
     "data": {
      "text/html": [
       "15.1835214211121"
      ],
      "text/latex": [
       "15.1835214211121"
      ],
      "text/markdown": [
       "15.1835214211121"
      ],
      "text/plain": [
       "[1] 15.18352"
      ]
     },
     "metadata": {},
     "output_type": "display_data"
    }
   ],
   "source": [
    "alpha.hat <- t(sample.mean.scrapie - sample.mean.cjd) %*% s.pooled.inv %*% (sample.mean.scrapie - sample.mean.cjd)\n",
    "\n",
    "alpha.hat <- alpha.hat[1,1]\n",
    "\n",
    "alpha.hat"
   ]
  },
  {
   "cell_type": "markdown",
   "metadata": {},
   "source": [
    "### Probability that misclassified\n",
    "\n",
    "> Total Probability that disease is misclassified $= \\Phi \\left ( - \\dfrac{\\sqrt{\\hat{\\alpha}}}{2} \\right )$"
   ]
  },
  {
   "cell_type": "code",
   "execution_count": 72,
   "metadata": {},
   "outputs": [
    {
     "data": {
      "text/html": [
       "0.0256894240288836"
      ],
      "text/latex": [
       "0.0256894240288836"
      ],
      "text/markdown": [
       "0.0256894240288836"
      ],
      "text/plain": [
       "[1] 0.02568942"
      ]
     },
     "metadata": {},
     "output_type": "display_data"
    }
   ],
   "source": [
    "pnorm(-0.5 * sqrt(alpha.hat), lower.tail = TRUE)"
   ]
  }
 ],
 "metadata": {
  "kernelspec": {
   "display_name": "R",
   "language": "R",
   "name": "ir"
  },
  "language_info": {
   "codemirror_mode": "r",
   "file_extension": ".r",
   "mimetype": "text/x-r-source",
   "name": "R",
   "pygments_lexer": "r",
   "version": "3.6.1"
  }
 },
 "nbformat": 4,
 "nbformat_minor": 4
}
