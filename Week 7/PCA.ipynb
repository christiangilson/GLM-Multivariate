{
 "cells": [
  {
   "cell_type": "markdown",
   "metadata": {},
   "source": [
    "# PCA"
   ]
  },
  {
   "cell_type": "code",
   "execution_count": 91,
   "metadata": {},
   "outputs": [],
   "source": [
    "groceries <- c(227.01, 241.42, 188.08, 238.23, 235.86)\n",
    "leisure <- c(96.98, 140.44, 85.13, 158.22, 103.06)\n",
    "income <- c(741.29, 854.07, 812.07, 813.69, 731.42)\n",
    "spend <- data.frame(groceries, leisure, income)"
   ]
  },
  {
   "cell_type": "code",
   "execution_count": 3,
   "metadata": {},
   "outputs": [
    {
     "data": {
      "text/html": [
       "<table>\n",
       "<thead><tr><th scope=col>groceries</th><th scope=col>leisure</th><th scope=col>income</th></tr></thead>\n",
       "<tbody>\n",
       "\t<tr><td>227.01</td><td> 96.98</td><td>741.29</td></tr>\n",
       "\t<tr><td>241.42</td><td>140.44</td><td>854.07</td></tr>\n",
       "\t<tr><td>188.08</td><td> 85.13</td><td>812.07</td></tr>\n",
       "\t<tr><td>238.23</td><td>158.22</td><td>813.69</td></tr>\n",
       "\t<tr><td>235.86</td><td>103.06</td><td>731.42</td></tr>\n",
       "</tbody>\n",
       "</table>\n"
      ],
      "text/latex": [
       "\\begin{tabular}{r|lll}\n",
       " groceries & leisure & income\\\\\n",
       "\\hline\n",
       "\t 227.01 &  96.98 & 741.29\\\\\n",
       "\t 241.42 & 140.44 & 854.07\\\\\n",
       "\t 188.08 &  85.13 & 812.07\\\\\n",
       "\t 238.23 & 158.22 & 813.69\\\\\n",
       "\t 235.86 & 103.06 & 731.42\\\\\n",
       "\\end{tabular}\n"
      ],
      "text/markdown": [
       "\n",
       "| groceries | leisure | income |\n",
       "|---|---|---|\n",
       "| 227.01 |  96.98 | 741.29 |\n",
       "| 241.42 | 140.44 | 854.07 |\n",
       "| 188.08 |  85.13 | 812.07 |\n",
       "| 238.23 | 158.22 | 813.69 |\n",
       "| 235.86 | 103.06 | 731.42 |\n",
       "\n"
      ],
      "text/plain": [
       "  groceries leisure income\n",
       "1 227.01     96.98  741.29\n",
       "2 241.42    140.44  854.07\n",
       "3 188.08     85.13  812.07\n",
       "4 238.23    158.22  813.69\n",
       "5 235.86    103.06  731.42"
      ]
     },
     "metadata": {},
     "output_type": "display_data"
    }
   ],
   "source": [
    "rm(groceries, leisure, income)\n",
    "attach(spend)\n",
    "spend"
   ]
  },
  {
   "cell_type": "code",
   "execution_count": 92,
   "metadata": {},
   "outputs": [
    {
     "data": {
      "text/html": [
       "<table>\n",
       "<thead><tr><th></th><th scope=col>groceries</th><th scope=col>leisure</th><th scope=col>income</th></tr></thead>\n",
       "<tbody>\n",
       "\t<tr><th scope=row>groceries</th><td>480.86085 </td><td>479.1369  </td><td> -46.57675</td></tr>\n",
       "\t<tr><th scope=row>leisure</th><td>479.13690 </td><td>964.7673  </td><td> 891.82637</td></tr>\n",
       "\t<tr><th scope=row>income</th><td>-46.57675 </td><td>891.8264  </td><td>2739.06402</td></tr>\n",
       "</tbody>\n",
       "</table>\n"
      ],
      "text/latex": [
       "\\begin{tabular}{r|lll}\n",
       "  & groceries & leisure & income\\\\\n",
       "\\hline\n",
       "\tgroceries & 480.86085  & 479.1369   &  -46.57675\\\\\n",
       "\tleisure & 479.13690  & 964.7673   &  891.82637\\\\\n",
       "\tincome & -46.57675  & 891.8264   & 2739.06402\\\\\n",
       "\\end{tabular}\n"
      ],
      "text/markdown": [
       "\n",
       "| <!--/--> | groceries | leisure | income |\n",
       "|---|---|---|---|\n",
       "| groceries | 480.86085  | 479.1369   |  -46.57675 |\n",
       "| leisure | 479.13690  | 964.7673   |  891.82637 |\n",
       "| income | -46.57675  | 891.8264   | 2739.06402 |\n",
       "\n"
      ],
      "text/plain": [
       "          groceries leisure  income    \n",
       "groceries 480.86085 479.1369  -46.57675\n",
       "leisure   479.13690 964.7673  891.82637\n",
       "income    -46.57675 891.8264 2739.06402"
      ]
     },
     "metadata": {},
     "output_type": "display_data"
    }
   ],
   "source": [
    "spend.var <- var(spend)\n",
    "\n",
    "# covariance matrix for spend\n",
    "spend.var"
   ]
  },
  {
   "cell_type": "code",
   "execution_count": 93,
   "metadata": {},
   "outputs": [
    {
     "data": {
      "text/html": [
       "<table>\n",
       "<thead><tr><th></th><th scope=col>groceries</th><th scope=col>leisure</th><th scope=col>income</th></tr></thead>\n",
       "<tbody>\n",
       "\t<tr><th scope=row>groceries</th><td> 1.00000000</td><td>0.7034587  </td><td>-0.04058433</td></tr>\n",
       "\t<tr><th scope=row>leisure</th><td> 0.70345873</td><td>1.0000000  </td><td> 0.54861532</td></tr>\n",
       "\t<tr><th scope=row>income</th><td>-0.04058433</td><td>0.5486153  </td><td> 1.00000000</td></tr>\n",
       "</tbody>\n",
       "</table>\n"
      ],
      "text/latex": [
       "\\begin{tabular}{r|lll}\n",
       "  & groceries & leisure & income\\\\\n",
       "\\hline\n",
       "\tgroceries &  1.00000000 & 0.7034587   & -0.04058433\\\\\n",
       "\tleisure &  0.70345873 & 1.0000000   &  0.54861532\\\\\n",
       "\tincome & -0.04058433 & 0.5486153   &  1.00000000\\\\\n",
       "\\end{tabular}\n"
      ],
      "text/markdown": [
       "\n",
       "| <!--/--> | groceries | leisure | income |\n",
       "|---|---|---|---|\n",
       "| groceries |  1.00000000 | 0.7034587   | -0.04058433 |\n",
       "| leisure |  0.70345873 | 1.0000000   |  0.54861532 |\n",
       "| income | -0.04058433 | 0.5486153   |  1.00000000 |\n",
       "\n"
      ],
      "text/plain": [
       "          groceries   leisure   income     \n",
       "groceries  1.00000000 0.7034587 -0.04058433\n",
       "leisure    0.70345873 1.0000000  0.54861532\n",
       "income    -0.04058433 0.5486153  1.00000000"
      ]
     },
     "metadata": {},
     "output_type": "display_data"
    }
   ],
   "source": [
    "spend.cor <- cor(spend)\n",
    "\n",
    "# correlation matrix for spend\n",
    "spend.cor"
   ]
  },
  {
   "cell_type": "markdown",
   "metadata": {},
   "source": [
    "## Eigen analysis for spend"
   ]
  },
  {
   "cell_type": "code",
   "execution_count": 94,
   "metadata": {},
   "outputs": [
    {
     "data": {
      "text/plain": [
       "eigen() decomposition\n",
       "$values\n",
       "[1] 3117.62546  997.08606   69.98063\n",
       "\n",
       "$vectors\n",
       "           [,1]       [,2]       [,3]\n",
       "[1,] 0.05511988 -0.6581783  0.7508416\n",
       "[2,] 0.39257810 -0.6771368 -0.6223891\n",
       "[3,] 0.91806549  0.3290700  0.2210627\n"
      ]
     },
     "metadata": {},
     "output_type": "display_data"
    }
   ],
   "source": [
    "eig.var <- eigen(spend.var)\n",
    "\n",
    "eig.var"
   ]
  },
  {
   "cell_type": "code",
   "execution_count": 95,
   "metadata": {},
   "outputs": [
    {
     "data": {
      "text/html": [
       "<ol class=list-inline>\n",
       "\t<li>1</li>\n",
       "\t<li>0.999999999999999</li>\n",
       "\t<li>1</li>\n",
       "</ol>\n"
      ],
      "text/latex": [
       "\\begin{enumerate*}\n",
       "\\item 1\n",
       "\\item 0.999999999999999\n",
       "\\item 1\n",
       "\\end{enumerate*}\n"
      ],
      "text/markdown": [
       "1. 1\n",
       "2. 0.999999999999999\n",
       "3. 1\n",
       "\n",
       "\n"
      ],
      "text/plain": [
       "[1] 1 1 1"
      ]
     },
     "metadata": {},
     "output_type": "display_data"
    }
   ],
   "source": [
    "# summing the squares of the eigenvectors\n",
    "apply(eig.var$vectors**2, 1, sum)"
   ]
  },
  {
   "cell_type": "code",
   "execution_count": 96,
   "metadata": {},
   "outputs": [
    {
     "data": {
      "text/html": [
       "<ol class=list-inline>\n",
       "\t<li>74.5007123699022</li>\n",
       "\t<li>23.8269871421603</li>\n",
       "\t<li>1.67230048793745</li>\n",
       "</ol>\n"
      ],
      "text/latex": [
       "\\begin{enumerate*}\n",
       "\\item 74.5007123699022\n",
       "\\item 23.8269871421603\n",
       "\\item 1.67230048793745\n",
       "\\end{enumerate*}\n"
      ],
      "text/markdown": [
       "1. 74.5007123699022\n",
       "2. 23.8269871421603\n",
       "3. 1.67230048793745\n",
       "\n",
       "\n"
      ],
      "text/plain": [
       "[1] 74.50071 23.82699  1.67230"
      ]
     },
     "metadata": {},
     "output_type": "display_data"
    }
   ],
   "source": [
    "# percentages of variance accounted for by the three\n",
    "# principal components\n",
    "100*eig.var$values / sum(eig.var$values)"
   ]
  },
  {
   "cell_type": "code",
   "execution_count": 97,
   "metadata": {},
   "outputs": [
    {
     "data": {
      "text/plain": [
       "eigen() decomposition\n",
       "$values\n",
       "[1] 1.87268832 1.03935677 0.08795491\n",
       "\n",
       "$vectors\n",
       "           [,1]        [,2]       [,3]\n",
       "[1,] -0.5565053 -0.61454914  0.5591344\n",
       "[2,] -0.7148146  0.01112539 -0.6992255\n",
       "[3,] -0.4234878  0.78880009  0.4454801\n"
      ]
     },
     "metadata": {},
     "output_type": "display_data"
    }
   ],
   "source": [
    "eig.cor <- eigen(spend.cor)\n",
    "\n",
    "eig.cor"
   ]
  },
  {
   "cell_type": "code",
   "execution_count": 98,
   "metadata": {},
   "outputs": [
    {
     "data": {
      "text/html": [
       "<ol class=list-inline>\n",
       "\t<li>1</li>\n",
       "\t<li>1</li>\n",
       "\t<li>1</li>\n",
       "</ol>\n"
      ],
      "text/latex": [
       "\\begin{enumerate*}\n",
       "\\item 1\n",
       "\\item 1\n",
       "\\item 1\n",
       "\\end{enumerate*}\n"
      ],
      "text/markdown": [
       "1. 1\n",
       "2. 1\n",
       "3. 1\n",
       "\n",
       "\n"
      ],
      "text/plain": [
       "[1] 1 1 1"
      ]
     },
     "metadata": {},
     "output_type": "display_data"
    }
   ],
   "source": [
    "apply(eig.cor$vectors**2, 1, sum)"
   ]
  },
  {
   "cell_type": "code",
   "execution_count": 99,
   "metadata": {},
   "outputs": [
    {
     "data": {
      "text/html": [
       "<ol class=list-inline>\n",
       "\t<li>62.4229439103603</li>\n",
       "\t<li>34.6452257094381</li>\n",
       "\t<li>2.93183038020163</li>\n",
       "</ol>\n"
      ],
      "text/latex": [
       "\\begin{enumerate*}\n",
       "\\item 62.4229439103603\n",
       "\\item 34.6452257094381\n",
       "\\item 2.93183038020163\n",
       "\\end{enumerate*}\n"
      ],
      "text/markdown": [
       "1. 62.4229439103603\n",
       "2. 34.6452257094381\n",
       "3. 2.93183038020163\n",
       "\n",
       "\n"
      ],
      "text/plain": [
       "[1] 62.42294 34.64523  2.93183"
      ]
     },
     "metadata": {},
     "output_type": "display_data"
    }
   ],
   "source": [
    "100*eig.cor$values / sum(eig.cor$values)"
   ]
  },
  {
   "cell_type": "markdown",
   "metadata": {},
   "source": [
    "**Note, the reason the correlation matrix appears as it does is because the underlying X vector has been standardised by dividing through by the standard error/deviation.**\n",
    "\n",
    "This means that you get the R (sample correlation) matrix rather than the S (sample covariance) matrix"
   ]
  },
  {
   "cell_type": "code",
   "execution_count": null,
   "metadata": {},
   "outputs": [],
   "source": []
  },
  {
   "cell_type": "markdown",
   "metadata": {},
   "source": [
    "## Trying to produced standardised data"
   ]
  },
  {
   "cell_type": "code",
   "execution_count": 100,
   "metadata": {},
   "outputs": [
    {
     "data": {
      "text/html": [
       "<table>\n",
       "<thead><tr><th scope=col>groceries</th><th scope=col>leisure</th><th scope=col>income</th></tr></thead>\n",
       "<tbody>\n",
       "\t<tr><td>227.01</td><td> 96.98</td><td>741.29</td></tr>\n",
       "\t<tr><td>241.42</td><td>140.44</td><td>854.07</td></tr>\n",
       "\t<tr><td>188.08</td><td> 85.13</td><td>812.07</td></tr>\n",
       "\t<tr><td>238.23</td><td>158.22</td><td>813.69</td></tr>\n",
       "\t<tr><td>235.86</td><td>103.06</td><td>731.42</td></tr>\n",
       "</tbody>\n",
       "</table>\n"
      ],
      "text/latex": [
       "\\begin{tabular}{r|lll}\n",
       " groceries & leisure & income\\\\\n",
       "\\hline\n",
       "\t 227.01 &  96.98 & 741.29\\\\\n",
       "\t 241.42 & 140.44 & 854.07\\\\\n",
       "\t 188.08 &  85.13 & 812.07\\\\\n",
       "\t 238.23 & 158.22 & 813.69\\\\\n",
       "\t 235.86 & 103.06 & 731.42\\\\\n",
       "\\end{tabular}\n"
      ],
      "text/markdown": [
       "\n",
       "| groceries | leisure | income |\n",
       "|---|---|---|\n",
       "| 227.01 |  96.98 | 741.29 |\n",
       "| 241.42 | 140.44 | 854.07 |\n",
       "| 188.08 |  85.13 | 812.07 |\n",
       "| 238.23 | 158.22 | 813.69 |\n",
       "| 235.86 | 103.06 | 731.42 |\n",
       "\n"
      ],
      "text/plain": [
       "  groceries leisure income\n",
       "1 227.01     96.98  741.29\n",
       "2 241.42    140.44  854.07\n",
       "3 188.08     85.13  812.07\n",
       "4 238.23    158.22  813.69\n",
       "5 235.86    103.06  731.42"
      ]
     },
     "metadata": {},
     "output_type": "display_data"
    }
   ],
   "source": [
    "spend"
   ]
  },
  {
   "cell_type": "code",
   "execution_count": 101,
   "metadata": {},
   "outputs": [
    {
     "data": {
      "text/html": [
       "<dl class=dl-horizontal>\n",
       "\t<dt>groceries</dt>\n",
       "\t\t<dd>226.12</dd>\n",
       "\t<dt>leisure</dt>\n",
       "\t\t<dd>116.766</dd>\n",
       "\t<dt>income</dt>\n",
       "\t\t<dd>790.508</dd>\n",
       "</dl>\n"
      ],
      "text/latex": [
       "\\begin{description*}\n",
       "\\item[groceries] 226.12\n",
       "\\item[leisure] 116.766\n",
       "\\item[income] 790.508\n",
       "\\end{description*}\n"
      ],
      "text/markdown": [
       "groceries\n",
       ":   226.12leisure\n",
       ":   116.766income\n",
       ":   790.508\n",
       "\n"
      ],
      "text/plain": [
       "groceries   leisure    income \n",
       "  226.120   116.766   790.508 "
      ]
     },
     "metadata": {},
     "output_type": "display_data"
    }
   ],
   "source": [
    "m.spend <- apply(spend, 2, mean)\n",
    "m.spend"
   ]
  },
  {
   "cell_type": "code",
   "execution_count": 102,
   "metadata": {},
   "outputs": [],
   "source": [
    "var.spend <- apply(spend, 2, var)\n",
    "\n",
    "gro.var <- as.numeric(var.spend[1])\n",
    "lei.var <- as.numeric(var.spend[2])\n",
    "inc.var <- as.numeric(var.spend[3])"
   ]
  },
  {
   "cell_type": "markdown",
   "metadata": {},
   "source": [
    "## Incredibly ugly method!"
   ]
  },
  {
   "cell_type": "code",
   "execution_count": 103,
   "metadata": {},
   "outputs": [],
   "source": [
    "spend['groceries'] <- spend['groceries'] / sqrt(gro.var)"
   ]
  },
  {
   "cell_type": "code",
   "execution_count": 104,
   "metadata": {},
   "outputs": [],
   "source": [
    "spend['leisure'] <- spend['leisure'] / sqrt(lei.var)"
   ]
  },
  {
   "cell_type": "code",
   "execution_count": 105,
   "metadata": {},
   "outputs": [],
   "source": [
    "spend['income'] <- spend['income'] / sqrt(inc.var)"
   ]
  },
  {
   "cell_type": "code",
   "execution_count": 106,
   "metadata": {},
   "outputs": [
    {
     "data": {
      "text/html": [
       "<table>\n",
       "<thead><tr><th scope=col>groceries</th><th scope=col>leisure</th><th scope=col>income</th></tr></thead>\n",
       "<tbody>\n",
       "\t<tr><td>10.352263</td><td>3.122273 </td><td>14.16404 </td></tr>\n",
       "\t<tr><td>11.009397</td><td>4.521469 </td><td>16.31896 </td></tr>\n",
       "\t<tr><td> 8.576951</td><td>2.740762 </td><td>15.51645 </td></tr>\n",
       "\t<tr><td>10.863925</td><td>5.093896 </td><td>15.54740 </td></tr>\n",
       "\t<tr><td>10.755846</td><td>3.318019 </td><td>13.97545 </td></tr>\n",
       "</tbody>\n",
       "</table>\n"
      ],
      "text/latex": [
       "\\begin{tabular}{r|lll}\n",
       " groceries & leisure & income\\\\\n",
       "\\hline\n",
       "\t 10.352263 & 3.122273  & 14.16404 \\\\\n",
       "\t 11.009397 & 4.521469  & 16.31896 \\\\\n",
       "\t  8.576951 & 2.740762  & 15.51645 \\\\\n",
       "\t 10.863925 & 5.093896  & 15.54740 \\\\\n",
       "\t 10.755846 & 3.318019  & 13.97545 \\\\\n",
       "\\end{tabular}\n"
      ],
      "text/markdown": [
       "\n",
       "| groceries | leisure | income |\n",
       "|---|---|---|\n",
       "| 10.352263 | 3.122273  | 14.16404  |\n",
       "| 11.009397 | 4.521469  | 16.31896  |\n",
       "|  8.576951 | 2.740762  | 15.51645  |\n",
       "| 10.863925 | 5.093896  | 15.54740  |\n",
       "| 10.755846 | 3.318019  | 13.97545  |\n",
       "\n"
      ],
      "text/plain": [
       "  groceries leisure  income  \n",
       "1 10.352263 3.122273 14.16404\n",
       "2 11.009397 4.521469 16.31896\n",
       "3  8.576951 2.740762 15.51645\n",
       "4 10.863925 5.093896 15.54740\n",
       "5 10.755846 3.318019 13.97545"
      ]
     },
     "metadata": {},
     "output_type": "display_data"
    }
   ],
   "source": [
    "spend"
   ]
  },
  {
   "cell_type": "code",
   "execution_count": 107,
   "metadata": {},
   "outputs": [
    {
     "data": {
      "text/html": [
       "<table>\n",
       "<thead><tr><th></th><th scope=col>groceries</th><th scope=col>leisure</th><th scope=col>income</th></tr></thead>\n",
       "<tbody>\n",
       "\t<tr><th scope=row>groceries</th><td> 1.00000000</td><td>0.7034587  </td><td>-0.04058433</td></tr>\n",
       "\t<tr><th scope=row>leisure</th><td> 0.70345873</td><td>1.0000000  </td><td> 0.54861532</td></tr>\n",
       "\t<tr><th scope=row>income</th><td>-0.04058433</td><td>0.5486153  </td><td> 1.00000000</td></tr>\n",
       "</tbody>\n",
       "</table>\n"
      ],
      "text/latex": [
       "\\begin{tabular}{r|lll}\n",
       "  & groceries & leisure & income\\\\\n",
       "\\hline\n",
       "\tgroceries &  1.00000000 & 0.7034587   & -0.04058433\\\\\n",
       "\tleisure &  0.70345873 & 1.0000000   &  0.54861532\\\\\n",
       "\tincome & -0.04058433 & 0.5486153   &  1.00000000\\\\\n",
       "\\end{tabular}\n"
      ],
      "text/markdown": [
       "\n",
       "| <!--/--> | groceries | leisure | income |\n",
       "|---|---|---|---|\n",
       "| groceries |  1.00000000 | 0.7034587   | -0.04058433 |\n",
       "| leisure |  0.70345873 | 1.0000000   |  0.54861532 |\n",
       "| income | -0.04058433 | 0.5486153   |  1.00000000 |\n",
       "\n"
      ],
      "text/plain": [
       "          groceries   leisure   income     \n",
       "groceries  1.00000000 0.7034587 -0.04058433\n",
       "leisure    0.70345873 1.0000000  0.54861532\n",
       "income    -0.04058433 0.5486153  1.00000000"
      ]
     },
     "metadata": {},
     "output_type": "display_data"
    }
   ],
   "source": [
    "var(spend)"
   ]
  },
  {
   "cell_type": "code",
   "execution_count": 108,
   "metadata": {},
   "outputs": [
    {
     "data": {
      "text/html": [
       "<table>\n",
       "<thead><tr><th></th><th scope=col>groceries</th><th scope=col>leisure</th><th scope=col>income</th></tr></thead>\n",
       "<tbody>\n",
       "\t<tr><th scope=row>groceries</th><td> 1.00000000</td><td>0.7034587  </td><td>-0.04058433</td></tr>\n",
       "\t<tr><th scope=row>leisure</th><td> 0.70345873</td><td>1.0000000  </td><td> 0.54861532</td></tr>\n",
       "\t<tr><th scope=row>income</th><td>-0.04058433</td><td>0.5486153  </td><td> 1.00000000</td></tr>\n",
       "</tbody>\n",
       "</table>\n"
      ],
      "text/latex": [
       "\\begin{tabular}{r|lll}\n",
       "  & groceries & leisure & income\\\\\n",
       "\\hline\n",
       "\tgroceries &  1.00000000 & 0.7034587   & -0.04058433\\\\\n",
       "\tleisure &  0.70345873 & 1.0000000   &  0.54861532\\\\\n",
       "\tincome & -0.04058433 & 0.5486153   &  1.00000000\\\\\n",
       "\\end{tabular}\n"
      ],
      "text/markdown": [
       "\n",
       "| <!--/--> | groceries | leisure | income |\n",
       "|---|---|---|---|\n",
       "| groceries |  1.00000000 | 0.7034587   | -0.04058433 |\n",
       "| leisure |  0.70345873 | 1.0000000   |  0.54861532 |\n",
       "| income | -0.04058433 | 0.5486153   |  1.00000000 |\n",
       "\n"
      ],
      "text/plain": [
       "          groceries   leisure   income     \n",
       "groceries  1.00000000 0.7034587 -0.04058433\n",
       "leisure    0.70345873 1.0000000  0.54861532\n",
       "income    -0.04058433 0.5486153  1.00000000"
      ]
     },
     "metadata": {},
     "output_type": "display_data"
    }
   ],
   "source": [
    "spend.cor"
   ]
  },
  {
   "cell_type": "code",
   "execution_count": 110,
   "metadata": {},
   "outputs": [
    {
     "data": {
      "text/plain": [
       "eigen() decomposition\n",
       "$values\n",
       "[1] 1.87268832 1.03935677 0.08795491\n",
       "\n",
       "$vectors\n",
       "           [,1]        [,2]       [,3]\n",
       "[1,] -0.5565053 -0.61454914  0.5591344\n",
       "[2,] -0.7148146  0.01112539 -0.6992255\n",
       "[3,] -0.4234878  0.78880009  0.4454801\n"
      ]
     },
     "metadata": {},
     "output_type": "display_data"
    }
   ],
   "source": [
    "eigen(var(spend))"
   ]
  },
  {
   "cell_type": "code",
   "execution_count": null,
   "metadata": {},
   "outputs": [],
   "source": []
  },
  {
   "cell_type": "code",
   "execution_count": null,
   "metadata": {},
   "outputs": [],
   "source": []
  },
  {
   "cell_type": "code",
   "execution_count": null,
   "metadata": {},
   "outputs": [],
   "source": []
  },
  {
   "cell_type": "code",
   "execution_count": null,
   "metadata": {},
   "outputs": [],
   "source": []
  },
  {
   "cell_type": "code",
   "execution_count": null,
   "metadata": {},
   "outputs": [],
   "source": []
  },
  {
   "cell_type": "markdown",
   "metadata": {},
   "source": [
    "**Can also get the output from the `princomp` command, but this uses the biased estimate of the sample covariance, rather than the unbiased estimate**\n",
    "\n",
    "> Need to adjust by multplying by $\\dfrac{n}{n-1}$."
   ]
  },
  {
   "cell_type": "code",
   "execution_count": 112,
   "metadata": {},
   "outputs": [
    {
     "data": {
      "text/plain": [
       "Importance of components:\n",
       "                          Comp.1    Comp.2    Comp.3\n",
       "Standard deviation     1.2239896 0.9118582 0.2652620\n",
       "Proportion of Variance 0.6242294 0.3464523 0.0293183\n",
       "Cumulative Proportion  0.6242294 0.9706817 1.0000000"
      ]
     },
     "metadata": {},
     "output_type": "display_data"
    }
   ],
   "source": [
    "summary(princomp(spend))"
   ]
  },
  {
   "cell_type": "code",
   "execution_count": 113,
   "metadata": {},
   "outputs": [
    {
     "data": {
      "text/plain": [
       "\n",
       "Loadings:\n",
       "          Comp.1 Comp.2 Comp.3\n",
       "groceries  0.557  0.615  0.559\n",
       "leisure    0.715        -0.699\n",
       "income     0.423 -0.789  0.445\n",
       "\n",
       "               Comp.1 Comp.2 Comp.3\n",
       "SS loadings     1.000  1.000  1.000\n",
       "Proportion Var  0.333  0.333  0.333\n",
       "Cumulative Var  0.333  0.667  1.000"
      ]
     },
     "metadata": {},
     "output_type": "display_data"
    }
   ],
   "source": [
    "loadings(princomp(spend))"
   ]
  },
  {
   "cell_type": "markdown",
   "metadata": {},
   "source": [
    "---\n",
    "\n",
    "&nbsp;\n",
    "\n",
    "&nbsp;\n",
    "\n",
    "## PCA Ex Q4 PS1"
   ]
  },
  {
   "cell_type": "code",
   "execution_count": 114,
   "metadata": {},
   "outputs": [
    {
     "data": {
      "text/html": [
       "<table>\n",
       "<thead><tr><th scope=col>ass.1</th><th scope=col>ass.2</th><th scope=col>ass.3</th></tr></thead>\n",
       "<tbody>\n",
       "\t<tr><td> 8</td><td>14</td><td> 7</td></tr>\n",
       "\t<tr><td>12</td><td>13</td><td>13</td></tr>\n",
       "\t<tr><td>14</td><td>11</td><td> 8</td></tr>\n",
       "\t<tr><td>12</td><td>13</td><td>10</td></tr>\n",
       "\t<tr><td> 9</td><td>10</td><td>12</td></tr>\n",
       "\t<tr><td>10</td><td>12</td><td>11</td></tr>\n",
       "\t<tr><td>11</td><td>10</td><td>10</td></tr>\n",
       "\t<tr><td>11</td><td>15</td><td>12</td></tr>\n",
       "\t<tr><td>12</td><td>13</td><td>10</td></tr>\n",
       "\t<tr><td>14</td><td>10</td><td> 9</td></tr>\n",
       "</tbody>\n",
       "</table>\n"
      ],
      "text/latex": [
       "\\begin{tabular}{r|lll}\n",
       " ass.1 & ass.2 & ass.3\\\\\n",
       "\\hline\n",
       "\t  8 & 14 &  7\\\\\n",
       "\t 12 & 13 & 13\\\\\n",
       "\t 14 & 11 &  8\\\\\n",
       "\t 12 & 13 & 10\\\\\n",
       "\t  9 & 10 & 12\\\\\n",
       "\t 10 & 12 & 11\\\\\n",
       "\t 11 & 10 & 10\\\\\n",
       "\t 11 & 15 & 12\\\\\n",
       "\t 12 & 13 & 10\\\\\n",
       "\t 14 & 10 &  9\\\\\n",
       "\\end{tabular}\n"
      ],
      "text/markdown": [
       "\n",
       "| ass.1 | ass.2 | ass.3 |\n",
       "|---|---|---|\n",
       "|  8 | 14 |  7 |\n",
       "| 12 | 13 | 13 |\n",
       "| 14 | 11 |  8 |\n",
       "| 12 | 13 | 10 |\n",
       "|  9 | 10 | 12 |\n",
       "| 10 | 12 | 11 |\n",
       "| 11 | 10 | 10 |\n",
       "| 11 | 15 | 12 |\n",
       "| 12 | 13 | 10 |\n",
       "| 14 | 10 |  9 |\n",
       "\n"
      ],
      "text/plain": [
       "   ass.1 ass.2 ass.3\n",
       "1   8    14     7   \n",
       "2  12    13    13   \n",
       "3  14    11     8   \n",
       "4  12    13    10   \n",
       "5   9    10    12   \n",
       "6  10    12    11   \n",
       "7  11    10    10   \n",
       "8  11    15    12   \n",
       "9  12    13    10   \n",
       "10 14    10     9   "
      ]
     },
     "metadata": {},
     "output_type": "display_data"
    }
   ],
   "source": [
    "ass.1 <- c(8,12,14,12,9,10,11,11,12,14)\n",
    "ass.2 <- c(14,13,11,13,10,12,10,15,13,10)\n",
    "ass.3 <- c(7,13,8,10,12,11,10,12,10,9)\n",
    "\n",
    "scores <- data.frame(ass.1, ass.2, ass.3)\n",
    "\n",
    "scores"
   ]
  },
  {
   "cell_type": "code",
   "execution_count": 115,
   "metadata": {},
   "outputs": [
    {
     "data": {
      "text/html": [
       "<table>\n",
       "<thead><tr><th></th><th scope=col>ass.1</th><th scope=col>ass.2</th><th scope=col>ass.3</th></tr></thead>\n",
       "<tbody>\n",
       "\t<tr><th scope=row>ass.1</th><td> 3.7888889</td><td>-0.9222222</td><td>-0.2888889</td></tr>\n",
       "\t<tr><th scope=row>ass.2</th><td>-0.9222222</td><td> 3.2111111</td><td> 0.3111111</td></tr>\n",
       "\t<tr><th scope=row>ass.3</th><td>-0.2888889</td><td> 0.3111111</td><td> 3.5111111</td></tr>\n",
       "</tbody>\n",
       "</table>\n"
      ],
      "text/latex": [
       "\\begin{tabular}{r|lll}\n",
       "  & ass.1 & ass.2 & ass.3\\\\\n",
       "\\hline\n",
       "\tass.1 &  3.7888889 & -0.9222222 & -0.2888889\\\\\n",
       "\tass.2 & -0.9222222 &  3.2111111 &  0.3111111\\\\\n",
       "\tass.3 & -0.2888889 &  0.3111111 &  3.5111111\\\\\n",
       "\\end{tabular}\n"
      ],
      "text/markdown": [
       "\n",
       "| <!--/--> | ass.1 | ass.2 | ass.3 |\n",
       "|---|---|---|---|\n",
       "| ass.1 |  3.7888889 | -0.9222222 | -0.2888889 |\n",
       "| ass.2 | -0.9222222 |  3.2111111 |  0.3111111 |\n",
       "| ass.3 | -0.2888889 |  0.3111111 |  3.5111111 |\n",
       "\n"
      ],
      "text/plain": [
       "      ass.1      ass.2      ass.3     \n",
       "ass.1  3.7888889 -0.9222222 -0.2888889\n",
       "ass.2 -0.9222222  3.2111111  0.3111111\n",
       "ass.3 -0.2888889  0.3111111  3.5111111"
      ]
     },
     "metadata": {},
     "output_type": "display_data"
    }
   ],
   "source": [
    "scores.cov <- var(scores)\n",
    "\n",
    "scores.cov"
   ]
  },
  {
   "cell_type": "code",
   "execution_count": 116,
   "metadata": {},
   "outputs": [
    {
     "data": {
      "text/html": [
       "<table>\n",
       "<thead><tr><th></th><th scope=col>ass.1</th><th scope=col>ass.2</th><th scope=col>ass.3</th></tr></thead>\n",
       "<tbody>\n",
       "\t<tr><th scope=row>ass.1</th><td> 1.0000000</td><td>-0.2643942</td><td>-0.0792050</td></tr>\n",
       "\t<tr><th scope=row>ass.2</th><td>-0.2643942</td><td> 1.0000000</td><td> 0.0926543</td></tr>\n",
       "\t<tr><th scope=row>ass.3</th><td>-0.0792050</td><td> 0.0926543</td><td> 1.0000000</td></tr>\n",
       "</tbody>\n",
       "</table>\n"
      ],
      "text/latex": [
       "\\begin{tabular}{r|lll}\n",
       "  & ass.1 & ass.2 & ass.3\\\\\n",
       "\\hline\n",
       "\tass.1 &  1.0000000 & -0.2643942 & -0.0792050\\\\\n",
       "\tass.2 & -0.2643942 &  1.0000000 &  0.0926543\\\\\n",
       "\tass.3 & -0.0792050 &  0.0926543 &  1.0000000\\\\\n",
       "\\end{tabular}\n"
      ],
      "text/markdown": [
       "\n",
       "| <!--/--> | ass.1 | ass.2 | ass.3 |\n",
       "|---|---|---|---|\n",
       "| ass.1 |  1.0000000 | -0.2643942 | -0.0792050 |\n",
       "| ass.2 | -0.2643942 |  1.0000000 |  0.0926543 |\n",
       "| ass.3 | -0.0792050 |  0.0926543 |  1.0000000 |\n",
       "\n"
      ],
      "text/plain": [
       "      ass.1      ass.2      ass.3     \n",
       "ass.1  1.0000000 -0.2643942 -0.0792050\n",
       "ass.2 -0.2643942  1.0000000  0.0926543\n",
       "ass.3 -0.0792050  0.0926543  1.0000000"
      ]
     },
     "metadata": {},
     "output_type": "display_data"
    }
   ],
   "source": [
    "scores.cor <- cor(scores)\n",
    "\n",
    "scores.cor"
   ]
  },
  {
   "cell_type": "markdown",
   "metadata": {},
   "source": [
    "* Assignment 1  and 2 negatively correlated\n",
    "* No correlation between 1 and 3\n",
    "* No correlation between 2 and 3.\n",
    "\n",
    "Assignments seem to be testing different skills / parts of chemistry.\n",
    "\n",
    "---\n",
    "\n",
    "&nbsp;\n",
    "\n",
    "&nbsp;\n",
    "\n",
    "### By hand method to produce correlation matrix"
   ]
  },
  {
   "cell_type": "code",
   "execution_count": 123,
   "metadata": {},
   "outputs": [
    {
     "data": {
      "text/html": [
       "<dl class=dl-horizontal>\n",
       "\t<dt>ass.1</dt>\n",
       "\t\t<dd>0.263929618768328</dd>\n",
       "\t<dt>ass.2</dt>\n",
       "\t\t<dd>0.311418685121107</dd>\n",
       "\t<dt>ass.3</dt>\n",
       "\t\t<dd>0.284810126582278</dd>\n",
       "</dl>\n"
      ],
      "text/latex": [
       "\\begin{description*}\n",
       "\\item[ass.1] 0.263929618768328\n",
       "\\item[ass.2] 0.311418685121107\n",
       "\\item[ass.3] 0.284810126582278\n",
       "\\end{description*}\n"
      ],
      "text/markdown": [
       "ass.1\n",
       ":   0.263929618768328ass.2\n",
       ":   0.311418685121107ass.3\n",
       ":   0.284810126582278\n",
       "\n"
      ],
      "text/plain": [
       "    ass.1     ass.2     ass.3 \n",
       "0.2639296 0.3114187 0.2848101 "
      ]
     },
     "metadata": {},
     "output_type": "display_data"
    }
   ],
   "source": [
    "(1 / apply(scores, 2, var))"
   ]
  },
  {
   "cell_type": "code",
   "execution_count": 161,
   "metadata": {},
   "outputs": [
    {
     "data": {
      "text/html": [
       "<table>\n",
       "<thead><tr><th></th><th scope=col>ass.1</th><th scope=col>ass.2</th><th scope=col>ass.3</th></tr></thead>\n",
       "<tbody>\n",
       "\t<tr><th scope=row>ass.1</th><td> 1.0000000</td><td>-0.2643942</td><td>-0.0792050</td></tr>\n",
       "\t<tr><th scope=row>ass.2</th><td>-0.2643942</td><td> 1.0000000</td><td> 0.0926543</td></tr>\n",
       "\t<tr><th scope=row>ass.3</th><td>-0.0792050</td><td> 0.0926543</td><td> 1.0000000</td></tr>\n",
       "</tbody>\n",
       "</table>\n"
      ],
      "text/latex": [
       "\\begin{tabular}{r|lll}\n",
       "  & ass.1 & ass.2 & ass.3\\\\\n",
       "\\hline\n",
       "\tass.1 &  1.0000000 & -0.2643942 & -0.0792050\\\\\n",
       "\tass.2 & -0.2643942 &  1.0000000 &  0.0926543\\\\\n",
       "\tass.3 & -0.0792050 &  0.0926543 &  1.0000000\\\\\n",
       "\\end{tabular}\n"
      ],
      "text/markdown": [
       "\n",
       "| <!--/--> | ass.1 | ass.2 | ass.3 |\n",
       "|---|---|---|---|\n",
       "| ass.1 |  1.0000000 | -0.2643942 | -0.0792050 |\n",
       "| ass.2 | -0.2643942 |  1.0000000 |  0.0926543 |\n",
       "| ass.3 | -0.0792050 |  0.0926543 |  1.0000000 |\n",
       "\n"
      ],
      "text/plain": [
       "      ass.1      ass.2      ass.3     \n",
       "ass.1  1.0000000 -0.2643942 -0.0792050\n",
       "ass.2 -0.2643942  1.0000000  0.0926543\n",
       "ass.3 -0.0792050  0.0926543  1.0000000"
      ]
     },
     "metadata": {},
     "output_type": "display_data"
    }
   ],
   "source": [
    "scores.hand <- scores\n",
    "scores.hand['ass.1'] <- scores.hand['ass.1'] * sqrt(0.263929618768328)\n",
    "scores.hand['ass.2'] <- scores.hand['ass.2'] * sqrt(0.311418685121107)\n",
    "scores.hand['ass.3'] <- scores.hand['ass.3'] * sqrt(0.284810126582278)\n",
    "\n",
    "var(scores.hand)"
   ]
  },
  {
   "cell_type": "markdown",
   "metadata": {},
   "source": [
    "---\n",
    "\n",
    "&nbsp;\n",
    "\n",
    "&nbsp;"
   ]
  },
  {
   "cell_type": "code",
   "execution_count": 162,
   "metadata": {},
   "outputs": [
    {
     "data": {
      "text/html": [
       "<table>\n",
       "<thead><tr><th></th><th scope=col>ass.1</th><th scope=col>ass.2</th><th scope=col>ass.3</th></tr></thead>\n",
       "<tbody>\n",
       "\t<tr><th scope=row>ass.1</th><td> 3.7888889</td><td>-0.9222222</td><td>-0.2888889</td></tr>\n",
       "\t<tr><th scope=row>ass.2</th><td>-0.9222222</td><td> 3.2111111</td><td> 0.3111111</td></tr>\n",
       "\t<tr><th scope=row>ass.3</th><td>-0.2888889</td><td> 0.3111111</td><td> 3.5111111</td></tr>\n",
       "</tbody>\n",
       "</table>\n"
      ],
      "text/latex": [
       "\\begin{tabular}{r|lll}\n",
       "  & ass.1 & ass.2 & ass.3\\\\\n",
       "\\hline\n",
       "\tass.1 &  3.7888889 & -0.9222222 & -0.2888889\\\\\n",
       "\tass.2 & -0.9222222 &  3.2111111 &  0.3111111\\\\\n",
       "\tass.3 & -0.2888889 &  0.3111111 &  3.5111111\\\\\n",
       "\\end{tabular}\n"
      ],
      "text/markdown": [
       "\n",
       "| <!--/--> | ass.1 | ass.2 | ass.3 |\n",
       "|---|---|---|---|\n",
       "| ass.1 |  3.7888889 | -0.9222222 | -0.2888889 |\n",
       "| ass.2 | -0.9222222 |  3.2111111 |  0.3111111 |\n",
       "| ass.3 | -0.2888889 |  0.3111111 |  3.5111111 |\n",
       "\n"
      ],
      "text/plain": [
       "      ass.1      ass.2      ass.3     \n",
       "ass.1  3.7888889 -0.9222222 -0.2888889\n",
       "ass.2 -0.9222222  3.2111111  0.3111111\n",
       "ass.3 -0.2888889  0.3111111  3.5111111"
      ]
     },
     "metadata": {},
     "output_type": "display_data"
    }
   ],
   "source": [
    "scores.cov"
   ]
  },
  {
   "cell_type": "code",
   "execution_count": 163,
   "metadata": {},
   "outputs": [
    {
     "data": {
      "text/html": [
       "<table>\n",
       "<thead><tr><th></th><th scope=col>ass.1</th><th scope=col>ass.2</th><th scope=col>ass.3</th></tr></thead>\n",
       "<tbody>\n",
       "\t<tr><th scope=row>ass.1</th><td> 1.0000000</td><td>-0.2643942</td><td>-0.0792050</td></tr>\n",
       "\t<tr><th scope=row>ass.2</th><td>-0.2643942</td><td> 1.0000000</td><td> 0.0926543</td></tr>\n",
       "\t<tr><th scope=row>ass.3</th><td>-0.0792050</td><td> 0.0926543</td><td> 1.0000000</td></tr>\n",
       "</tbody>\n",
       "</table>\n"
      ],
      "text/latex": [
       "\\begin{tabular}{r|lll}\n",
       "  & ass.1 & ass.2 & ass.3\\\\\n",
       "\\hline\n",
       "\tass.1 &  1.0000000 & -0.2643942 & -0.0792050\\\\\n",
       "\tass.2 & -0.2643942 &  1.0000000 &  0.0926543\\\\\n",
       "\tass.3 & -0.0792050 &  0.0926543 &  1.0000000\\\\\n",
       "\\end{tabular}\n"
      ],
      "text/markdown": [
       "\n",
       "| <!--/--> | ass.1 | ass.2 | ass.3 |\n",
       "|---|---|---|---|\n",
       "| ass.1 |  1.0000000 | -0.2643942 | -0.0792050 |\n",
       "| ass.2 | -0.2643942 |  1.0000000 |  0.0926543 |\n",
       "| ass.3 | -0.0792050 |  0.0926543 |  1.0000000 |\n",
       "\n"
      ],
      "text/plain": [
       "      ass.1      ass.2      ass.3     \n",
       "ass.1  1.0000000 -0.2643942 -0.0792050\n",
       "ass.2 -0.2643942  1.0000000  0.0926543\n",
       "ass.3 -0.0792050  0.0926543  1.0000000"
      ]
     },
     "metadata": {},
     "output_type": "display_data"
    }
   ],
   "source": [
    "scores.cor"
   ]
  },
  {
   "cell_type": "markdown",
   "metadata": {},
   "source": [
    "---\n",
    "\n",
    "&nbsp;\n",
    "\n",
    "&nbsp;\n",
    "\n",
    "## Finding principal components from S"
   ]
  },
  {
   "cell_type": "code",
   "execution_count": 165,
   "metadata": {},
   "outputs": [
    {
     "data": {
      "text/plain": [
       "eigen() decomposition\n",
       "$values\n",
       "[1] 4.623209 3.361408 2.526494\n",
       "\n",
       "$vectors\n",
       "           [,1]       [,2]        [,3]\n",
       "[1,]  0.7463196  0.3365007 -0.57425985\n",
       "[2,] -0.5649449 -0.1359171 -0.81385737\n",
       "[3,] -0.3519153  0.9318229  0.08866676\n"
      ]
     },
     "metadata": {},
     "output_type": "display_data"
    }
   ],
   "source": [
    "eig.cov <- eigen(scores.cov)\n",
    "\n",
    "eig.cov"
   ]
  },
  {
   "cell_type": "code",
   "execution_count": 168,
   "metadata": {},
   "outputs": [
    {
     "data": {
      "text/html": [
       "<ol class=list-inline>\n",
       "\t<li>43.9840140971667</li>\n",
       "\t<li>31.9795704760026</li>\n",
       "\t<li>24.0364154268307</li>\n",
       "</ol>\n"
      ],
      "text/latex": [
       "\\begin{enumerate*}\n",
       "\\item 43.9840140971667\n",
       "\\item 31.9795704760026\n",
       "\\item 24.0364154268307\n",
       "\\end{enumerate*}\n"
      ],
      "text/markdown": [
       "1. 43.9840140971667\n",
       "2. 31.9795704760026\n",
       "3. 24.0364154268307\n",
       "\n",
       "\n"
      ],
      "text/plain": [
       "[1] 43.98401 31.97957 24.03642"
      ]
     },
     "metadata": {},
     "output_type": "display_data"
    }
   ],
   "source": [
    "# spread of the variance between the three principal components\n",
    "100*eig.cov$values / sum(eig.cov$values)"
   ]
  },
  {
   "cell_type": "markdown",
   "metadata": {},
   "source": [
    "## Principal Components from R"
   ]
  },
  {
   "cell_type": "code",
   "execution_count": 169,
   "metadata": {},
   "outputs": [
    {
     "data": {
      "text/plain": [
       "eigen() decomposition\n",
       "$values\n",
       "[1] 1.3117837 0.9529924 0.7352239\n",
       "\n",
       "$vectors\n",
       "           [,1]       [,2]        [,3]\n",
       "[1,]  0.6545354  0.2856441 -0.69999344\n",
       "[2,] -0.6630159 -0.2280570 -0.71302170\n",
       "[3,] -0.3633088  0.9308047  0.04011519\n"
      ]
     },
     "metadata": {},
     "output_type": "display_data"
    }
   ],
   "source": [
    "eig.cor <- eigen(scores.cor)\n",
    "\n",
    "eig.cor"
   ]
  },
  {
   "cell_type": "code",
   "execution_count": 170,
   "metadata": {},
   "outputs": [
    {
     "data": {
      "text/html": [
       "<ol class=list-inline>\n",
       "\t<li>43.7261220006107</li>\n",
       "\t<li>31.7664132540022</li>\n",
       "\t<li>24.5074647453871</li>\n",
       "</ol>\n"
      ],
      "text/latex": [
       "\\begin{enumerate*}\n",
       "\\item 43.7261220006107\n",
       "\\item 31.7664132540022\n",
       "\\item 24.5074647453871\n",
       "\\end{enumerate*}\n"
      ],
      "text/markdown": [
       "1. 43.7261220006107\n",
       "2. 31.7664132540022\n",
       "3. 24.5074647453871\n",
       "\n",
       "\n"
      ],
      "text/plain": [
       "[1] 43.72612 31.76641 24.50746"
      ]
     },
     "metadata": {},
     "output_type": "display_data"
    }
   ],
   "source": [
    "100*eig.cor$values / sum(eig.cor$values)"
   ]
  },
  {
   "cell_type": "markdown",
   "metadata": {},
   "source": [
    "## Summary comments\n",
    "\n",
    "* Incredibly  similar spreads of variance between covariance and correlation matrix principal components\n",
    "\n",
    "* Quite even amounts of variance spread between the PC's. No need to drop one of them and focus on others.\n",
    "\n",
    "Looking specifically at the covar PC's:\n",
    "\n",
    "1. Shows strong contrast between assignemnt 1 Vs 2 and 3. In\n",
    "2. Mainly assignment 3, with a small contrast between  1 and 2.\n",
    "3. Mainly assignments 1 and 2, with a little more emphasis on 2."
   ]
  },
  {
   "cell_type": "code",
   "execution_count": null,
   "metadata": {},
   "outputs": [],
   "source": []
  }
 ],
 "metadata": {
  "kernelspec": {
   "display_name": "R",
   "language": "R",
   "name": "ir"
  },
  "language_info": {
   "codemirror_mode": "r",
   "file_extension": ".r",
   "mimetype": "text/x-r-source",
   "name": "R",
   "pygments_lexer": "r",
   "version": "3.6.1"
  }
 },
 "nbformat": 4,
 "nbformat_minor": 2
}
