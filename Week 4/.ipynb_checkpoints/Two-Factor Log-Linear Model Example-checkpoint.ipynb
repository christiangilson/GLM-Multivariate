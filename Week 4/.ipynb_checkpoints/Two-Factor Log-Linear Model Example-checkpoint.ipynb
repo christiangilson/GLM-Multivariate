{
 "cells": [
  {
   "cell_type": "markdown",
   "metadata": {},
   "source": [
    "# Lecture 4 Example\n",
    "\n",
    "## Heights\n",
    "\n",
    "### Table 2 (Case 2)\n",
    "\n",
    "**This is a case of two response factors with a fixed total, $n$, of 205.**\n",
    "\n",
    "The probability density function is therefore:\n",
    "\n",
    "> $f(\\mathbf{y} | n) = \\dfrac{f(\\mathbf{y},n)}{f(n)} = \\dfrac{f(\\mathbf{y})}{f(n)}$\n",
    "\n",
    "Which is a multinomial. We can model a multinomial via  a Poisson distribution so long as we provide the fields which make up the fixed totals as part of the model."
   ]
  },
  {
   "cell_type": "code",
   "execution_count": 2,
   "metadata": {},
   "outputs": [],
   "source": [
    "frequency <- c(18,20,12,\n",
    "               28,51,25,\n",
    "               14,28,9)"
   ]
  },
  {
   "cell_type": "code",
   "execution_count": 7,
   "metadata": {},
   "outputs": [],
   "source": [
    "husband <- factor(rep(c('T','M','S'),3))"
   ]
  },
  {
   "cell_type": "code",
   "execution_count": 20,
   "metadata": {},
   "outputs": [],
   "source": [
    "wife <- factor(c(rep('T',3),rep('M',3),rep('S',3)))"
   ]
  },
  {
   "cell_type": "code",
   "execution_count": 22,
   "metadata": {},
   "outputs": [],
   "source": [
    "married <- data.frame(frequency, husband, wife)"
   ]
  },
  {
   "cell_type": "code",
   "execution_count": 24,
   "metadata": {},
   "outputs": [],
   "source": [
    "rm(frequency, husband, wife)\n",
    "attach(married)"
   ]
  },
  {
   "cell_type": "markdown",
   "metadata": {},
   "source": [
    "## Fitting GLM\n",
    "\n",
    "(NB: If you fit an interaction model here you will get the saturated model, and the deviance will be zero).\n",
    "\n",
    "The null hypothesis here is of **independence**. That male height is independent of female height.\n",
    "\n",
    "Under the null hypothesis, we don't have interaction terms (representing the dependence between males and females). A model with these terms **would be the saturated model**.\n",
    "\n",
    "Therefore our deviance has meaning: if our independence model **requires more terms** with respect to the saturated model, then those additional terms **will be interaction terms**! *THAT'S CLEVER*!\n",
    "\n",
    "The expected value of a Multinomial distributed random variable $Y_{jk}$ is:\n",
    "\n",
    "> $E[Y_{jk}] = n\\theta_{jk}$,\n",
    "\n",
    "where:\n",
    "\n",
    "* $n$ is the **fixed** total number of counts in the sample;\n",
    "* $\\theta_{jk}$ is the cell  probability: the probability that a random observation will fall in the $j-k$th cell.\n",
    "\n",
    "Our independence null hypothesis means that:\n",
    "\n",
    "> $\\theta_{jk} = \\theta_{j.} \\times \\theta_{.k}$,\n",
    "\n",
    "that is, the probability of landing in the $j-k$th cell is the probability of landing in the $j$th row multiplied by the probability of landing in the $k$th row.\n",
    "\n",
    "This means that, **under the null hypothesis of independence**,\n",
    "\n",
    "> $E[Y_{jk}] = n\\theta_{jk} = n \\times \\theta_{j.} \\times \\theta_{.k}$\n",
    "\n",
    "Applying the **log link** function to this expected value  yields the linear predictor, $\\eta_{jk}$:\n",
    "\n",
    "> $g(\\mu_{jk}) = \\ln(\\mu_{jk}) = \\eta_{jk}$\n",
    "\n",
    "> $\\ln(E[Y_{jk}]) = \\ln(\\mu_{jk}) = \\eta_{jk} =  \\ln(n \\times \\theta_{j.} \\times \\theta_{.k}) = \\ln(n) +  \\ln(\\theta_{j.}) + \\ln(\\theta_{.k})$,\n",
    "\n",
    "which  can be reparameterised as:\n",
    "\n",
    "> $\\eta_{jk} = \\mu + \\alpha_{j} + \\beta_{k}$,\n",
    "\n",
    "i.e. an interaction-less two-factor linear predictor.\n",
    "\n",
    "The alternative hypothesis is that more parameters need to be added to the linear predictor, and thus that those parameters will represent **interaction** parameters, $\\left ( \\alpha \\beta \\right )_{jk}$, where the full interaction linear predictor has the form:\n",
    "\n",
    "> $\\eta_{jk} = \\mu + \\alpha_{j} + \\beta_{k} + \\left ( \\alpha \\beta \\right )_{jk}$\n",
    "\n",
    "\n",
    "### We're going to fit a **Poisson** distributed GLM to random variable that is actually **Multinomial**.\n",
    "\n",
    "Important note: **For the Poisson distribution in generalised exponential form: the $\\phi$ parameter = 1, therefore the scaled deviance is equal to the residual deviance in the R output below.**\n"
   ]
  },
  {
   "cell_type": "code",
   "execution_count": 29,
   "metadata": {},
   "outputs": [
    {
     "data": {
      "text/plain": [
       "\n",
       "Call:\n",
       "glm(formula = frequency ~ husband + wife, family = poisson(link = \"log\"))\n",
       "\n",
       "Deviance Residuals: \n",
       "      1        2        3        4        5        6        7        8  \n",
       " 0.8490  -0.8699   0.2304  -0.4482   0.1092   0.3404  -0.2424   0.6645  \n",
       "      9  \n",
       "-0.7508  \n",
       "\n",
       "Coefficients:\n",
       "            Estimate Std. Error z value Pr(>|z|)    \n",
       "(Intercept)   3.9165     0.1218  32.152  < 2e-16 ***\n",
       "husbandS     -0.7665     0.1784  -4.295 1.74e-05 ***\n",
       "husbandT     -0.5008     0.1636  -3.061  0.00221 ** \n",
       "wifeS        -0.7126     0.1709  -4.168 3.07e-05 ***\n",
       "wifeT        -0.7324     0.1721  -4.256 2.08e-05 ***\n",
       "---\n",
       "Signif. codes:  0 ‘***’ 0.001 ‘**’ 0.01 ‘*’ 0.05 ‘.’ 0.1 ‘ ’ 1\n",
       "\n",
       "(Dispersion parameter for poisson family taken to be 1)\n",
       "\n",
       "    Null deviance: 50.5890  on 8  degrees of freedom\n",
       "Residual deviance:  2.9232  on 4  degrees of freedom\n",
       "AIC: 56.57\n",
       "\n",
       "Number of Fisher Scoring iterations: 4\n"
      ]
     },
     "metadata": {},
     "output_type": "display_data"
    }
   ],
   "source": [
    "married.glm <- glm(frequency ~ husband +  wife, family = poisson(link='log'))\n",
    "\n",
    "summary(married.glm)"
   ]
  },
  {
   "cell_type": "code",
   "execution_count": 30,
   "metadata": {},
   "outputs": [
    {
     "data": {
      "text/html": [
       "0.570758868723671"
      ],
      "text/latex": [
       "0.570758868723671"
      ],
      "text/markdown": [
       "0.570758868723671"
      ],
      "text/plain": [
       "[1] 0.5707589"
      ]
     },
     "metadata": {},
     "output_type": "display_data"
    }
   ],
   "source": [
    "S <- 2.9232\n",
    "\n",
    "n <- 9\n",
    "\n",
    "# have fit 5 parameters, an intercept and two of the three levels for each of the two factors\n",
    "# recall the corner condition that R imposes to prevent overparameterisation in the linear predictor\n",
    "# alpha_1 = 0, beta_1 =  0\n",
    "p <- 5\n",
    "\n",
    "pchisq(S, n-p, lower.tail=FALSE)"
   ]
  },
  {
   "cell_type": "markdown",
   "metadata": {},
   "source": [
    "### Summary of the null hypothesis test\n",
    "\n",
    "With a $p$-value of 0.57 associated with the scaled deviance of 2.9232, we have insufficient evidence to reject the null hypothesis  that we have a sufficient number of parameters in  our model.\n",
    "\n",
    "We therefore do not need to add any additional  parameters from the saturated model that are not  already in  the current model - **these additional  parameters are interaction parameters**.\n",
    "\n",
    "Therefore our analysis suggests that married  couples find each other independently of their heights.\n",
    "\n",
    "Note, the (scaled) deviance required to suggest that we'd need interaction terms, and thus that husbands and wives heights are not independent of each other would have been 9.49."
   ]
  },
  {
   "cell_type": "code",
   "execution_count": 31,
   "metadata": {},
   "outputs": [
    {
     "data": {
      "text/html": [
       "9.48772903678115"
      ],
      "text/latex": [
       "9.48772903678115"
      ],
      "text/markdown": [
       "9.48772903678115"
      ],
      "text/plain": [
       "[1] 9.487729"
      ]
     },
     "metadata": {},
     "output_type": "display_data"
    }
   ],
   "source": [
    "qchisq(0.05, n-p, lower.tail = FALSE)"
   ]
  },
  {
   "cell_type": "markdown",
   "metadata": {},
   "source": [
    "## Cool extras\n",
    "\n",
    "Because we included the factors which have the total count constraints on them, this is baked into the intercept.\n",
    "\n",
    "If we sum the fitted values, we'll get the total count from the underlying data"
   ]
  },
  {
   "cell_type": "code",
   "execution_count": 33,
   "metadata": {},
   "outputs": [
    {
     "data": {
      "text/html": [
       "205"
      ],
      "text/latex": [
       "205"
      ],
      "text/markdown": [
       "205"
      ],
      "text/plain": [
       "[1] 205"
      ]
     },
     "metadata": {},
     "output_type": "display_data"
    }
   ],
   "source": [
    "sum(fitted(married.glm))"
   ]
  },
  {
   "cell_type": "code",
   "execution_count": null,
   "metadata": {},
   "outputs": [],
   "source": []
  }
 ],
 "metadata": {
  "kernelspec": {
   "display_name": "R",
   "language": "R",
   "name": "ir"
  },
  "language_info": {
   "codemirror_mode": "r",
   "file_extension": ".r",
   "mimetype": "text/x-r-source",
   "name": "R",
   "pygments_lexer": "r",
   "version": "3.6.1"
  }
 },
 "nbformat": 4,
 "nbformat_minor": 2
}
