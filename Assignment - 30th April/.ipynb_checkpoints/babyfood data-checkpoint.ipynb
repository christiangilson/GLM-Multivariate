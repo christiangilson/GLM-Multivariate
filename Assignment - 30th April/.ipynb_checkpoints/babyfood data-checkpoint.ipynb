{
 "cells": [
  {
   "cell_type": "code",
   "execution_count": 1,
   "metadata": {},
   "outputs": [],
   "source": [
    "library('faraway')"
   ]
  },
  {
   "cell_type": "code",
   "execution_count": 2,
   "metadata": {},
   "outputs": [],
   "source": [
    "babyfood <- faraway::babyfood"
   ]
  },
  {
   "cell_type": "code",
   "execution_count": 3,
   "metadata": {},
   "outputs": [],
   "source": [
    "attach(babyfood)"
   ]
  },
  {
   "cell_type": "code",
   "execution_count": 4,
   "metadata": {},
   "outputs": [],
   "source": [
    "fit <- glm(disease/(disease + nondisease) ~ food + sex, family = binomial, weights = disease + nondisease, data=babyfood)"
   ]
  },
  {
   "cell_type": "code",
   "execution_count": 5,
   "metadata": {},
   "outputs": [
    {
     "data": {
      "text/plain": [
       "\n",
       "Call:\n",
       "glm(formula = disease/(disease + nondisease) ~ food + sex, family = binomial, \n",
       "    data = babyfood, weights = disease + nondisease)\n",
       "\n",
       "Deviance Residuals: \n",
       "      1        2        3        4        5        6  \n",
       " 0.1096  -0.5052   0.1922  -0.1342   0.5896  -0.2284  \n",
       "\n",
       "Coefficients:\n",
       "            Estimate Std. Error z value Pr(>|z|)    \n",
       "(Intercept)  -1.6127     0.1124 -14.347  < 2e-16 ***\n",
       "foodBreast   -0.6693     0.1530  -4.374 1.22e-05 ***\n",
       "foodSuppl    -0.1725     0.2056  -0.839   0.4013    \n",
       "sexGirl      -0.3126     0.1410  -2.216   0.0267 *  \n",
       "---\n",
       "Signif. codes:  0 ‘***’ 0.001 ‘**’ 0.01 ‘*’ 0.05 ‘.’ 0.1 ‘ ’ 1\n",
       "\n",
       "(Dispersion parameter for binomial family taken to be 1)\n",
       "\n",
       "    Null deviance: 26.37529  on 5  degrees of freedom\n",
       "Residual deviance:  0.72192  on 2  degrees of freedom\n",
       "AIC: 40.24\n",
       "\n",
       "Number of Fisher Scoring iterations: 4\n"
      ]
     },
     "metadata": {},
     "output_type": "display_data"
    }
   ],
   "source": [
    "summary(fit)"
   ]
  },
  {
   "cell_type": "code",
   "execution_count": 6,
   "metadata": {},
   "outputs": [
    {
     "data": {
      "text/html": [
       "<table>\n",
       "<caption>A anova: 3 × 4</caption>\n",
       "<thead>\n",
       "\t<tr><th></th><th scope=col>Df</th><th scope=col>Deviance</th><th scope=col>Resid. Df</th><th scope=col>Resid. Dev</th></tr>\n",
       "\t<tr><th></th><th scope=col>&lt;int&gt;</th><th scope=col>&lt;dbl&gt;</th><th scope=col>&lt;int&gt;</th><th scope=col>&lt;dbl&gt;</th></tr>\n",
       "</thead>\n",
       "<tbody>\n",
       "\t<tr><th scope=row>NULL</th><td>NA</td><td>       NA</td><td>5</td><td>26.3752949</td></tr>\n",
       "\t<tr><th scope=row>food</th><td> 2</td><td>20.676316</td><td>3</td><td> 5.6989791</td></tr>\n",
       "\t<tr><th scope=row>sex</th><td> 1</td><td> 4.977057</td><td>2</td><td> 0.7219218</td></tr>\n",
       "</tbody>\n",
       "</table>\n"
      ],
      "text/latex": [
       "A anova: 3 × 4\n",
       "\\begin{tabular}{r|llll}\n",
       "  & Df & Deviance & Resid. Df & Resid. Dev\\\\\n",
       "  & <int> & <dbl> & <int> & <dbl>\\\\\n",
       "\\hline\n",
       "\tNULL & NA &        NA & 5 & 26.3752949\\\\\n",
       "\tfood &  2 & 20.676316 & 3 &  5.6989791\\\\\n",
       "\tsex &  1 &  4.977057 & 2 &  0.7219218\\\\\n",
       "\\end{tabular}\n"
      ],
      "text/markdown": [
       "\n",
       "A anova: 3 × 4\n",
       "\n",
       "| <!--/--> | Df &lt;int&gt; | Deviance &lt;dbl&gt; | Resid. Df &lt;int&gt; | Resid. Dev &lt;dbl&gt; |\n",
       "|---|---|---|---|---|\n",
       "| NULL | NA |        NA | 5 | 26.3752949 |\n",
       "| food |  2 | 20.676316 | 3 |  5.6989791 |\n",
       "| sex |  1 |  4.977057 | 2 |  0.7219218 |\n",
       "\n"
      ],
      "text/plain": [
       "     Df Deviance  Resid. Df Resid. Dev\n",
       "NULL NA        NA 5         26.3752949\n",
       "food  2 20.676316 3          5.6989791\n",
       "sex   1  4.977057 2          0.7219218"
      ]
     },
     "metadata": {},
     "output_type": "display_data"
    }
   ],
   "source": [
    "anova(fit)"
   ]
  },
  {
   "cell_type": "code",
   "execution_count": 14,
   "metadata": {},
   "outputs": [],
   "source": [
    "babyfood['total'] <- babyfood[,1] + babyfood[,2]\n",
    "\n",
    "babyfood['frac'] <- babyfood[,1] / babyfood[,5]"
   ]
  },
  {
   "cell_type": "code",
   "execution_count": 16,
   "metadata": {},
   "outputs": [],
   "source": [
    "babyfood_cor <- babyfood[,c(1,2,6)]"
   ]
  },
  {
   "cell_type": "code",
   "execution_count": 17,
   "metadata": {},
   "outputs": [
    {
     "data": {
      "text/html": [
       "<table>\n",
       "<caption>A data.frame: 6 × 3</caption>\n",
       "<thead>\n",
       "\t<tr><th scope=col>disease</th><th scope=col>nondisease</th><th scope=col>frac</th></tr>\n",
       "\t<tr><th scope=col>&lt;dbl&gt;</th><th scope=col>&lt;dbl&gt;</th><th scope=col>&lt;dbl&gt;</th></tr>\n",
       "</thead>\n",
       "<tbody>\n",
       "\t<tr><td>77</td><td>381</td><td>0.16812227</td></tr>\n",
       "\t<tr><td>19</td><td>128</td><td>0.12925170</td></tr>\n",
       "\t<tr><td>47</td><td>447</td><td>0.09514170</td></tr>\n",
       "\t<tr><td>48</td><td>336</td><td>0.12500000</td></tr>\n",
       "\t<tr><td>16</td><td>111</td><td>0.12598425</td></tr>\n",
       "\t<tr><td>31</td><td>433</td><td>0.06681034</td></tr>\n",
       "</tbody>\n",
       "</table>\n"
      ],
      "text/latex": [
       "A data.frame: 6 × 3\n",
       "\\begin{tabular}{r|lll}\n",
       " disease & nondisease & frac\\\\\n",
       " <dbl> & <dbl> & <dbl>\\\\\n",
       "\\hline\n",
       "\t 77 & 381 & 0.16812227\\\\\n",
       "\t 19 & 128 & 0.12925170\\\\\n",
       "\t 47 & 447 & 0.09514170\\\\\n",
       "\t 48 & 336 & 0.12500000\\\\\n",
       "\t 16 & 111 & 0.12598425\\\\\n",
       "\t 31 & 433 & 0.06681034\\\\\n",
       "\\end{tabular}\n"
      ],
      "text/markdown": [
       "\n",
       "A data.frame: 6 × 3\n",
       "\n",
       "| disease &lt;dbl&gt; | nondisease &lt;dbl&gt; | frac &lt;dbl&gt; |\n",
       "|---|---|---|\n",
       "| 77 | 381 | 0.16812227 |\n",
       "| 19 | 128 | 0.12925170 |\n",
       "| 47 | 447 | 0.09514170 |\n",
       "| 48 | 336 | 0.12500000 |\n",
       "| 16 | 111 | 0.12598425 |\n",
       "| 31 | 433 | 0.06681034 |\n",
       "\n"
      ],
      "text/plain": [
       "  disease nondisease frac      \n",
       "1 77      381        0.16812227\n",
       "2 19      128        0.12925170\n",
       "3 47      447        0.09514170\n",
       "4 48      336        0.12500000\n",
       "5 16      111        0.12598425\n",
       "6 31      433        0.06681034"
      ]
     },
     "metadata": {},
     "output_type": "display_data"
    }
   ],
   "source": [
    "babyfood_cor"
   ]
  },
  {
   "cell_type": "code",
   "execution_count": 19,
   "metadata": {},
   "outputs": [],
   "source": [
    "babyfood_covar <- var(babyfood_cor)"
   ]
  },
  {
   "cell_type": "code",
   "execution_count": 25,
   "metadata": {},
   "outputs": [
    {
     "data": {
      "text/plain": [
       "eigen() decomposition\n",
       "$values\n",
       "[1] 2.267832e+04 2.863431e+02 1.136919e-06\n",
       "\n",
       "$vectors\n",
       "              [,1]         [,2]          [,3]\n",
       "[1,] -1.012438e-01  0.994859870 -0.0018805369\n",
       "[2,] -9.948616e-01 -0.101243442  0.0002719207\n",
       "[3,]  8.013095e-05  0.001898404  0.9999981948\n"
      ]
     },
     "metadata": {},
     "output_type": "display_data"
    }
   ],
   "source": [
    "eig.1 <- eigen(babyfood_covar)\n",
    "eig.1"
   ]
  },
  {
   "cell_type": "code",
   "execution_count": 26,
   "metadata": {},
   "outputs": [
    {
     "data": {
      "text/html": [
       "<ol class=list-inline>\n",
       "\t<li>98.7531145340446</li>\n",
       "\t<li>1.24688546100465</li>\n",
       "\t<li>4.95073050961502e-09</li>\n",
       "</ol>\n"
      ],
      "text/latex": [
       "\\begin{enumerate*}\n",
       "\\item 98.7531145340446\n",
       "\\item 1.24688546100465\n",
       "\\item 4.95073050961502e-09\n",
       "\\end{enumerate*}\n"
      ],
      "text/markdown": [
       "1. 98.7531145340446\n",
       "2. 1.24688546100465\n",
       "3. 4.95073050961502e-09\n",
       "\n",
       "\n"
      ],
      "text/plain": [
       "[1] 9.875311e+01 1.246885e+00 4.950731e-09"
      ]
     },
     "metadata": {},
     "output_type": "display_data"
    }
   ],
   "source": [
    "(eig.1$values/sum(eig.1$values)) * 100"
   ]
  },
  {
   "cell_type": "code",
   "execution_count": null,
   "metadata": {},
   "outputs": [],
   "source": []
  },
  {
   "cell_type": "code",
   "execution_count": null,
   "metadata": {},
   "outputs": [],
   "source": []
  },
  {
   "cell_type": "code",
   "execution_count": null,
   "metadata": {},
   "outputs": [],
   "source": []
  },
  {
   "cell_type": "code",
   "execution_count": 21,
   "metadata": {},
   "outputs": [],
   "source": [
    "babyfood_cor_b <- babyfood[,c(1,2)]"
   ]
  },
  {
   "cell_type": "code",
   "execution_count": 22,
   "metadata": {},
   "outputs": [],
   "source": [
    "babyfood_covar_b <- var(babyfood_cor_b)"
   ]
  },
  {
   "cell_type": "code",
   "execution_count": 28,
   "metadata": {},
   "outputs": [
    {
     "data": {
      "text/plain": [
       "eigen() decomposition\n",
       "$values\n",
       "[1] 22678.3246   286.3421\n",
       "\n",
       "$vectors\n",
       "          [,1]       [,2]\n",
       "[1,] 0.1012438 -0.9948616\n",
       "[2,] 0.9948616  0.1012438\n"
      ]
     },
     "metadata": {},
     "output_type": "display_data"
    }
   ],
   "source": [
    "eig.2 <- eigen(babyfood_covar_b)\n",
    "eig.2"
   ]
  },
  {
   "cell_type": "code",
   "execution_count": 29,
   "metadata": {},
   "outputs": [
    {
     "data": {
      "text/html": [
       "<ol class=list-inline>\n",
       "\t<li>98.7531189686953</li>\n",
       "\t<li>1.24688103130465</li>\n",
       "</ol>\n"
      ],
      "text/latex": [
       "\\begin{enumerate*}\n",
       "\\item 98.7531189686953\n",
       "\\item 1.24688103130465\n",
       "\\end{enumerate*}\n"
      ],
      "text/markdown": [
       "1. 98.7531189686953\n",
       "2. 1.24688103130465\n",
       "\n",
       "\n"
      ],
      "text/plain": [
       "[1] 98.753119  1.246881"
      ]
     },
     "metadata": {},
     "output_type": "display_data"
    }
   ],
   "source": [
    "(eig.2$values/sum(eig.2$values)) * 100"
   ]
  },
  {
   "cell_type": "code",
   "execution_count": null,
   "metadata": {},
   "outputs": [],
   "source": []
  }
 ],
 "metadata": {
  "kernelspec": {
   "display_name": "R",
   "language": "R",
   "name": "ir"
  },
  "language_info": {
   "codemirror_mode": "r",
   "file_extension": ".r",
   "mimetype": "text/x-r-source",
   "name": "R",
   "pygments_lexer": "r",
   "version": "3.6.1"
  }
 },
 "nbformat": 4,
 "nbformat_minor": 4
}
