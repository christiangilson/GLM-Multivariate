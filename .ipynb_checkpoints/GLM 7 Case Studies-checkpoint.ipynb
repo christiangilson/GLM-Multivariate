{
 "cells": [
  {
   "cell_type": "markdown",
   "metadata": {},
   "source": [
    "## GLM Case Studies"
   ]
  },
  {
   "cell_type": "markdown",
   "metadata": {},
   "source": [
    "## Case Study \\#1: Train Collisions\n",
    "\n",
    "* Nothing is fixed - this is purely Poisson.\n",
    "* All factors are response variables. One is a factor, the other is continuous. We are **not** testing for independence.\n",
    "\n",
    "Factor A is the time period. **This has not been turned into a factor in this analysis.**\n",
    "\n",
    "Factor B is whether or not the deaths were preventable."
   ]
  },
  {
   "cell_type": "code",
   "execution_count": 41,
   "metadata": {},
   "outputs": [],
   "source": [
    "freq <- c(9,16,\n",
    "          7,7,\n",
    "          5,5,\n",
    "          3,8,\n",
    "          4,6,\n",
    "          2,4,\n",
    "          2,1,\n",
    "          0,1)"
   ]
  },
  {
   "cell_type": "code",
   "execution_count": 42,
   "metadata": {},
   "outputs": [],
   "source": [
    "period <- rep(seq(1969, 2004, 5), rep(2,8))\n",
    "period.adj <- period - 1969"
   ]
  },
  {
   "cell_type": "code",
   "execution_count": 43,
   "metadata": {},
   "outputs": [],
   "source": [
    "atp <- factor(rep(c('Y','N'),8))"
   ]
  },
  {
   "cell_type": "code",
   "execution_count": 44,
   "metadata": {},
   "outputs": [],
   "source": [
    "train <- data.frame(freq, period.adj, period, atp)"
   ]
  },
  {
   "cell_type": "markdown",
   "metadata": {},
   "source": [
    "## GLM\n",
    "\n",
    "> The linear predictor here is a full interaction model, since one of the response variables is continuous and one of the response variables is categorical.\n",
    "\n",
    "> This means that our model won't be saturated by including interaction terms.\n",
    "\n",
    "## GLM components\n",
    "\n",
    "Mean:\n",
    "\n",
    "> $E[Y_{i}] = \\mu_{i} = g^{-1}(\\eta_{i})$\n",
    "\n",
    "Log link:\n",
    "\n",
    "> $g(\\mu_{i}) = \\ln(\\mu_{i}) = \\eta_{i}$\n",
    "\n",
    "Linear predictor:\n",
    "\n",
    "> $\\eta_{i} = \\alpha + \\beta x_{i1} + \\gamma_{1} z_{i1} + \\gamma_{2} z_{i2} + \\delta_{1} x_{i1} z_{i1} + \\delta_{2} x_{i1} z_{i2}$\n",
    "\n",
    "Which is clearly over-parameterised, so we set the corner constraint to categorical factors such that:\n",
    "\n",
    "* $\\gamma_{1} = 0$\n",
    "* $\\delta_{1} = 0$\n",
    "\n",
    "and therefore fit:\n",
    "\n",
    "> $\\eta_{i} = \\alpha + \\beta x_{i1} + \\gamma_{2} z_{i2} + \\delta_{2} x_{i1} z_{i2}$,\n",
    "\n",
    "therefore fitting a model with four parameters."
   ]
  },
  {
   "cell_type": "code",
   "execution_count": 60,
   "metadata": {},
   "outputs": [
    {
     "data": {
      "text/plain": [
       "\n",
       "Call:\n",
       "glm(formula = freq ~ period.adj + atp + period.adj:atp, family = poisson(link = \"log\"), \n",
       "    data = train)\n",
       "\n",
       "Deviance Residuals: \n",
       "     Min        1Q    Median        3Q       Max  \n",
       "-1.43920  -0.63284   0.01768   0.55009   0.98015  \n",
       "\n",
       "Coefficients:\n",
       "                 Estimate Std. Error z value Pr(>|z|)    \n",
       "(Intercept)      2.625573   0.206593  12.709  < 2e-16 ***\n",
       "period.adj      -0.060926   0.014479  -4.208 2.58e-05 ***\n",
       "atpY            -0.384092   0.325501  -1.180    0.238    \n",
       "period.adj:atpY -0.002115   0.023018  -0.092    0.927    \n",
       "---\n",
       "Signif. codes:  0 ‘***’ 0.001 ‘**’ 0.01 ‘*’ 0.05 ‘.’ 0.1 ‘ ’ 1\n",
       "\n",
       "(Dispersion parameter for poisson family taken to be 1)\n",
       "\n",
       "    Null deviance: 46.5268  on 15  degrees of freedom\n",
       "Residual deviance:  8.5813  on 12  degrees of freedom\n",
       "AIC: 66.178\n",
       "\n",
       "Number of Fisher Scoring iterations: 4\n"
      ]
     },
     "metadata": {},
     "output_type": "display_data"
    }
   ],
   "source": [
    "train.glm.int <- glm(freq ~ period.adj + atp + period.adj:atp, family=poisson(link='log'), data=train)\n",
    "\n",
    "summary(train.glm.int)"
   ]
  },
  {
   "cell_type": "code",
   "execution_count": 61,
   "metadata": {},
   "outputs": [
    {
     "data": {
      "text/html": [
       "0.738215511653767"
      ],
      "text/latex": [
       "0.738215511653767"
      ],
      "text/markdown": [
       "0.738215511653767"
      ],
      "text/plain": [
       "[1] 0.7382155"
      ]
     },
     "metadata": {},
     "output_type": "display_data"
    }
   ],
   "source": [
    "pchisq(8.5813, 12, lower.tail = F)"
   ]
  },
  {
   "cell_type": "markdown",
   "metadata": {},
   "source": [
    "**Do not have sufficient evidence to reject the null hypothesis that we are missing parameters that are present in the saturated model that are not present in the current model.**"
   ]
  },
  {
   "cell_type": "code",
   "execution_count": 59,
   "metadata": {},
   "outputs": [
    {
     "data": {
      "text/html": [
       "<table>\n",
       "<thead><tr><th></th><th scope=col>Df</th><th scope=col>Deviance</th><th scope=col>Resid. Df</th><th scope=col>Resid. Dev</th></tr></thead>\n",
       "<tbody>\n",
       "\t<tr><th scope=row>NULL</th><td>NA          </td><td>          NA</td><td>15          </td><td>46.526797   </td></tr>\n",
       "\t<tr><th scope=row>period.adj</th><td> 1          </td><td>34.715330623</td><td>14          </td><td>11.811467   </td></tr>\n",
       "\t<tr><th scope=row>atp</th><td> 1          </td><td> 3.221682168</td><td>13          </td><td> 8.589784   </td></tr>\n",
       "\t<tr><th scope=row>period.adj:atp</th><td> 1          </td><td> 0.008456286</td><td>12          </td><td> 8.581328   </td></tr>\n",
       "</tbody>\n",
       "</table>\n"
      ],
      "text/latex": [
       "\\begin{tabular}{r|llll}\n",
       "  & Df & Deviance & Resid. Df & Resid. Dev\\\\\n",
       "\\hline\n",
       "\tNULL & NA           &           NA & 15           & 46.526797   \\\\\n",
       "\tperiod.adj &  1           & 34.715330623 & 14           & 11.811467   \\\\\n",
       "\tatp &  1           &  3.221682168 & 13           &  8.589784   \\\\\n",
       "\tperiod.adj:atp &  1           &  0.008456286 & 12           &  8.581328   \\\\\n",
       "\\end{tabular}\n"
      ],
      "text/markdown": [
       "\n",
       "| <!--/--> | Df | Deviance | Resid. Df | Resid. Dev |\n",
       "|---|---|---|---|---|\n",
       "| NULL | NA           |           NA | 15           | 46.526797    |\n",
       "| period.adj |  1           | 34.715330623 | 14           | 11.811467    |\n",
       "| atp |  1           |  3.221682168 | 13           |  8.589784    |\n",
       "| period.adj:atp |  1           |  0.008456286 | 12           |  8.581328    |\n",
       "\n"
      ],
      "text/plain": [
       "               Df Deviance     Resid. Df Resid. Dev\n",
       "NULL           NA           NA 15        46.526797 \n",
       "period.adj      1 34.715330623 14        11.811467 \n",
       "atp             1  3.221682168 13         8.589784 \n",
       "period.adj:atp  1  0.008456286 12         8.581328 "
      ]
     },
     "metadata": {},
     "output_type": "display_data"
    }
   ],
   "source": [
    "anova(train.glm.int)"
   ]
  },
  {
   "cell_type": "markdown",
   "metadata": {},
   "source": [
    "## Fitting GLM without interaction term in the linear predictor"
   ]
  },
  {
   "cell_type": "code",
   "execution_count": 51,
   "metadata": {},
   "outputs": [
    {
     "data": {
      "text/plain": [
       "\n",
       "Call:\n",
       "glm(formula = freq ~ period.adj + atp, family = poisson(link = \"log\"), \n",
       "    data = train)\n",
       "\n",
       "Deviance Residuals: \n",
       "    Min       1Q   Median       3Q      Max  \n",
       "-1.4622  -0.6088   0.0044   0.5472   0.9904  \n",
       "\n",
       "Coefficients:\n",
       "            Estimate Std. Error z value Pr(>|z|)    \n",
       "(Intercept)  2.63413    0.18390  14.323  < 2e-16 ***\n",
       "period.adj  -0.06177    0.01126  -5.488 4.07e-08 ***\n",
       "atpY        -0.40547    0.22822  -1.777   0.0756 .  \n",
       "---\n",
       "Signif. codes:  0 ‘***’ 0.001 ‘**’ 0.01 ‘*’ 0.05 ‘.’ 0.1 ‘ ’ 1\n",
       "\n",
       "(Dispersion parameter for poisson family taken to be 1)\n",
       "\n",
       "    Null deviance: 46.5268  on 15  degrees of freedom\n",
       "Residual deviance:  8.5898  on 13  degrees of freedom\n",
       "AIC: 64.187\n",
       "\n",
       "Number of Fisher Scoring iterations: 4\n"
      ]
     },
     "metadata": {},
     "output_type": "display_data"
    }
   ],
   "source": [
    "train.glm <- glm(freq ~ period.adj + atp, family=poisson(link='log'), data=train)\n",
    "\n",
    "summary(train.glm)"
   ]
  },
  {
   "cell_type": "code",
   "execution_count": 62,
   "metadata": {},
   "outputs": [
    {
     "data": {
      "text/html": [
       "0.803170488823106"
      ],
      "text/latex": [
       "0.803170488823106"
      ],
      "text/markdown": [
       "0.803170488823106"
      ],
      "text/plain": [
       "[1] 0.8031705"
      ]
     },
     "metadata": {},
     "output_type": "display_data"
    }
   ],
   "source": [
    "pchisq(8.5898, 13, lower.tail = F)"
   ]
  },
  {
   "cell_type": "code",
   "execution_count": 58,
   "metadata": {},
   "outputs": [
    {
     "data": {
      "text/html": [
       "<table>\n",
       "<thead><tr><th></th><th scope=col>Df</th><th scope=col>Deviance</th><th scope=col>Resid. Df</th><th scope=col>Resid. Dev</th></tr></thead>\n",
       "<tbody>\n",
       "\t<tr><th scope=row>NULL</th><td>NA       </td><td>       NA</td><td>15       </td><td>46.526797</td></tr>\n",
       "\t<tr><th scope=row>period.adj</th><td> 1       </td><td>34.715331</td><td>14       </td><td>11.811467</td></tr>\n",
       "\t<tr><th scope=row>atp</th><td> 1       </td><td> 3.221682</td><td>13       </td><td> 8.589784</td></tr>\n",
       "</tbody>\n",
       "</table>\n"
      ],
      "text/latex": [
       "\\begin{tabular}{r|llll}\n",
       "  & Df & Deviance & Resid. Df & Resid. Dev\\\\\n",
       "\\hline\n",
       "\tNULL & NA        &        NA & 15        & 46.526797\\\\\n",
       "\tperiod.adj &  1        & 34.715331 & 14        & 11.811467\\\\\n",
       "\tatp &  1        &  3.221682 & 13        &  8.589784\\\\\n",
       "\\end{tabular}\n"
      ],
      "text/markdown": [
       "\n",
       "| <!--/--> | Df | Deviance | Resid. Df | Resid. Dev |\n",
       "|---|---|---|---|---|\n",
       "| NULL | NA        |        NA | 15        | 46.526797 |\n",
       "| period.adj |  1        | 34.715331 | 14        | 11.811467 |\n",
       "| atp |  1        |  3.221682 | 13        |  8.589784 |\n",
       "\n"
      ],
      "text/plain": [
       "           Df Deviance  Resid. Df Resid. Dev\n",
       "NULL       NA        NA 15        46.526797 \n",
       "period.adj  1 34.715331 14        11.811467 \n",
       "atp         1  3.221682 13         8.589784 "
      ]
     },
     "metadata": {},
     "output_type": "display_data"
    }
   ],
   "source": [
    "anova(train.glm)"
   ]
  },
  {
   "cell_type": "markdown",
   "metadata": {},
   "source": [
    "**The interaction term barely adds to the model (barely reduces the deviance**\n",
    "\n",
    "This suggests we don't need different slopes to the data. The partial (main) atp term isn't significant in the interaction model, but with interaction terms removed from the linear predictor part of the model, it's closer, but still not significant at the 5% level of significance.\n",
    "\n",
    "We can test to see whether the addition of the atp term is significent via:\n",
    "\n",
    "> $W = S_{r} - S_{f} = \\dfrac{D_{r} - D_{f}}{\\phi} = D_{r} - D_{f} \\sim \\chi^{2}_{q-p}$"
   ]
  },
  {
   "cell_type": "code",
   "execution_count": 52,
   "metadata": {},
   "outputs": [
    {
     "data": {
      "text/html": [
       "0.072668916686311"
      ],
      "text/latex": [
       "0.072668916686311"
      ],
      "text/markdown": [
       "0.072668916686311"
      ],
      "text/plain": [
       "[1] 0.07266892"
      ]
     },
     "metadata": {},
     "output_type": "display_data"
    }
   ],
   "source": [
    "pchisq(3.221682168, 1, lower.tail = F)"
   ]
  },
  {
   "cell_type": "markdown",
   "metadata": {},
   "source": [
    "We cannot reject the null hypothesis that the reduced model without the atp term is missing a parameter that the full model (incl. the atp) term has. I.e. whether or not the atp factor is significant. Therefore we do not include it in the model."
   ]
  },
  {
   "cell_type": "markdown",
   "metadata": {},
   "source": [
    "## GLM with no ATP term"
   ]
  },
  {
   "cell_type": "code",
   "execution_count": 53,
   "metadata": {},
   "outputs": [
    {
     "data": {
      "text/plain": [
       "\n",
       "Call:\n",
       "glm(formula = freq ~ period.adj, family = poisson(link = \"log\"), \n",
       "    data = train)\n",
       "\n",
       "Deviance Residuals: \n",
       "    Min       1Q   Median       3Q      Max  \n",
       "-1.6348  -0.5706  -0.4183   0.4694   1.4350  \n",
       "\n",
       "Coefficients:\n",
       "            Estimate Std. Error z value Pr(>|z|)    \n",
       "(Intercept)  2.45181    0.15965  15.358  < 2e-16 ***\n",
       "period.adj  -0.06177    0.01126  -5.488 4.07e-08 ***\n",
       "---\n",
       "Signif. codes:  0 ‘***’ 0.001 ‘**’ 0.01 ‘*’ 0.05 ‘.’ 0.1 ‘ ’ 1\n",
       "\n",
       "(Dispersion parameter for poisson family taken to be 1)\n",
       "\n",
       "    Null deviance: 46.527  on 15  degrees of freedom\n",
       "Residual deviance: 11.811  on 14  degrees of freedom\n",
       "AIC: 65.409\n",
       "\n",
       "Number of Fisher Scoring iterations: 4\n"
      ]
     },
     "metadata": {},
     "output_type": "display_data"
    }
   ],
   "source": [
    "train.glm.no.atp <- glm(freq ~ period.adj, family=poisson(link='log'), data=train)\n",
    "\n",
    "summary(train.glm.no.atp)"
   ]
  },
  {
   "cell_type": "code",
   "execution_count": 55,
   "metadata": {},
   "outputs": [
    {
     "data": {
      "text/html": [
       "0.621477874849395"
      ],
      "text/latex": [
       "0.621477874849395"
      ],
      "text/markdown": [
       "0.621477874849395"
      ],
      "text/plain": [
       "[1] 0.6214779"
      ]
     },
     "metadata": {},
     "output_type": "display_data"
    }
   ],
   "source": [
    "pchisq(11.811, 14, lower.tail = FALSE)"
   ]
  },
  {
   "cell_type": "code",
   "execution_count": 56,
   "metadata": {},
   "outputs": [
    {
     "data": {
      "text/html": [
       "<table>\n",
       "<thead><tr><th></th><th scope=col>Df</th><th scope=col>Deviance</th><th scope=col>Resid. Df</th><th scope=col>Resid. Dev</th></tr></thead>\n",
       "<tbody>\n",
       "\t<tr><th scope=row>NULL</th><td>NA          </td><td>          NA</td><td>15          </td><td>46.526797   </td></tr>\n",
       "\t<tr><th scope=row>period.adj</th><td> 1          </td><td>34.715330623</td><td>14          </td><td>11.811467   </td></tr>\n",
       "\t<tr><th scope=row>atp</th><td> 1          </td><td> 3.221682168</td><td>13          </td><td> 8.589784   </td></tr>\n",
       "\t<tr><th scope=row>period.adj:atp</th><td> 1          </td><td> 0.008456286</td><td>12          </td><td> 8.581328   </td></tr>\n",
       "</tbody>\n",
       "</table>\n"
      ],
      "text/latex": [
       "\\begin{tabular}{r|llll}\n",
       "  & Df & Deviance & Resid. Df & Resid. Dev\\\\\n",
       "\\hline\n",
       "\tNULL & NA           &           NA & 15           & 46.526797   \\\\\n",
       "\tperiod.adj &  1           & 34.715330623 & 14           & 11.811467   \\\\\n",
       "\tatp &  1           &  3.221682168 & 13           &  8.589784   \\\\\n",
       "\tperiod.adj:atp &  1           &  0.008456286 & 12           &  8.581328   \\\\\n",
       "\\end{tabular}\n"
      ],
      "text/markdown": [
       "\n",
       "| <!--/--> | Df | Deviance | Resid. Df | Resid. Dev |\n",
       "|---|---|---|---|---|\n",
       "| NULL | NA           |           NA | 15           | 46.526797    |\n",
       "| period.adj |  1           | 34.715330623 | 14           | 11.811467    |\n",
       "| atp |  1           |  3.221682168 | 13           |  8.589784    |\n",
       "| period.adj:atp |  1           |  0.008456286 | 12           |  8.581328    |\n",
       "\n"
      ],
      "text/plain": [
       "               Df Deviance     Resid. Df Resid. Dev\n",
       "NULL           NA           NA 15        46.526797 \n",
       "period.adj      1 34.715330623 14        11.811467 \n",
       "atp             1  3.221682168 13         8.589784 \n",
       "period.adj:atp  1  0.008456286 12         8.581328 "
      ]
     },
     "metadata": {},
     "output_type": "display_data"
    }
   ],
   "source": [
    "anova(train.glm.int)"
   ]
  },
  {
   "cell_type": "markdown",
   "metadata": {},
   "source": [
    "## Overall Analysis of Deviance\n",
    "\n",
    "* All three models give a good fit to the data;\n",
    "* Interaction term is non-significant, $p$-value for $\\chi^{2}_{p-q}$ on one degree of freedom = $0.926731356429821$ (below).\n",
    "* ATP term is not significant at the 5% level"
   ]
  },
  {
   "cell_type": "code",
   "execution_count": 57,
   "metadata": {},
   "outputs": [
    {
     "data": {
      "text/html": [
       "0.926731356429821"
      ],
      "text/latex": [
       "0.926731356429821"
      ],
      "text/markdown": [
       "0.926731356429821"
      ],
      "text/plain": [
       "[1] 0.9267314"
      ]
     },
     "metadata": {},
     "output_type": "display_data"
    }
   ],
   "source": [
    "pchisq(0.008456286, 1, lower.tail = F)"
   ]
  },
  {
   "cell_type": "code",
   "execution_count": 64,
   "metadata": {},
   "outputs": [],
   "source": [
    "x <- seq(0, 35, 0.1)\n",
    "pred <- predict(train.glm.no.atp, data.frame(period.adj=x), type='response')"
   ]
  },
  {
   "cell_type": "code",
   "execution_count": 67,
   "metadata": {},
   "outputs": [
    {
     "data": {
      "image/png": "[encoded data removed]",
      "text/plain": [
       "plot without title"
      ]
     },
     "metadata": {},
     "output_type": "display_data"
    }
   ],
   "source": [
    "plot(period.adj, freq)\n",
    "lines(x, pred)"
   ]
  },
  {
   "cell_type": "markdown",
   "metadata": {},
   "source": [
    "## Case Study 2: Count Data"
   ]
  },
  {
   "cell_type": "code",
   "execution_count": 72,
   "metadata": {},
   "outputs": [],
   "source": [
    "ton <- c(236,739,970,2371,309,679,26,1272,3246,1904\n",
    "         ,357,1080,1027,28,2507,138,502,1501,2750,192)\n",
    "\n",
    "crew <- c(8,16,15,23,5,13,4,19,33,19,10,16,22,2,22,2,18,21,24,9)\n",
    "\n",
    "power <- factor(c(\"sail\",rep(\"steam\",5),\"sail\",rep(\"steam\",6),\"sail\",\"steam\",\"sail\",\n",
    "        rep(\"steam\",4)))\n",
    "\n",
    "ship <- data.frame(ton,crew,power)"
   ]
  },
  {
   "cell_type": "code",
   "execution_count": 73,
   "metadata": {},
   "outputs": [],
   "source": [
    "rm(ton, crew, power)\n",
    "attach(ship)"
   ]
  },
  {
   "cell_type": "code",
   "execution_count": 74,
   "metadata": {},
   "outputs": [
    {
     "data": {
      "text/html": [
       "<table>\n",
       "<thead><tr><th scope=col>ton</th><th scope=col>crew</th><th scope=col>power</th></tr></thead>\n",
       "<tbody>\n",
       "\t<tr><td> 236 </td><td> 8   </td><td>sail </td></tr>\n",
       "\t<tr><td> 739 </td><td>16   </td><td>steam</td></tr>\n",
       "\t<tr><td> 970 </td><td>15   </td><td>steam</td></tr>\n",
       "\t<tr><td>2371 </td><td>23   </td><td>steam</td></tr>\n",
       "\t<tr><td> 309 </td><td> 5   </td><td>steam</td></tr>\n",
       "\t<tr><td> 679 </td><td>13   </td><td>steam</td></tr>\n",
       "\t<tr><td>  26 </td><td> 4   </td><td>sail </td></tr>\n",
       "\t<tr><td>1272 </td><td>19   </td><td>steam</td></tr>\n",
       "\t<tr><td>3246 </td><td>33   </td><td>steam</td></tr>\n",
       "\t<tr><td>1904 </td><td>19   </td><td>steam</td></tr>\n",
       "\t<tr><td> 357 </td><td>10   </td><td>steam</td></tr>\n",
       "\t<tr><td>1080 </td><td>16   </td><td>steam</td></tr>\n",
       "\t<tr><td>1027 </td><td>22   </td><td>steam</td></tr>\n",
       "\t<tr><td>  28 </td><td> 2   </td><td>sail </td></tr>\n",
       "\t<tr><td>2507 </td><td>22   </td><td>steam</td></tr>\n",
       "\t<tr><td> 138 </td><td> 2   </td><td>sail </td></tr>\n",
       "\t<tr><td> 502 </td><td>18   </td><td>steam</td></tr>\n",
       "\t<tr><td>1501 </td><td>21   </td><td>steam</td></tr>\n",
       "\t<tr><td>2750 </td><td>24   </td><td>steam</td></tr>\n",
       "\t<tr><td> 192 </td><td> 9   </td><td>steam</td></tr>\n",
       "</tbody>\n",
       "</table>\n"
      ],
      "text/latex": [
       "\\begin{tabular}{r|lll}\n",
       " ton & crew & power\\\\\n",
       "\\hline\n",
       "\t  236  &  8    & sail \\\\\n",
       "\t  739  & 16    & steam\\\\\n",
       "\t  970  & 15    & steam\\\\\n",
       "\t 2371  & 23    & steam\\\\\n",
       "\t  309  &  5    & steam\\\\\n",
       "\t  679  & 13    & steam\\\\\n",
       "\t   26  &  4    & sail \\\\\n",
       "\t 1272  & 19    & steam\\\\\n",
       "\t 3246  & 33    & steam\\\\\n",
       "\t 1904  & 19    & steam\\\\\n",
       "\t  357  & 10    & steam\\\\\n",
       "\t 1080  & 16    & steam\\\\\n",
       "\t 1027  & 22    & steam\\\\\n",
       "\t   28  &  2    & sail \\\\\n",
       "\t 2507  & 22    & steam\\\\\n",
       "\t  138  &  2    & sail \\\\\n",
       "\t  502  & 18    & steam\\\\\n",
       "\t 1501  & 21    & steam\\\\\n",
       "\t 2750  & 24    & steam\\\\\n",
       "\t  192  &  9    & steam\\\\\n",
       "\\end{tabular}\n"
      ],
      "text/markdown": [
       "\n",
       "| ton | crew | power |\n",
       "|---|---|---|\n",
       "|  236  |  8    | sail  |\n",
       "|  739  | 16    | steam |\n",
       "|  970  | 15    | steam |\n",
       "| 2371  | 23    | steam |\n",
       "|  309  |  5    | steam |\n",
       "|  679  | 13    | steam |\n",
       "|   26  |  4    | sail  |\n",
       "| 1272  | 19    | steam |\n",
       "| 3246  | 33    | steam |\n",
       "| 1904  | 19    | steam |\n",
       "|  357  | 10    | steam |\n",
       "| 1080  | 16    | steam |\n",
       "| 1027  | 22    | steam |\n",
       "|   28  |  2    | sail  |\n",
       "| 2507  | 22    | steam |\n",
       "|  138  |  2    | sail  |\n",
       "|  502  | 18    | steam |\n",
       "| 1501  | 21    | steam |\n",
       "| 2750  | 24    | steam |\n",
       "|  192  |  9    | steam |\n",
       "\n"
      ],
      "text/plain": [
       "   ton  crew power\n",
       "1   236  8   sail \n",
       "2   739 16   steam\n",
       "3   970 15   steam\n",
       "4  2371 23   steam\n",
       "5   309  5   steam\n",
       "6   679 13   steam\n",
       "7    26  4   sail \n",
       "8  1272 19   steam\n",
       "9  3246 33   steam\n",
       "10 1904 19   steam\n",
       "11  357 10   steam\n",
       "12 1080 16   steam\n",
       "13 1027 22   steam\n",
       "14   28  2   sail \n",
       "15 2507 22   steam\n",
       "16  138  2   sail \n",
       "17  502 18   steam\n",
       "18 1501 21   steam\n",
       "19 2750 24   steam\n",
       "20  192  9   steam"
      ]
     },
     "metadata": {},
     "output_type": "display_data"
    }
   ],
   "source": [
    "ship"
   ]
  },
  {
   "cell_type": "code",
   "execution_count": 71,
   "metadata": {},
   "outputs": [
    {
     "data": {
      "image/png": "[encoded data removed]",
      "text/plain": [
       "plot without title"
      ]
     },
     "metadata": {},
     "output_type": "display_data"
    }
   ],
   "source": [
    "plot(ton, crew)"
   ]
  },
  {
   "cell_type": "markdown",
   "metadata": {},
   "source": [
    "## GLM\n",
    "\n",
    "> Model crew size as a Poisson random variable\n",
    "\n",
    "> Not a contingency table - not testing for independence or homogeneity\n",
    "\n",
    "> Will just fit a model and see if the dummy variable is significant\n",
    "\n",
    "### Model\n",
    "\n",
    "> $E[Y_{i}] = \\mu_{i} = g^{-1}(\\eta_{i})$\n",
    "\n",
    "Using log link:\n",
    "\n",
    "**Overparameterised Interaction Model Linear Predictor**:\n",
    "> $\\ln(\\mu_{i}) = \\eta_{i} = \\alpha + \\beta x_{i1} + \\gamma_{1} z_{i1} + \\gamma_{2} z_{i2} + \\delta_{1}x_{i1} z_{i1} + \\delta_{2} x_{i1} z_{i2}\\$\n",
    "\n",
    "Which is over-parameterised, so applying corner constraint:\n",
    "\n",
    "* $\\gamma_{1} = 0$\n",
    "* $\\delta_{1} = 0$\n",
    "\n",
    "**Provides the interation model linear predictor**:\n",
    "> $\\ln(\\mu_{i}) = \\eta_{i} = \\alpha + \\beta x_{i1} + \\gamma z_{i2} + \\delta x_{i1} z_{i2}\\$\n",
    "\n",
    "And the non-interaction model will be:\n",
    "> $\\ln(\\mu_{i}) = \\eta_{i} = \\alpha + \\beta x_{i1} + \\gamma z_{i2}$\n",
    "\n",
    "Where $\\alpha$ is the intercept, $\\beta$ is the parameter for the continuous explanatory variable, *tonnage*, $\\gamma$ is parameter for the explanatory variable for *power*, and $\\delta$ is the parameter for the interaction between *power* type and *tonnage*.\n",
    "\n",
    "## Fitting the Interaction Model First"
   ]
  },
  {
   "cell_type": "code",
   "execution_count": 79,
   "metadata": {},
   "outputs": [
    {
     "data": {
      "text/plain": [
       "\n",
       "Call:\n",
       "glm(formula = crew ~ ton * power, family = poisson(link = \"log\"))\n",
       "\n",
       "Deviance Residuals: \n",
       "     Min        1Q    Median        3Q       Max  \n",
       "-2.33547  -0.56560  -0.08887   0.53369   1.58787  \n",
       "\n",
       "Coefficients:\n",
       "                Estimate Std. Error z value Pr(>|z|)   \n",
       "(Intercept)     0.777965   0.480077   1.620  0.10513   \n",
       "ton             0.004827   0.002822   1.711  0.08713 . \n",
       "powersteam      1.621577   0.493663   3.285  0.00102 **\n",
       "ton:powersteam -0.004503   0.002822  -1.596  0.11059   \n",
       "---\n",
       "Signif. codes:  0 ‘***’ 0.001 ‘**’ 0.01 ‘*’ 0.05 ‘.’ 0.1 ‘ ’ 1\n",
       "\n",
       "(Dispersion parameter for poisson family taken to be 1)\n",
       "\n",
       "    Null deviance: 99.990  on 19  degrees of freedom\n",
       "Residual deviance: 15.454  on 16  degrees of freedom\n",
       "AIC: 110.22\n",
       "\n",
       "Number of Fisher Scoring iterations: 4\n"
      ]
     },
     "metadata": {},
     "output_type": "display_data"
    }
   ],
   "source": [
    "ships.glm.int <- glm(crew ~ ton*power, family=poisson(link='log'))\n",
    "\n",
    "summary(ships.glm.int)"
   ]
  },
  {
   "cell_type": "code",
   "execution_count": 80,
   "metadata": {},
   "outputs": [
    {
     "data": {
      "text/html": [
       "<table>\n",
       "<thead><tr><th></th><th scope=col>Df</th><th scope=col>Deviance</th><th scope=col>Resid. Df</th><th scope=col>Resid. Dev</th></tr></thead>\n",
       "<tbody>\n",
       "\t<tr><th scope=row>NULL</th><td>NA       </td><td>       NA</td><td>19       </td><td>99.99028 </td></tr>\n",
       "\t<tr><th scope=row>ton</th><td> 1       </td><td>63.575489</td><td>18       </td><td>36.41479 </td></tr>\n",
       "\t<tr><th scope=row>power</th><td> 1       </td><td>18.375589</td><td>17       </td><td>18.03920 </td></tr>\n",
       "\t<tr><th scope=row>ton:power</th><td> 1       </td><td> 2.585037</td><td>16       </td><td>15.45416 </td></tr>\n",
       "</tbody>\n",
       "</table>\n"
      ],
      "text/latex": [
       "\\begin{tabular}{r|llll}\n",
       "  & Df & Deviance & Resid. Df & Resid. Dev\\\\\n",
       "\\hline\n",
       "\tNULL & NA        &        NA & 19        & 99.99028 \\\\\n",
       "\tton &  1        & 63.575489 & 18        & 36.41479 \\\\\n",
       "\tpower &  1        & 18.375589 & 17        & 18.03920 \\\\\n",
       "\tton:power &  1        &  2.585037 & 16        & 15.45416 \\\\\n",
       "\\end{tabular}\n"
      ],
      "text/markdown": [
       "\n",
       "| <!--/--> | Df | Deviance | Resid. Df | Resid. Dev |\n",
       "|---|---|---|---|---|\n",
       "| NULL | NA        |        NA | 19        | 99.99028  |\n",
       "| ton |  1        | 63.575489 | 18        | 36.41479  |\n",
       "| power |  1        | 18.375589 | 17        | 18.03920  |\n",
       "| ton:power |  1        |  2.585037 | 16        | 15.45416  |\n",
       "\n"
      ],
      "text/plain": [
       "          Df Deviance  Resid. Df Resid. Dev\n",
       "NULL      NA        NA 19        99.99028  \n",
       "ton        1 63.575489 18        36.41479  \n",
       "power      1 18.375589 17        18.03920  \n",
       "ton:power  1  2.585037 16        15.45416  "
      ]
     },
     "metadata": {},
     "output_type": "display_data"
    }
   ],
   "source": [
    "anova(ships.glm.int)"
   ]
  },
  {
   "cell_type": "code",
   "execution_count": 81,
   "metadata": {},
   "outputs": [
    {
     "data": {
      "text/html": [
       "0.491671620124722"
      ],
      "text/latex": [
       "0.491671620124722"
      ],
      "text/markdown": [
       "0.491671620124722"
      ],
      "text/plain": [
       "[1] 0.4916716"
      ]
     },
     "metadata": {},
     "output_type": "display_data"
    }
   ],
   "source": [
    "pchisq(15.454, 16, lower.tail = FALSE)"
   ]
  },
  {
   "cell_type": "markdown",
   "metadata": {},
   "source": [
    "## Analysis of Deviance Full Interaction Model\n",
    "\n",
    "* Know $\\phi = 1$ for Poisson, so the deviance output corresponds to the scaled deviance, which is a random variable whereby $S \\sim \\chi^{2}_{n-p}$, where $n$ is the total number of data points (and the number of parameters used to fit  the saturated model with zero deviance) and $p$ is the current number of parameters in the model.\n",
    "\n",
    "* Looking at the null hypothesis that the parameters found in the saturated model, but not the current model have parameters equalling zero, we cannot reject the null given a $p$ value of 0.49, therefore we accept the alternative that we don't need to add any more parameters to the model.\n",
    "\n",
    "* We can however see whether we can fit a more  parsimmonious model.\n",
    "\n",
    "* With the analysis of deviance table, variables are added sequentially, so we can look at:\n",
    "\n",
    "> $W = S_{r} - S{f} = \\dfrac{D_{r} - D_{f}}{\\phi} = D_{r} - D_{f} \\sim \\chi^{2}_{q-p}$\n",
    "\n",
    "* Looking at the difference in deviance due to the interaction parameter, we form a null that the interaction term is zero."
   ]
  },
  {
   "cell_type": "code",
   "execution_count": 84,
   "metadata": {},
   "outputs": [
    {
     "data": {
      "text/html": [
       "0.107877887461725"
      ],
      "text/latex": [
       "0.107877887461725"
      ],
      "text/markdown": [
       "0.107877887461725"
      ],
      "text/plain": [
       "[1] 0.1078779"
      ]
     },
     "metadata": {},
     "output_type": "display_data"
    }
   ],
   "source": [
    "pchisq(2.585037, 1, lower.tail=FALSE)"
   ]
  },
  {
   "cell_type": "markdown",
   "metadata": {},
   "source": [
    "We cannot reject the null hypothesis at the 5% level  of significance, so we accept the alternative that it unnecessary to keep the interaction term.\n",
    "\n",
    "In model fitting terms, this means that we've ruled out different slopes.\n",
    "\n",
    "We now move to the no-interaction model."
   ]
  },
  {
   "cell_type": "markdown",
   "metadata": {},
   "source": [
    "## Non-Interaction Model"
   ]
  },
  {
   "cell_type": "code",
   "execution_count": 85,
   "metadata": {},
   "outputs": [
    {
     "data": {
      "text/plain": [
       "\n",
       "Call:\n",
       "glm(formula = crew ~ ton + power, family = poisson(link = \"log\"))\n",
       "\n",
       "Deviance Residuals: \n",
       "    Min       1Q   Median       3Q      Max  \n",
       "-2.3270  -0.6121  -0.0899   0.5398   1.6626  \n",
       "\n",
       "Coefficients:\n",
       "             Estimate Std. Error z value Pr(>|z|)    \n",
       "(Intercept) 1.351e+00  2.501e-01   5.402 6.58e-08 ***\n",
       "ton         3.261e-04  6.032e-05   5.406 6.45e-08 ***\n",
       "powersteam  1.045e+00  2.729e-01   3.830 0.000128 ***\n",
       "---\n",
       "Signif. codes:  0 ‘***’ 0.001 ‘**’ 0.01 ‘*’ 0.05 ‘.’ 0.1 ‘ ’ 1\n",
       "\n",
       "(Dispersion parameter for poisson family taken to be 1)\n",
       "\n",
       "    Null deviance: 99.990  on 19  degrees of freedom\n",
       "Residual deviance: 18.039  on 17  degrees of freedom\n",
       "AIC: 110.8\n",
       "\n",
       "Number of Fisher Scoring iterations: 4\n"
      ]
     },
     "metadata": {},
     "output_type": "display_data"
    }
   ],
   "source": [
    "ships.glm.no.int <- glm(crew ~ ton + power, family=poisson(link='log'))\n",
    "\n",
    "summary(ships.glm.no.int)"
   ]
  },
  {
   "cell_type": "code",
   "execution_count": 86,
   "metadata": {},
   "outputs": [
    {
     "data": {
      "text/html": [
       "0.386384468108317"
      ],
      "text/latex": [
       "0.386384468108317"
      ],
      "text/markdown": [
       "0.386384468108317"
      ],
      "text/plain": [
       "[1] 0.3863845"
      ]
     },
     "metadata": {},
     "output_type": "display_data"
    }
   ],
   "source": [
    "pchisq(18.039, 17, lower.tail = FALSE)"
   ]
  },
  {
   "cell_type": "code",
   "execution_count": 87,
   "metadata": {},
   "outputs": [
    {
     "data": {
      "text/html": [
       "<table>\n",
       "<thead><tr><th></th><th scope=col>Df</th><th scope=col>Deviance</th><th scope=col>Resid. Df</th><th scope=col>Resid. Dev</th></tr></thead>\n",
       "<tbody>\n",
       "\t<tr><th scope=row>NULL</th><td>NA      </td><td>      NA</td><td>19      </td><td>99.99028</td></tr>\n",
       "\t<tr><th scope=row>ton</th><td> 1      </td><td>63.57549</td><td>18      </td><td>36.41479</td></tr>\n",
       "\t<tr><th scope=row>power</th><td> 1      </td><td>18.37559</td><td>17      </td><td>18.03920</td></tr>\n",
       "</tbody>\n",
       "</table>\n"
      ],
      "text/latex": [
       "\\begin{tabular}{r|llll}\n",
       "  & Df & Deviance & Resid. Df & Resid. Dev\\\\\n",
       "\\hline\n",
       "\tNULL & NA       &       NA & 19       & 99.99028\\\\\n",
       "\tton &  1       & 63.57549 & 18       & 36.41479\\\\\n",
       "\tpower &  1       & 18.37559 & 17       & 18.03920\\\\\n",
       "\\end{tabular}\n"
      ],
      "text/markdown": [
       "\n",
       "| <!--/--> | Df | Deviance | Resid. Df | Resid. Dev |\n",
       "|---|---|---|---|---|\n",
       "| NULL | NA       |       NA | 19       | 99.99028 |\n",
       "| ton |  1       | 63.57549 | 18       | 36.41479 |\n",
       "| power |  1       | 18.37559 | 17       | 18.03920 |\n",
       "\n"
      ],
      "text/plain": [
       "      Df Deviance Resid. Df Resid. Dev\n",
       "NULL  NA       NA 19        99.99028  \n",
       "ton    1 63.57549 18        36.41479  \n",
       "power  1 18.37559 17        18.03920  "
      ]
     },
     "metadata": {},
     "output_type": "display_data"
    }
   ],
   "source": [
    "anova(ships.glm.no.int)"
   ]
  },
  {
   "cell_type": "markdown",
   "metadata": {},
   "source": [
    "## Non-Interaction Model Analysis of Deviance\n",
    "\n",
    "* Continue to not reject the null as we  don't  have sufficient evidence to  do so - accept the alternative that we don't need additional variables in the saturated model.\n",
    "\n",
    "* How significantis the power term?"
   ]
  },
  {
   "cell_type": "code",
   "execution_count": 88,
   "metadata": {},
   "outputs": [
    {
     "data": {
      "text/html": [
       "1.81366626165482e-05"
      ],
      "text/latex": [
       "1.81366626165482e-05"
      ],
      "text/markdown": [
       "1.81366626165482e-05"
      ],
      "text/plain": [
       "[1] 1.813666e-05"
      ]
     },
     "metadata": {},
     "output_type": "display_data"
    }
   ],
   "source": [
    "pchisq(18.37559, 1, lower.tail = FALSE)"
   ]
  },
  {
   "cell_type": "markdown",
   "metadata": {},
   "source": [
    "Answer: Highly significant. We reject the null hypothesis at the 0.1% level of significance that the reduced model **without** the power term did not need additional variables contained within  the full model. Since the only difference in models is the power term, this variable is therefore highly significant.\n",
    "\n",
    "Intuition here: need different intercepts, but not different slopes.\n",
    "\n",
    "**Since we're trying to predict $Y_{i}$, our prediction is $\\hat{\\mu_{i}}$**\n",
    "\n",
    "> $\\hat{\\mu_{i}} = g^{-1}(\\hat{\\eta_{i}})$\n",
    "\n",
    "> $\\ln(\\hat{\\mu_{i}}) = \\hat{\\eta_{i}}$\n",
    "\n",
    "> $\\hat{\\mu_{i}} = e^{\\hat{\\eta_{i}}}$\n",
    "\n",
    "> $\\hat{\\eta_{i}} = 1.35 + 0.000326 \\times x_{i1}+ 1.045 \\times z_{i1}$\n",
    "\n",
    "> $\\hat{\\mu_{i}} = e^{1.35 + 0.000326 x_{i1}+ 1.045 z_{i1}}$"
   ]
  },
  {
   "cell_type": "code",
   "execution_count": null,
   "metadata": {},
   "outputs": [],
   "source": []
  }
 ],
 "metadata": {
  "kernelspec": {
   "display_name": "R",
   "language": "R",
   "name": "ir"
  },
  "language_info": {
   "codemirror_mode": "r",
   "file_extension": ".r",
   "mimetype": "text/x-r-source",
   "name": "R",
   "pygments_lexer": "r",
   "version": "3.6.1"
  }
 },
 "nbformat": 4,
 "nbformat_minor": 2
}
